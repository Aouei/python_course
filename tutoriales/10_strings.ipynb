{
 "cells": [
  {
   "attachments": {},
   "cell_type": "markdown",
   "metadata": {},
   "source": [
    "# La clase String\n",
    "\n",
    "Como dijimos en la última sección, todo en python en un objeto. <br>\n",
    "En esta sección enumeramos algunos de los métodos estándar de la clase String junto con ejemplos de uso.\n",
    "\n",
    "Para más información es buena idea saber que existe la documentación oficial de python.\n",
    "- https://docs.python.org/3/library/stdtypes.html#str\n",
    "\n",
    "Pero normalmente está mejor usar la web para aprender porque simplifica mucho los conceptos de varios lenguajes:\n",
    "- https://www.w3schools.com/python/python_ref_string.asp"
   ]
  },
  {
   "attachments": {},
   "cell_type": "markdown",
   "metadata": {},
   "source": [
    "## Métodos más comunes"
   ]
  },
  {
   "attachments": {},
   "cell_type": "markdown",
   "metadata": {},
   "source": [
    "### Listado de métodos"
   ]
  },
  {
   "cell_type": "code",
   "execution_count": 1,
   "metadata": {},
   "outputs": [
    {
     "name": "stdout",
     "output_type": "stream",
     "text": [
      "__add__\n",
      "__class__\n",
      "__contains__\n",
      "__delattr__\n",
      "__dir__\n",
      "__doc__\n",
      "__eq__\n",
      "__format__\n",
      "__ge__\n",
      "__getattribute__\n",
      "__getitem__\n",
      "__getnewargs__\n",
      "__gt__\n",
      "__hash__\n",
      "__init__\n",
      "__init_subclass__\n",
      "__iter__\n",
      "__le__\n",
      "__len__\n",
      "__lt__\n",
      "__mod__\n",
      "__mul__\n",
      "__ne__\n",
      "__new__\n",
      "__reduce__\n",
      "__reduce_ex__\n",
      "__repr__\n",
      "__rmod__\n",
      "__rmul__\n",
      "__setattr__\n",
      "__sizeof__\n",
      "__str__\n",
      "__subclasshook__\n",
      "capitalize\n",
      "casefold\n",
      "center\n",
      "count\n",
      "encode\n",
      "endswith\n",
      "expandtabs\n",
      "find\n",
      "format\n",
      "format_map\n",
      "index\n",
      "isalnum\n",
      "isalpha\n",
      "isascii\n",
      "isdecimal\n",
      "isdigit\n",
      "isidentifier\n",
      "islower\n",
      "isnumeric\n",
      "isprintable\n",
      "isspace\n",
      "istitle\n",
      "isupper\n",
      "join\n",
      "ljust\n",
      "lower\n",
      "lstrip\n",
      "maketrans\n",
      "partition\n",
      "removeprefix\n",
      "removesuffix\n",
      "replace\n",
      "rfind\n",
      "rindex\n",
      "rjust\n",
      "rpartition\n",
      "rsplit\n",
      "rstrip\n",
      "split\n",
      "splitlines\n",
      "startswith\n",
      "strip\n",
      "swapcase\n",
      "title\n",
      "translate\n",
      "upper\n",
      "zfill\n"
     ]
    }
   ],
   "source": [
    "for method in dir(str):\n",
    "    print(method)"
   ]
  },
  {
   "attachments": {},
   "cell_type": "markdown",
   "metadata": {},
   "source": [
    "### Uso de algunos a métodos"
   ]
  },
  {
   "cell_type": "code",
   "execution_count": 1,
   "metadata": {},
   "outputs": [
    {
     "name": "stdout",
     "output_type": "stream",
     "text": [
      "capitalize(): Hola\n",
      "\n",
      "center(width[, fillchar]): ___hola__ Longitud total: 9\n",
      "\n",
      "count(sub[, start[, end]]): 1 count() sobre ho: 0\n",
      "\n",
      "endswith(suffix[, start[, end]]): True False\n",
      "\n",
      "startswith(suffix[, start[, end]]): False True\n",
      "\n",
      "find(sub[, start[, end]]): 0 -1\n",
      "\n",
      "format(*args, **kwargs): Mi nombre es Sergio y mi edad es 25\n",
      "\n",
      "format_map(mapping): Mi nombre es Sergio y mi edad es 25\n",
      "\n",
      "lower(): aaa\n",
      "\n",
      "upper(): HOLA\n",
      "\n",
      "split(): ['A', 'B', 'C', 'D', 'E', 'F', 'G', 'H', 'I']\n",
      "\n",
      "join(iterable): A,B,C,D,E\n",
      "\n"
     ]
    }
   ],
   "source": [
    "string_1 = 'hola'\n",
    "string_2 = 'AAA'\n",
    "string_4 = 'Mi nombre es {} y mi edad es {}'\n",
    "string_5 = 'Mi nombre es {nombre} y mi edad es {edad}'\n",
    "string_6 = 'A,B,C,D,E,F,G,H,I'\n",
    "string_7 = ','\n",
    "\n",
    "print('capitalize():', string_1.capitalize(), end='\\n' * 2)\n",
    "print('center(width[, fillchar]):', string_1.center(9, '_'), 'Longitud total:', len(string_1.center(9, '_')), end='\\n' * 2)\n",
    "print('count(sub[, start[, end]]):', string_1.count('a'), f'count() sobre {string_1[0 : 2]}:', string_1.count('a', 0, 2), end='\\n' * 2)\n",
    "print(\"endswith(suffix[, start[, end]]):\", string_1.endswith(''), string_1.endswith('b'), end='\\n' * 2)\n",
    "print(\"startswith(suffix[, start[, end]]):\", string_1.startswith('-'), string_1.startswith('h'), end='\\n' * 2)\n",
    "print(\"find(sub[, start[, end]]):\", string_1.find('h'), string_1.find('a', 1, 2), end='\\n' * 2)\n",
    "print(\"format(*args, **kwargs):\", string_4.format('Sergio', 25), end='\\n' * 2)\n",
    "print(\"format_map(mapping):\", string_5.format_map({'nombre' : 'Sergio', 'edad' : 25}), end='\\n' * 2)\n",
    "print(\"lower():\", string_2.lower(), end='\\n' * 2)\n",
    "print(\"upper():\", string_1.upper(), end='\\n' * 2)\n",
    "print(\"split():\", string_6.split(','), end='\\n' * 2)\n",
    "print(\"join(iterable):\", string_7.join(['A', 'B', 'C', 'D', 'E']), end='\\n' * 2)"
   ]
  },
  {
   "attachments": {},
   "cell_type": "markdown",
   "metadata": {},
   "source": [
    "Estos métodos tienen una peculiaridad interesante además de útil. No son **inplace**. Es decir, cuando hacemos str.método(), ese método devuelve un string con la modicación.\n",
    "<br>Lo que permite concatenar varias llamadas a funciones en una misma línea sin necesidad de crear variables intermedias o cosas de ese estilo."
   ]
  },
  {
   "cell_type": "code",
   "execution_count": 8,
   "metadata": {},
   "outputs": [
    {
     "name": "stdout",
     "output_type": "stream",
     "text": [
      "Abcddede\n"
     ]
    }
   ],
   "source": [
    "string = 'aaaaA_bCsasddede'\n",
    "\n",
    "print( string.lower().capitalize().replace('_', '').replace('a', '').replace('s', '') )"
   ]
  },
  {
   "attachments": {},
   "cell_type": "markdown",
   "metadata": {},
   "source": [
    "### Consultar la documentación\n",
    "\n",
    "No olvidemos que existe la función **help(obj)** que nos devuelve el docstring (documentación) de un obj, función, ..."
   ]
  },
  {
   "cell_type": "code",
   "execution_count": 11,
   "metadata": {},
   "outputs": [
    {
     "name": "stdout",
     "output_type": "stream",
     "text": [
      "Help on wrapper_descriptor:\n",
      "\n",
      "__add__(self, value, /)\n",
      "    Return self+value.\n",
      "\n",
      "--------------------------------------------------\n",
      "\n",
      "Help on method_descriptor:\n",
      "\n",
      "capitalize(self, /)\n",
      "    Return a capitalized version of the string.\n",
      "    \n",
      "    More specifically, make the first character have upper case and the rest lower\n",
      "    case.\n",
      "\n",
      "--------------------------------------------------\n",
      "\n",
      "Help on wrapper_descriptor:\n",
      "\n",
      "__getitem__(self, key, /)\n",
      "    Return self[key].\n",
      "\n",
      "--------------------------------------------------\n",
      "\n",
      "Help on method_descriptor:\n",
      "\n",
      "format(...)\n",
      "    S.format(*args, **kwargs) -> str\n",
      "    \n",
      "    Return a formatted version of S, using substitutions from args and kwargs.\n",
      "    The substitutions are identified by braces ('{' and '}').\n",
      "\n"
     ]
    }
   ],
   "source": [
    "# Help __add__\n",
    "help(str.__add__)\n",
    "\n",
    "print('-' * 50 + '\\n')\n",
    "\n",
    "# Help capitalize\n",
    "help(str.capitalize)\n",
    "\n",
    "print('-' * 50 + '\\n')\n",
    "\n",
    "# Help __getitem__\n",
    "help(str.__getitem__)\n",
    "\n",
    "print('-' * 50 + '\\n')\n",
    "\n",
    "# Help format\n",
    "help(str.format)"
   ]
  },
  {
   "attachments": {},
   "cell_type": "markdown",
   "metadata": {},
   "source": [
    "## Caracteres especiales\n",
    "\n",
    "Cuando usamos strings, a veces necesitamos algo más que letras del abecedario. A veces es necesario añadir algún formato concreto como dividir un texto en varias lineas pero usando la misma cadena de texto, ..."
   ]
  },
  {
   "cell_type": "code",
   "execution_count": 24,
   "metadata": {},
   "outputs": [
    {
     "name": "stdout",
     "output_type": "stream",
     "text": [
      "Inicio\tHola\n",
      "--------------------------------------------------\n",
      "Hola\n",
      "Mundo\n",
      "--------------------------------------------------\n",
      "It's\n",
      "--------------------------------------------------\n",
      "\\AA\n",
      "--------------------------------------------------\n",
      "1 - 2\n",
      "--------------------------------------------------\n"
     ]
    }
   ],
   "source": [
    "tab_string = 'Inicio\\tHola'\n",
    "new_line_string = 'Hola\\nMundo'\n",
    "quote_string = 'It\\'s'\n",
    "backslash_string = '\\\\AA'\n",
    "format_string = f'{1} - {2}' # En vez de usar str.format podemos hacer f'{}' e ir rellenando con la variables que necesitemos\n",
    "\n",
    "print(tab_string, end = f'\\n{\"-\" * 50}\\n')\n",
    "print(new_line_string, end = f'\\n{\"-\" * 50}\\n')\n",
    "print(quote_string, end = f'\\n{\"-\" * 50}\\n')\n",
    "print(backslash_string, end = f'\\n{\"-\" * 50}\\n')\n",
    "print(format_string, end = f'\\n{\"-\" * 50}\\n')"
   ]
  },
  {
   "attachments": {},
   "cell_type": "markdown",
   "metadata": {},
   "source": [
    "## prefijos"
   ]
  },
  {
   "attachments": {},
   "cell_type": "markdown",
   "metadata": {},
   "source": [
    "### f-strings\n",
    "\n",
    "Son una alternativa a la función format(*arg, **kwargs). <br>\n",
    "Actualmente se recomienda más usar f-strings porque se crearon para hacer un código más potente y a su vez más corto"
   ]
  },
  {
   "cell_type": "code",
   "execution_count": 1,
   "metadata": {},
   "outputs": [
    {
     "name": "stdout",
     "output_type": "stream",
     "text": [
      "1\n",
      "variable=1\n"
     ]
    }
   ],
   "source": [
    "variable = 1\n",
    "\n",
    "print( f'{variable}' ) # Mostrar valor de una variable\n",
    "print( f'{variable=}' ) # Mostrar valor de una variable y el nombre de la variable\n",
    "\n",
    "f\"newline: {ord('\\n')}\" # No podemos usar una backslash"
   ]
  },
  {
   "attachments": {},
   "cell_type": "markdown",
   "metadata": {},
   "source": [
    "### r raw-strings\n",
    "\n",
    "Raw (crudo), significa que no que cada caracter se interpreta como lo que es, un caracter. <br>\n",
    "Es decir, la expresión **\\n** genera una nueva línea dentro del string, **\\t** genera el resultado de pulsar la tecla **tabulador**. <br>\n",
    "Sin embargo, si ponemos una **r** delante del string, lo mencionado arriba no ocurre, cada caracter se interpreta como lo que es."
   ]
  },
  {
   "cell_type": "code",
   "execution_count": 15,
   "metadata": {},
   "outputs": [
    {
     "name": "stdout",
     "output_type": "stream",
     "text": [
      "\ta\n",
      "--------------------------------------------------\n",
      "\\ta\n",
      "--------------------------------------------------\n",
      "\n",
      "a\n",
      "--------------------------------------------------\n",
      "\\na\n",
      "--------------------------------------------------\n"
     ]
    }
   ],
   "source": [
    "print( '\\ta', end = f'\\n{\"-\" * 50}\\n')\n",
    "print( r'\\ta', end = f'\\n{\"-\" * 50}\\n')\n",
    "print( '\\na', end = f'\\n{\"-\" * 50}\\n')\n",
    "print( r'\\na', end = f'\\n{\"-\" * 50}\\n')"
   ]
  }
 ],
 "metadata": {
  "kernelspec": {
   "display_name": "course-venv",
   "language": "python",
   "name": "python3"
  },
  "language_info": {
   "codemirror_mode": {
    "name": "ipython",
    "version": 3
   },
   "file_extension": ".py",
   "mimetype": "text/x-python",
   "name": "python",
   "nbconvert_exporter": "python",
   "pygments_lexer": "ipython3",
   "version": "3.10.11"
  },
  "orig_nbformat": 4
 },
 "nbformat": 4,
 "nbformat_minor": 2
}
