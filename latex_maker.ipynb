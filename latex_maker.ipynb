{
 "cells": [
  {
   "cell_type": "code",
   "execution_count": 1,
   "metadata": {},
   "outputs": [],
   "source": [
    "import os\n",
    "import glob\n",
    "\n",
    "jupyter_folders = 'C:/Users/sergi/Documents/repos/python_course/tutoriales'\n",
    "\n",
    "for path in glob.glob(os.path.join(jupyter_folders, '*.ipynb')):\n",
    "    os.system(f'jupyter nbconvert --output-dir={\"C:/Users/sergi/Documents/repos/python_course/latex\"} --to latex {path}')\n",
    "    # os.system(f'jupyter nbconvert --output-dir={\"C:/Users/sergi/Documents/repos/python_course/pdf\"} --to pdf {path}')"
   ]
  }
 ],
 "metadata": {
  "kernelspec": {
   "display_name": "course-venv",
   "language": "python",
   "name": "python3"
  },
  "language_info": {
   "codemirror_mode": {
    "name": "ipython",
    "version": 3
   },
   "file_extension": ".py",
   "mimetype": "text/x-python",
   "name": "python",
   "nbconvert_exporter": "python",
   "pygments_lexer": "ipython3",
   "version": "3.10.11"
  },
  "orig_nbformat": 4
 },
 "nbformat": 4,
 "nbformat_minor": 2
}
