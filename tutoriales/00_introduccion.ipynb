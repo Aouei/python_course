{
 "cells": [
  {
   "cell_type": "markdown",
   "metadata": {},
   "source": [
    "# Introducción\n",
    "\n",
    "## ¿Qué es Python?\n",
    "\n",
    "Python es un lenguaje de programación de uso genérico, orientado a objetos, de alto nivel, fuertemente tipado, dinámico e interpretado.\n",
    "\n",
    "- Uso genérico porque se puede usar para cualquier campo en cualquier máquina\n",
    "- Alto nivel porque es muy parecido al lenguaje natural (a más nivel más parecido al humano)\n",
    "- Fuertemente tipado significa que el tipo de dato de una variable no cambia de forma mágica si no de forma explícita.\n",
    "- Dinámico significa que no necesitamos definir previamente con qué dato vamos a trabajar. Directamente trabajamos con lo que nos venga. \n",
    "- Interpretado significa que al mismo tiempo que el intérprete lee una parte del código, la traduce a 0s y 1s y la ejecuta. Esto hace que sea más lento porque en un lenguaje compilado, el compilador traduce directamente todo a 0s y 1s y ejecuta del tirón sin tener que estar leyendo, traduciendo y ejecutando a cada rato.\n",
    "\n",
    "Este fue creado por Guido van Rossum porque los lenguajes de programación de entonces no hacían frente a algunas de las necesidades que este necesitaba.\n",
    "\n",
    "Su nombre no se debe a la serpiente sino a los Monty Python.\n",
    "\n",
    "## ¿Qué es un código?\n",
    "\n",
    "Un código de python, al igual que otros lenguajes, está constituido por una serie de sentencias ordenadas una debajo de la otra. De la misma forma que escribimos en un folio.\n",
    "\n",
    "Un sentencia es una línea de código que da una orden a la máquina.\n",
    "Dentro de las sentencias tenemos un tipo de especial que se llama comentario. Esta sentencia no hace nada. Solo está para explicar partes del código o aclaraciones necesarias."
   ]
  },
  {
   "cell_type": "code",
   "execution_count": null,
   "metadata": {},
   "outputs": [],
   "source": [
    "# Comentario de linea\n",
    "\"\"\"\n",
    "Comentario de bloque\n",
    "\"\"\"\n",
    "\n",
    "1 + 1"
   ]
  }
 ],
 "metadata": {
  "kernelspec": {
   "display_name": "Python 3 (ipykernel)",
   "language": "python",
   "name": "python3"
  },
  "language_info": {
   "codemirror_mode": {
    "name": "ipython",
    "version": 3
   },
   "file_extension": ".py",
   "mimetype": "text/x-python",
   "name": "python",
   "nbconvert_exporter": "python",
   "pygments_lexer": "ipython3",
   "version": "3.9.13"
  }
 },
 "nbformat": 4,
 "nbformat_minor": 2
}
