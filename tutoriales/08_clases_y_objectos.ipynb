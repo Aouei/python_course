{
 "cells": [
  {
   "attachments": {},
   "cell_type": "markdown",
   "metadata": {},
   "source": [
    "# Clases y Objectos\n",
    "\n",
    "En informática hay mínimo 4 paradigmas o formas de programación:\n",
    "- Imperativa: Indicar en cada momento a la máquina que debe hacer\n",
    "- Procedural: Crear funciones para reducir dimensiónes de código, mejorar la escalabilidad y permitir un código más reusable.\n",
    "- Funcional: Las funciones se definen como si fueran funciones matemáticas. Lo que lleva a una programación generalista en la que vale todo.\n",
    "- Orientación a Objectos: Se define el concepto de **clase** como una representación general de algo específico permitiendo diseñar un código más expresivo."
   ]
  },
  {
   "attachments": {},
   "cell_type": "markdown",
   "metadata": {},
   "source": [
    "## Programación imperativa\n",
    "\n",
    "Todo lo que necesitamos lo programamos nosotros y todo lo que ocurre lo hemos programado nosotros."
   ]
  },
  {
   "cell_type": "code",
   "execution_count": 31,
   "metadata": {},
   "outputs": [
    {
     "data": {
      "text/plain": [
       "(15, 28)"
      ]
     },
     "execution_count": 31,
     "metadata": {},
     "output_type": "execute_result"
    }
   ],
   "source": [
    "numero = 5\n",
    "\n",
    "suma = 0\n",
    "i = 1\n",
    "while i <= numero:\n",
    "    suma = suma + i\n",
    "    i = i + 1\n",
    "\n",
    "\n",
    "numero = 7\n",
    "\n",
    "suma1 = 0\n",
    "i = 1\n",
    "while i <= numero:\n",
    "    suma1 = suma1 + i\n",
    "    i = i + 1\n",
    "\n",
    "suma, suma1"
   ]
  },
  {
   "attachments": {},
   "cell_type": "markdown",
   "metadata": {},
   "source": [
    "## Programación procedural\n",
    "\n",
    "Cuando sea necesario, creamos funciones para no tener que estar a cada rato escribiendo lo mismo. <br>\n",
    "Si lo necesitamos, haremos uso de funciones ya creadas por otras personas como las funciones built-in de python."
   ]
  },
  {
   "cell_type": "code",
   "execution_count": 37,
   "metadata": {},
   "outputs": [
    {
     "data": {
      "text/plain": [
       "(15, 28)"
      ]
     },
     "execution_count": 37,
     "metadata": {},
     "output_type": "execute_result"
    }
   ],
   "source": [
    "def calcular_suma(n : int) -> int:\n",
    "    numeros : list = []\n",
    "    \n",
    "    for i in range(1, n + 1):\n",
    "        numeros = numeros + [i]\n",
    "        \n",
    "    return sum(numeros)\n",
    "\n",
    "calcular_suma(5), calcular_suma(7)"
   ]
  },
  {
   "attachments": {},
   "cell_type": "markdown",
   "metadata": {},
   "source": [
    "## Programación funcional\n",
    "\n",
    "En la programación funcional, las funciones se llevan a otro nivel partiendo del concepto matemático de composición de funciones. <br>\n",
    "\n",
    "Ejemplo:\n",
    "- g(x) = x + 1\n",
    "- f(g(x)) = x - 1\n",
    "- g(1) = 1 + 1 = 2\n",
    "- f(g(1)) = g(1) - 1 = 2 - 1 = 1\n",
    "\n",
    "En python el ejemplo que hemos estado viendo (dado n, calcula suma 1, n + 1) podríamos calcularla combinado funciones."
   ]
  },
  {
   "cell_type": "code",
   "execution_count": 39,
   "metadata": {},
   "outputs": [
    {
     "data": {
      "text/plain": [
       "(15, 28)"
      ]
     },
     "execution_count": 39,
     "metadata": {},
     "output_type": "execute_result"
    }
   ],
   "source": [
    "n = 5\n",
    "suma = sum(range(1, n + 1))\n",
    "\n",
    "n = 7\n",
    "suma1 = sum(range(1, n + 1))\n",
    "\n",
    "suma, suma1"
   ]
  },
  {
   "attachments": {},
   "cell_type": "markdown",
   "metadata": {},
   "source": [
    "## Programación Orientada a Objectos\n",
    "\n",
    "Hasta ahora, los tipos de datos que hemos visto son básicamente números, letras, listas, ...; Lo básico.\n",
    "\n",
    "Sin embargo, hay problemas en donde necesitamos tipos de datos más complejos. <br>\n",
    "Necesitamos un código con más fuerza que nos permita hacer más cosas en pos de resolver el problema al que nos enfrentamos.\n",
    "\n",
    "La Orientación a Objectos en resumen define 2 conceptos nuevos. **Clase** e **Instancia u objeto**. <br>\n",
    "\n",
    "El concepto **Clase** es una nueva estructura que tiene como objetivo representar datos y conceptos más complejos. <br>\n",
    "A veces más cercanos a nuestro mundo y otros más cercanos a un formalismo matématico. Depende del problema. <br>\n",
    "\n",
    "La **representación** se plantea de forma **genérica**. Es decir, si queremos representar un arbol, según el problema necesitaremos más o menos detalle. <br>\n",
    "Una posible representación sería:\n",
    "\n",
    "- Arbol\n",
    "    - tiene_hojas : bool\n",
    "    - color_hojas : Tuple[int, int, int]\n",
    "    - tipo : perenne | caduco\n",
    "    - altura_tronco : float\n",
    "    - color_tronco : Tuple[int, int, int]\n",
    "    - ...\n",
    "\n",
    "Si queremos representar una persona en una web. Es decir, un usuario de Facebook por ejemplo, una posible representación sería:\n",
    "\n",
    "- Usuario\n",
    "    - nombre : string\n",
    "    - alias : string\n",
    "    - edad : int\n",
    "    - amigos : List[Usuario]\n",
    "    - posts : List[Post]\n",
    "    - ...\n",
    "\n",
    "Estas clases, además de servir para representar algo y de tener datos (**atributos**) que definen ese concepto. Tambien pueden ser elementos activos, que hagan cosas (**métodos**). <br>\n",
    "Ejemplos: \n",
    "- Un usuario de Facebook puede **aceptar amigos**, lo que añade un Usuario a la lista de amigos.\n",
    "- **Eliminar amigos**, lo que elimina un Usuario de la lista de amigos.\n",
    "- Un usuario de Facebook puede **publicar** un **Post**, lo que añade un Post a la lista de posts.\n",
    "- Puede **reaccionar** a **Post**, lo que tiene unas implicaciones ...\n",
    "\n",
    "El concepto **Objeto** representa la clase llevada a lo específico.\n",
    "\n",
    "Por ejemplo, en el caso del Usuario. Un objeto es un Usuario con valores concretos para cada carácterística espeficada. <br>\n",
    "Según el tipo de clase puede haber 1 o varios objetos para dicha clase. <br>\n",
    "Siguiendo con la clase Usuario, un objeto sería un Usuario con nombre Maria, ... y otro objeto sería un Usuario con nombre Pepe, ...\n",
    "\n",
    "<img src='..\\imagenes\\08_orientacion_objetos_concepto.jpg' title = 'El toro de Picasso' alt='https://www.pamelaayuso.com/es/blog/el-toro-de-picasso-diseno-optimizado'/>"
   ]
  },
  {
   "attachments": {},
   "cell_type": "markdown",
   "metadata": {},
   "source": [
    "## Ejemplos conceptuales usando diagramas UML (Unified Modeling Language)\n",
    "\n",
    "### Modelo animales\n",
    "<img src='..\\imagenes\\08_orientacion_objetos_animal.png' title = 'El toro de Picasso' alt='https://www.pamelaayuso.com/es/blog/el-toro-de-picasso-diseno-optimizado'/>\n",
    "\n",
    "### Oh no!\n",
    "<img src='..\\imagenes\\08_orientacion_objetos_fuck.png' title = 'El toro de Picasso' alt='https://www.pamelaayuso.com/es/blog/el-toro-de-picasso-diseno-optimizado'/>"
   ]
  },
  {
   "attachments": {},
   "cell_type": "markdown",
   "metadata": {},
   "source": [
    "## ¿Por qué esta chapa?\n",
    "\n",
    "Porque **todo**, **absolutamente todo** en python **es un objecto**.\n",
    "\n",
    "Lo que hasta ahora hemos visto como los ints, floats, funciones, etc... Son objetos.\n",
    "\n",
    "Para demostrarlo, introducimos una nueva función built-in **dir(object = None)**. Esta lista (muestra) los métodos de un objeto."
   ]
  },
  {
   "attachments": {},
   "cell_type": "markdown",
   "metadata": {},
   "source": [
    "### Int no es solo un número entero"
   ]
  },
  {
   "cell_type": "code",
   "execution_count": 14,
   "metadata": {},
   "outputs": [
    {
     "name": "stdout",
     "output_type": "stream",
     "text": [
      "['__abs__', '__add__', '__and__', '__bool__', '__ceil__', '__class__', '__delattr__', '__dir__', '__divmod__', '__doc__', '__eq__', '__float__', '__floor__', '__floordiv__', '__format__', '__ge__', '__getattribute__', '__getnewargs__', '__gt__', '__hash__', '__index__', '__init__', '__init_subclass__', '__int__', '__invert__', '__le__', '__lshift__', '__lt__', '__mod__', '__mul__', '__ne__', '__neg__', '__new__', '__or__', '__pos__', '__pow__', '__radd__', '__rand__', '__rdivmod__', '__reduce__', '__reduce_ex__', '__repr__', '__rfloordiv__', '__rlshift__', '__rmod__', '__rmul__', '__ror__', '__round__', '__rpow__', '__rrshift__', '__rshift__', '__rsub__', '__rtruediv__', '__rxor__', '__setattr__', '__sizeof__', '__str__', '__sub__', '__subclasshook__', '__truediv__', '__trunc__', '__xor__', 'as_integer_ratio', 'bit_count', 'bit_length', 'conjugate', 'denominator', 'from_bytes', 'imag', 'numerator', 'real', 'to_bytes']\n"
     ]
    },
    {
     "data": {
      "text/plain": [
       "(8, 4)"
      ]
     },
     "execution_count": 14,
     "metadata": {},
     "output_type": "execute_result"
    }
   ],
   "source": [
    "print(dir( int ))\n",
    "\n",
    "numero = 8\n",
    "numero.numerator, numero.bit_length()"
   ]
  },
  {
   "attachments": {},
   "cell_type": "markdown",
   "metadata": {},
   "source": [
    "### List no es solo un contenedor ordenado de datos"
   ]
  },
  {
   "cell_type": "code",
   "execution_count": 16,
   "metadata": {},
   "outputs": [
    {
     "name": "stdout",
     "output_type": "stream",
     "text": [
      "['__add__', '__class__', '__class_getitem__', '__contains__', '__delattr__', '__delitem__', '__dir__', '__doc__', '__eq__', '__format__', '__ge__', '__getattribute__', '__getitem__', '__gt__', '__hash__', '__iadd__', '__imul__', '__init__', '__init_subclass__', '__iter__', '__le__', '__len__', '__lt__', '__mul__', '__ne__', '__new__', '__reduce__', '__reduce_ex__', '__repr__', '__reversed__', '__rmul__', '__setattr__', '__setitem__', '__sizeof__', '__str__', '__subclasshook__', 'append', 'clear', 'copy', 'count', 'extend', 'index', 'insert', 'pop', 'remove', 'reverse', 'sort']\n"
     ]
    },
    {
     "data": {
      "text/plain": [
       "[1, 1, 3, 1]"
      ]
     },
     "execution_count": 16,
     "metadata": {},
     "output_type": "execute_result"
    }
   ],
   "source": [
    "print(dir( list ))\n",
    "\n",
    "lista = []\n",
    "lista.append(1)\n",
    "lista.extend([1, 3, 1])\n",
    "lista"
   ]
  },
  {
   "attachments": {},
   "cell_type": "markdown",
   "metadata": {},
   "source": [
    "### Las funciones también son objetos"
   ]
  },
  {
   "cell_type": "code",
   "execution_count": 30,
   "metadata": {},
   "outputs": [
    {
     "name": "stdout",
     "output_type": "stream",
     "text": [
      "['__annotations__', '__builtins__', '__call__', '__class__', '__closure__', '__code__', '__defaults__', '__delattr__', '__dict__', '__dir__', '__doc__', '__eq__', '__format__', '__ge__', '__get__', '__getattribute__', '__globals__', '__gt__', '__hash__', '__init__', '__init_subclass__', '__kwdefaults__', '__le__', '__lt__', '__module__', '__name__', '__ne__', '__new__', '__qualname__', '__reduce__', '__reduce_ex__', '__repr__', '__setattr__', '__sizeof__', '__str__', '__subclasshook__']\n",
      "Nombre:  suma \n",
      "Valores por defecto:  (3,) \n",
      "Clase de origen:  <class 'function'> \n",
      "Tipos de datos anotados por parámetro y retorno:  {'a': <class 'int'>, 'b': <class 'int'>, 'return': <class 'int'>}\n"
     ]
    }
   ],
   "source": [
    "def suma(a : int, b : int = 3) -> int:\n",
    "    return a + b\n",
    "\n",
    "print(dir(suma))\n",
    "print('Nombre: ', suma.__name__, '\\nValores por defecto: ', suma.__defaults__, '\\nClase de origen: ', suma.__class__, '\\nTipos de datos anotados por parámetro y retorno: ', suma.__annotations__)"
   ]
  },
  {
   "attachments": {},
   "cell_type": "markdown",
   "metadata": {},
   "source": [
    "## Resumen\n",
    "\n",
    "- **Clase**: Definición general de un concepto. Modela algo que no existe por defecto en nuestro programa y que lo necesitamos para resolver el problema en cuestión.\n",
    "    - **Atributos**: Datos representan caracteristicas del concepto a modelar\n",
    "    - **Operaciones**: Indica qué puede hacer una clase.\n",
    "        - Ejemplo: Un Animal se puede mover.\n",
    "    - **Métodos**: Es la implementación de una operación. La operación define textualmente qué puede hacer una clase y el método es el código que hace realidad esa operación.\n",
    "\n",
    "- **Objeto o Instancia**: Es una clase con valores concretos para los atributos definidos por la misma.\n",
    "\n",
    "Si tenemos un Objeto y queremos acceder a un atributo o método. La forma es a través de la **notación punto**.\n",
    "\n",
    "- Ejemplos:\n",
    "    - Si tenemos un objeto que se llama gaviota1 y tiene un método que se llama volar(), la forma de hacer volar a la gaviota es **gaviota1.volar()**\n",
    "    - Si tenemos un objeto que se llama satélite2 y tiene un atributo llama tipo_sensor, la forma de saber qué sensor tiene el sensor es **satélite2.sensor**\n",
    "        - Aunque de normal se debe crear un método que devuelve el atributo a consultar. La forma correcta sería **satélite2.get_sensor()** Pero eso no es parte del curso.\n",
    "\n",
    "Si alguien quiere profundizar en cómo se programan clases en python aquí dejo una web buena para empezar y en español.\n",
    "\n",
    "https://j2logo.com/python/tutorial/programacion-orientada-a-objetos/"
   ]
  }
 ],
 "metadata": {
  "kernelspec": {
   "display_name": "course-venv",
   "language": "python",
   "name": "python3"
  },
  "language_info": {
   "codemirror_mode": {
    "name": "ipython",
    "version": 3
   },
   "file_extension": ".py",
   "mimetype": "text/x-python",
   "name": "python",
   "nbconvert_exporter": "python",
   "pygments_lexer": "ipython3",
   "version": "3.10.11"
  },
  "orig_nbformat": 4
 },
 "nbformat": 4,
 "nbformat_minor": 2
}
