{
 "cells": [
  {
   "attachments": {},
   "cell_type": "markdown",
   "metadata": {},
   "source": [
    "# Nombres, Espacios de nombres, Módulos y Paquetes\n",
    "\n",
    "- Un **nombre** es el **identificativo** que le damos a un **objeto** (variable, función, …).\n",
    "- Un **espacio de nombres** es una **colección de nombres** que referencian a objetos.\n",
    "    - Ej: operaciones built-in = {print(), len(), …}\n",
    "- Un **módulo** es un **archivo .py** que **contiene nombres**.\n",
    "- Una **librería** o **paquete** es un **conjunto de módulos**."
   ]
  },
  {
   "attachments": {},
   "cell_type": "markdown",
   "metadata": {},
   "source": [
    "## Alcance de nombres (namespaces)\n",
    "\n",
    "ref: http://www.alan-g.me.uk/tutor/spanish/tutname.htm\n",
    "\n",
    "Es el lugar o espacio dentro de un programa en el cual un nombre (variable, clase, etc.) es válido.\n",
    "\n",
    "En python hay 3 alcances:\n",
    "- Alcance local - nombres definidos dentro de una función o método\n",
    "- Alcande de módulo - nombres definidos dentro de un archivo\n",
    "- Alcance interno - nombres definidos dentro de Python (están siempre disponibles)"
   ]
  },
  {
   "cell_type": "code",
   "execution_count": 3,
   "metadata": {},
   "outputs": [
    {
     "name": "stdout",
     "output_type": "stream",
     "text": [
      "W=5, Y=3\n",
      "2 x 1 es menor o igual que 1 + 5\n",
      "W=6, Y=3\n",
      "2 x 20 es mayor que 20 + 5\n",
      "W=25, Y=3\n"
     ]
    }
   ],
   "source": [
    "# variables con alcance de módulo\n",
    "W = 5\n",
    "Y = 3\n",
    " \n",
    "#los parámetros son como variables de la función \n",
    "#por eso X tiene alcance local\n",
    "def spam(X):\n",
    "    \n",
    "    #decirle a la función que busque en el nivel de módulo y que no cree su propia variable W\n",
    "    global W\n",
    "\n",
    "    Z = X*2 # crea nueva variable local Z\n",
    "    W = X+5 # usa la variable W del módulo (global)\n",
    "\n",
    "    if Z > W:\n",
    "        # print pertenece al alcance interno de Python\n",
    "        print( f\"2 x {X} es mayor que {X} + 5\")\n",
    "        return Z\n",
    "    else:\n",
    "        print( f\"2 x {X} es menor o igual que {X} + 5\")\n",
    "        return Y # no exite variable Y local, por lo que usa la variable Y del módulo\n",
    "\n",
    "print(f'{W=}, {Y=}')\n",
    "spam(1)\n",
    "print(f'{W=}, {Y=}')\n",
    "spam(20)\n",
    "print(f'{W=}, {Y=}')"
   ]
  },
  {
   "attachments": {},
   "cell_type": "markdown",
   "metadata": {},
   "source": [
    "### Ejemplo con bucles"
   ]
  },
  {
   "cell_type": "code",
   "execution_count": null,
   "metadata": {},
   "outputs": [],
   "source": [
    "x = 0\n",
    "\n",
    "for x in range(10):\n",
    "    pass\n",
    "\n",
    "print(x)"
   ]
  },
  {
   "attachments": {},
   "cell_type": "markdown",
   "metadata": {},
   "source": [
    "## Uso de módulos\n",
    "\n",
    "Vamos a introducir algunos de los módulos estándar o que vienen por defecto en Python. <br>\n",
    "En secciones siguientes veremos algunos módulos típicamente usando para computación con grandes cantidades de datos, ciencia, ...\n",
    "\n",
    "Aprovechando que en la próxima sección veremos como trabajar con archivos, abrir un archivo, escribir y demás, vamos a introducir brevemente cómo se importa el módulo **os** para poder usarlo en nuestro código.\n",
    "\n",
    "Para importar un módulo, ya sea estándar o propio (recordemos cualquier archivo .py ya es un módulo) podemos hacer escribir cualquiera de las siguientes opciones."
   ]
  },
  {
   "attachments": {},
   "cell_type": "markdown",
   "metadata": {},
   "source": [
    "## import module_name | import module_name as alias\n",
    "\n",
    "Para importar un módulo usamos la palabra **import**. <br>\n",
    "Cuando importamos un módulo o un nombre contenido en ese módulo, podemos asignar cada elemento importado un alias. <br>\n",
    "De esta forma evitamos problemas si queremos importar un mismo nombre contenido en varios módulos, podemos evitar conflictos, etc..."
   ]
  },
  {
   "cell_type": "code",
   "execution_count": 4,
   "metadata": {},
   "outputs": [],
   "source": [
    "import os\n",
    "import os as alias"
   ]
  },
  {
   "attachments": {},
   "cell_type": "markdown",
   "metadata": {},
   "source": [
    "## from module_name import name | from module_name import name as alias\n",
    "\n",
    "Para importar nombres de un módulo, usamos la palabra **from**. Esto importa aquellos nombres que hemos especificado pero no el módulo en sí."
   ]
  },
  {
   "cell_type": "code",
   "execution_count": 5,
   "metadata": {},
   "outputs": [
    {
     "data": {
      "text/plain": [
       "('__main__', 'os')"
      ]
     },
     "execution_count": 5,
     "metadata": {},
     "output_type": "execute_result"
    }
   ],
   "source": [
    "from os import path\n",
    "from os import path as ruta\n",
    "from os import path, __name__ as module_name\n",
    "from os.path import basename\n",
    "\n",
    "__name__, module_name"
   ]
  },
  {
   "attachments": {},
   "cell_type": "markdown",
   "metadata": {},
   "source": [
    "## from module_name import *\n",
    "\n",
    "Esta sentencia import todos los nombres de una módulo. Pero, no es buena práctica porque un módulo puede ser muy largo (pesado) y es importante saber qué tenemos a nuestra disposición y qué estamos usando. <br>\n",
    "Si no estamos usando un módulo, es mejor no importarlo."
   ]
  },
  {
   "cell_type": "code",
   "execution_count": 1,
   "metadata": {},
   "outputs": [
    {
     "data": {
      "text/plain": [
       "['In',\n",
       " 'Out',\n",
       " '_',\n",
       " '__',\n",
       " '___',\n",
       " '__builtin__',\n",
       " '__builtins__',\n",
       " '__doc__',\n",
       " '__loader__',\n",
       " '__name__',\n",
       " '__package__',\n",
       " '__spec__',\n",
       " '__vsc_ipynb_file__',\n",
       " '_dh',\n",
       " '_i',\n",
       " '_i1',\n",
       " '_ih',\n",
       " '_ii',\n",
       " '_iii',\n",
       " '_oh',\n",
       " 'exit',\n",
       " 'get_ipython',\n",
       " 'open',\n",
       " 'quit']"
      ]
     },
     "execution_count": 1,
     "metadata": {},
     "output_type": "execute_result"
    }
   ],
   "source": [
    "# Aplicar dir() nos devuelve todos los nombres que hay en un archivo\n",
    "dir()"
   ]
  },
  {
   "cell_type": "code",
   "execution_count": 2,
   "metadata": {},
   "outputs": [
    {
     "data": {
      "text/plain": [
       "['DirEntry',\n",
       " 'F_OK',\n",
       " 'In',\n",
       " 'O_APPEND',\n",
       " 'O_BINARY',\n",
       " 'O_CREAT',\n",
       " 'O_EXCL',\n",
       " 'O_NOINHERIT',\n",
       " 'O_RANDOM',\n",
       " 'O_RDONLY',\n",
       " 'O_RDWR',\n",
       " 'O_SEQUENTIAL',\n",
       " 'O_SHORT_LIVED',\n",
       " 'O_TEMPORARY',\n",
       " 'O_TEXT',\n",
       " 'O_TRUNC',\n",
       " 'O_WRONLY',\n",
       " 'Out',\n",
       " 'P_DETACH',\n",
       " 'P_NOWAIT',\n",
       " 'P_NOWAITO',\n",
       " 'P_OVERLAY',\n",
       " 'P_WAIT',\n",
       " 'R_OK',\n",
       " 'SEEK_CUR',\n",
       " 'SEEK_END',\n",
       " 'SEEK_SET',\n",
       " 'TMP_MAX',\n",
       " 'W_OK',\n",
       " 'X_OK',\n",
       " '_',\n",
       " '_1',\n",
       " '__',\n",
       " '___',\n",
       " '__builtin__',\n",
       " '__builtins__',\n",
       " '__doc__',\n",
       " '__loader__',\n",
       " '__name__',\n",
       " '__package__',\n",
       " '__spec__',\n",
       " '__vsc_ipynb_file__',\n",
       " '_dh',\n",
       " '_exit',\n",
       " '_i',\n",
       " '_i1',\n",
       " '_i2',\n",
       " '_ih',\n",
       " '_ii',\n",
       " '_iii',\n",
       " '_oh',\n",
       " 'abort',\n",
       " 'access',\n",
       " 'altsep',\n",
       " 'chdir',\n",
       " 'chmod',\n",
       " 'close',\n",
       " 'closerange',\n",
       " 'cpu_count',\n",
       " 'curdir',\n",
       " 'defpath',\n",
       " 'device_encoding',\n",
       " 'devnull',\n",
       " 'dup',\n",
       " 'dup2',\n",
       " 'environ',\n",
       " 'error',\n",
       " 'execl',\n",
       " 'execle',\n",
       " 'execlp',\n",
       " 'execlpe',\n",
       " 'execv',\n",
       " 'execve',\n",
       " 'execvp',\n",
       " 'execvpe',\n",
       " 'exit',\n",
       " 'extsep',\n",
       " 'fdopen',\n",
       " 'fsdecode',\n",
       " 'fsencode',\n",
       " 'fspath',\n",
       " 'fstat',\n",
       " 'fsync',\n",
       " 'ftruncate',\n",
       " 'get_exec_path',\n",
       " 'get_handle_inheritable',\n",
       " 'get_inheritable',\n",
       " 'get_ipython',\n",
       " 'get_terminal_size',\n",
       " 'getcwd',\n",
       " 'getcwdb',\n",
       " 'getenv',\n",
       " 'getlogin',\n",
       " 'getpid',\n",
       " 'getppid',\n",
       " 'isatty',\n",
       " 'kill',\n",
       " 'linesep',\n",
       " 'link',\n",
       " 'listdir',\n",
       " 'lseek',\n",
       " 'lstat',\n",
       " 'makedirs',\n",
       " 'mkdir',\n",
       " 'name',\n",
       " 'open',\n",
       " 'pardir',\n",
       " 'path',\n",
       " 'pathsep',\n",
       " 'pipe',\n",
       " 'popen',\n",
       " 'putenv',\n",
       " 'quit',\n",
       " 'read',\n",
       " 'readlink',\n",
       " 'remove',\n",
       " 'removedirs',\n",
       " 'rename',\n",
       " 'renames',\n",
       " 'replace',\n",
       " 'rmdir',\n",
       " 'scandir',\n",
       " 'sep',\n",
       " 'set_handle_inheritable',\n",
       " 'set_inheritable',\n",
       " 'spawnl',\n",
       " 'spawnle',\n",
       " 'spawnv',\n",
       " 'spawnve',\n",
       " 'startfile',\n",
       " 'stat',\n",
       " 'stat_result',\n",
       " 'statvfs_result',\n",
       " 'strerror',\n",
       " 'supports_bytes_environ',\n",
       " 'symlink',\n",
       " 'system',\n",
       " 'terminal_size',\n",
       " 'times',\n",
       " 'times_result',\n",
       " 'truncate',\n",
       " 'umask',\n",
       " 'uname_result',\n",
       " 'unlink',\n",
       " 'unsetenv',\n",
       " 'urandom',\n",
       " 'utime',\n",
       " 'waitpid',\n",
       " 'waitstatus_to_exitcode',\n",
       " 'walk',\n",
       " 'write']"
      ]
     },
     "execution_count": 2,
     "metadata": {},
     "output_type": "execute_result"
    }
   ],
   "source": [
    "from os import *\n",
    "dir()"
   ]
  }
 ],
 "metadata": {
  "kernelspec": {
   "display_name": "course-venv",
   "language": "python",
   "name": "python3"
  },
  "language_info": {
   "codemirror_mode": {
    "name": "ipython",
    "version": 3
   },
   "file_extension": ".py",
   "mimetype": "text/x-python",
   "name": "python",
   "nbconvert_exporter": "python",
   "pygments_lexer": "ipython3",
   "version": "3.10.11"
  },
  "orig_nbformat": 4
 },
 "nbformat": 4,
 "nbformat_minor": 2
}
