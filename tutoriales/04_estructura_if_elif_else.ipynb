{
 "cells": [
  {
   "attachments": {},
   "cell_type": "markdown",
   "metadata": {},
   "source": [
    "# Control de flujo. Estructura if-elif-else\n",
    "\n",
    "Normalmente, nuestro código se ejecuta de arriba a abajo linea por linea o sentencia por sentencia. <br>\n",
    "Sin embargo, a veces es necesario ejecutar partes de nuestro código bajo ciertas condiciones. <br>\n",
    "De esta forma conseguimos que algunas partes que no deben de ejecutarse siempre no se ejecuten.\n",
    "\n",
    "La sintaxis es: <br>\n",
    "- if condition: <br>\n",
    "    - code <br>\n",
    "- elif condition: <br>\n",
    "    - code <br>\n",
    "- else: <br>\n",
    "    - code <br>\n",
    "\n",
    "Algunos ejemplos son:\n",
    "- No ejecutar un código si los datos introducidos no son válidos.\n",
    "- Si un dato tiene un valor concreto, ejecutar una sección del código concreta."
   ]
  },
  {
   "attachments": {},
   "cell_type": "markdown",
   "metadata": {},
   "source": [
    "## Ejemplo 1 | if\n",
    "\n",
    "Si un dato está entre 0 y 10 lo elevamos al cuadrado. En otro caso nada."
   ]
  },
  {
   "cell_type": "code",
   "execution_count": 1,
   "metadata": {},
   "outputs": [
    {
     "data": {
      "text/plain": [
       "(-1, 9)"
      ]
     },
     "execution_count": 1,
     "metadata": {},
     "output_type": "execute_result"
    }
   ],
   "source": [
    "n = -1\n",
    "\n",
    "if 0 <= n <= 10:\n",
    "    n = n ** 2\n",
    "\n",
    "###########################################################################################################################\n",
    "\n",
    "n1 = 3\n",
    "\n",
    "if 0 <= n1 <= 10:\n",
    "    n1 = n1 ** 2\n",
    "\n",
    "n, n1"
   ]
  },
  {
   "attachments": {},
   "cell_type": "markdown",
   "metadata": {},
   "source": [
    "## Ejemplo 2 | if-else\n",
    "\n",
    "Si un dato está entre 0 y 10 lo elevamos al cuadrado. En otro caso al cubo."
   ]
  },
  {
   "cell_type": "code",
   "execution_count": 2,
   "metadata": {},
   "outputs": [
    {
     "data": {
      "text/plain": [
       "(-8, 9)"
      ]
     },
     "execution_count": 2,
     "metadata": {},
     "output_type": "execute_result"
    }
   ],
   "source": [
    "n = -2\n",
    "\n",
    "if 0 <= n <= 10:\n",
    "    n = n ** 2\n",
    "else:\n",
    "    n **= 3\n",
    "\n",
    "###########################################################################################################################\n",
    "\n",
    "n1 = 3\n",
    "\n",
    "if 0 <= n1 <= 10:\n",
    "    n1 = n1 ** 2\n",
    "else:\n",
    "    n **= 3\n",
    "\n",
    "n, n1"
   ]
  },
  {
   "attachments": {},
   "cell_type": "markdown",
   "metadata": {},
   "source": [
    "## Ejemplo 3 | if-elif-else\n",
    "\n",
    "Si una lista está vacía, creamos una lista con un elemento cualquiera. <br>\n",
    "Si no esta vacía y contiene solo el numero 1, vaciamos la lista. <br>\n",
    "En otro caso creamos una lista con los numeros desde el 0 hasta el 9. <br>"
   ]
  },
  {
   "cell_type": "code",
   "execution_count": 3,
   "metadata": {},
   "outputs": [
    {
     "data": {
      "text/plain": [
       "([1], [], [0, 1, 2, 3, 4, 5, 6, 7, 8, 9])"
      ]
     },
     "execution_count": 3,
     "metadata": {},
     "output_type": "execute_result"
    }
   ],
   "source": [
    "lista = []\n",
    "\n",
    "if lista == []:\n",
    "    lista = [1]\n",
    "elif lista == [1]:\n",
    "    lista = []\n",
    "else:\n",
    "    lista = [0, 1, 2, 3, 4, 5, 6, 7, 8, 9]\n",
    "\n",
    "###########################################################################################################################\n",
    "\n",
    "lista1 = [1]\n",
    "\n",
    "if lista1 == []:\n",
    "    lista1 = [1]\n",
    "elif lista1 == [1]:\n",
    "    lista1 = []\n",
    "else:\n",
    "    lista1 = [0, 1, 2, 3, 4, 5, 6, 7, 8, 9]\n",
    "\n",
    "###########################################################################################################################\n",
    "\n",
    "lista2 = [2]\n",
    "\n",
    "if lista2 == []:\n",
    "    lista2 = [1]\n",
    "elif lista2 == [1]:\n",
    "    lista2 = []\n",
    "else:\n",
    "    lista2 = [0, 1, 2, 3, 4, 5, 6, 7, 8, 9]\n",
    "\n",
    "lista, lista1, lista2"
   ]
  },
  {
   "attachments": {},
   "cell_type": "markdown",
   "metadata": {},
   "source": [
    "## Ejemplo 4 | if\n",
    "\n",
    "Si un dato está dentro de un conjunto, eliminamos ese dato."
   ]
  },
  {
   "cell_type": "code",
   "execution_count": 4,
   "metadata": {},
   "outputs": [
    {
     "data": {
      "text/plain": [
       "{0, 2, 3, 4, 5, 6, 7, 8, 9}"
      ]
     },
     "execution_count": 4,
     "metadata": {},
     "output_type": "execute_result"
    }
   ],
   "source": [
    "conjunto = {0, 1, 2, 3, 4, 5, 6, 7, 8, 9, 'a', (1, 2)}\n",
    "\n",
    "dato = 1\n",
    "if dato in conjunto:\n",
    "    conjunto = conjunto - {dato}\n",
    "\n",
    "###########################################################################################################################\n",
    "\n",
    "dato = 'a'\n",
    "if dato in conjunto:\n",
    "    conjunto = conjunto - {dato}\n",
    "\n",
    "###########################################################################################################################\n",
    "\n",
    "dato = -1\n",
    "if dato in conjunto:\n",
    "    conjunto = conjunto - {dato}\n",
    "\n",
    "###########################################################################################################################\n",
    "\n",
    "dato = (1, 2)\n",
    "if dato in conjunto:\n",
    "    conjunto = conjunto - {dato}\n",
    "\n",
    "conjunto"
   ]
  },
  {
   "attachments": {},
   "cell_type": "markdown",
   "metadata": {},
   "source": [
    "# Ejemplo 5 | Combinación de condiciones\n",
    "\n",
    "Este ejempo muetra un caso en el que necesitamos **anidar** varias condiciones (estructura if-elif-else). <br>\n",
    "Además, debemos usar operaciones (and, or, not) cuando tenemos 2 o más condiciones dentro de un if o de un elif.\n",
    "\n",
    "- Si un número es menor que 100\n",
    "    - Si es par **y** multiplo de 5 entonces lo elevamos al cuadrado. <br>\n",
    "    - Si es multiplo de 3 le restamos 3. <br>\n",
    "    - En otro caso le cambiamos el signo.\n",
    "- Si es mayor que 100 pero menor que 1000\n",
    "    - Si es impar lo multiplicamos por 2\n",
    "    - En otro caso no hacemos nada\n",
    "- En otro caso no hacemos nada"
   ]
  },
  {
   "cell_type": "code",
   "execution_count": 5,
   "metadata": {},
   "outputs": [
    {
     "data": {
      "text/plain": [
       "(8, -12, 100)"
      ]
     },
     "execution_count": 5,
     "metadata": {},
     "output_type": "execute_result"
    }
   ],
   "source": [
    "numero = 11\n",
    "\n",
    "if numero < 100:\n",
    "    if numero % 2 == 0 and numero % 5 == 0:\n",
    "        numero = numero ** 2\n",
    "    elif numero % 3:\n",
    "        numero -= 3\n",
    "    else:\n",
    "        numero = -numero\n",
    "elif 100 < numero < 1000:\n",
    "    if numero % 2 == 0:\n",
    "        numero *= 2\n",
    "\n",
    "###########################################################################################################################\n",
    "\n",
    "numero1 = 12\n",
    "\n",
    "if numero1 < 100:\n",
    "    if numero1 % 2 == 0 and numero1 % 5 == 0:\n",
    "        numero1 = numero1 ** 2\n",
    "    elif numero1 % 3:\n",
    "        numero1 -= 3\n",
    "    else:\n",
    "        numero1 = -numero1\n",
    "elif 100 < numero1 < 1000:\n",
    "    if numero1 % 2 == 0:\n",
    "        numero1 *= 2\n",
    "\n",
    "###########################################################################################################################\n",
    "\n",
    "numero2 = 10\n",
    "\n",
    "if numero2 < 100:\n",
    "    if numero2 % 2 == 0 and numero2 % 5 == 0:\n",
    "        numero2 = numero2 ** 2\n",
    "    elif numero2 % 3:\n",
    "        numero2 -= 3\n",
    "    else:\n",
    "        numero2 = -numero2\n",
    "elif 100 < numero2 < 1000:\n",
    "    if numero2 % 2 == 0:\n",
    "        numero2 *= 2\n",
    "\n",
    "###########################################################################################################################\n",
    "\n",
    "\n",
    "numero, numero1, numero2"
   ]
  }
 ],
 "metadata": {
  "kernelspec": {
   "display_name": "Python 3",
   "language": "python",
   "name": "python3"
  },
  "language_info": {
   "codemirror_mode": {
    "name": "ipython",
    "version": 3
   },
   "file_extension": ".py",
   "mimetype": "text/x-python",
   "name": "python",
   "nbconvert_exporter": "python",
   "pygments_lexer": "ipython3",
   "version": "3.10.11"
  },
  "orig_nbformat": 4
 },
 "nbformat": 4,
 "nbformat_minor": 2
}
