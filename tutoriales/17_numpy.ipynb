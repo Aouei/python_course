{
 "cells": [
  {
   "attachments": {},
   "cell_type": "markdown",
   "metadata": {},
   "source": [
    "# Numpy\n",
    "\n",
    "En python, al ser todo objetos, tiene el gran inconveniente de que los datos pesan muchos. <br>\n",
    "Para representar un número entero necesitamos muchos bytes dado que tenemos que almacenar el número en sí junto con los métodos de la clase entero. Y así con el resto de datos.\n",
    "\n",
    "Numpy (Numerical Python), es un módulo optimizado de tal forma que podemos realizar operaciones matriciales con más rapidez.\n",
    "\n",
    "El principal tipo de dato que ofrece Numpy es ndarray (array o lista n-dimensional). Esta tiene la característica principal de que solo puede contener datos de un mismo tipo, números, letras, etc...; Pero no mezclado."
   ]
  },
  {
   "attachments": {},
   "cell_type": "markdown",
   "metadata": {},
   "source": [
    "## Definición de ndarray según ChatGTP.\n",
    "\n",
    "Para más info ver documentación oficial: https://numpy.org/doc/stable/\n",
    "\n",
    "El objeto ndarray de NumPy tiene varios elementos importantes que te permiten acceder y manipular los datos almacenados en arreglos multidimensionales. Aquí tienes una lista breve de algunos de los elementos más importantes del objeto ndarray:\n",
    "\n",
    "1. `shape`: Es una propiedad que devuelve la forma (dimensiones) del arreglo NumPy. Es una tupla que indica el tamaño de cada dimensión. Por ejemplo, `array.shape` devuelve `(3, 4)` para un arreglo de 3 filas y 4 columnas.\n",
    "\n",
    "2. `dtype`: Es una propiedad que especifica el tipo de datos de los elementos en el arreglo. Por ejemplo, `array.dtype` devuelve `int32` para un arreglo de enteros de 32 bits.\n",
    "\n",
    "3. Indexación de elementos: Puedes acceder a elementos individuales del arreglo utilizando corchetes `[ ]` y proporcionando los índices correspondientes a cada dimensión. Por ejemplo, `array[2, 1]` accede al elemento en la tercera fila y segunda columna.\n",
    "\n",
    "4. Segmentación de arreglos: Puedes acceder a subarreglos o segmentos del arreglo utilizando la notación de segmentación. Por ejemplo, `array[:, 1:3]` accede a todas las filas y a las columnas 2 y 3 del arreglo.\n",
    "\n",
    "5. Operaciones matemáticas: Puedes realizar operaciones matemáticas y funciones en los arreglos NumPy, como suma, resta, multiplicación, entre otras. Estas operaciones se aplican de forma vectorizada, lo que significa que se aplican a todos los elementos del arreglo de manera eficiente.\n",
    "\n",
    "6. Funciones de agregación: NumPy proporciona funciones de agregación que operan en arreglos, como `sum()`, `mean()`, `max()`, `min()`, entre otras. Estas funciones calculan agregados a lo largo de una dimensión o de todo el arreglo.\n",
    "\n",
    "7. Broadcasting: NumPy permite el broadcasting, que es una regla de compatibilidad de forma que permite operar entre arreglos con formas diferentes pero compatibles. Esto facilita las operaciones entre arreglos de diferentes dimensiones sin la necesidad de copiar datos.\n",
    "\n",
    "Estos son solo algunos elementos importantes del objeto ndarray en NumPy. La biblioteca ofrece muchas más funcionalidades y métodos para trabajar con arreglos multidimensionales de manera eficiente y conveniente."
   ]
  },
  {
   "attachments": {},
   "cell_type": "markdown",
   "metadata": {},
   "source": [
    "## Creación básica de una ndarray"
   ]
  },
  {
   "cell_type": "code",
   "execution_count": 10,
   "metadata": {},
   "outputs": [
    {
     "name": "stdout",
     "output_type": "stream",
     "text": [
      "(5,)\n",
      "(3, 3)\n",
      "(3, 3)\n",
      "(2, 4)\n"
     ]
    }
   ],
   "source": [
    "import numpy as np\n",
    "\n",
    "# Crear un ndarray de una dimensión\n",
    "arr1d = np.array([1, 2, 3, 4, 5])\n",
    "print(arr1d.shape)\n",
    "\n",
    "# Crear un ndarray de dos dimensiones\n",
    "arr2d = np.array([[1, 2, 3], [4, 5, 6], [7, 8, 9]])\n",
    "print(arr2d.shape)\n",
    "\n",
    "# Crear un ndarray de ceros de tamaño 3x3\n",
    "zeros = np.zeros((3, 3))\n",
    "print(zeros.shape)\n",
    "\n",
    "# Crear un ndarray de unos de tamaño 2x4\n",
    "ones = np.ones((2, 4))\n",
    "print(ones.shape)"
   ]
  },
  {
   "attachments": {},
   "cell_type": "markdown",
   "metadata": {},
   "source": [
    "## Operaciones matemáticas básicas"
   ]
  },
  {
   "cell_type": "code",
   "execution_count": 12,
   "metadata": {},
   "outputs": [
    {
     "name": "stdout",
     "output_type": "stream",
     "text": [
      "[3 4 5 6 7]\n",
      "[ 1  4  9 16 25]\n",
      "3.0\n"
     ]
    }
   ],
   "source": [
    "import numpy as np\n",
    "\n",
    "arr = np.array([1, 2, 3, 4, 5])\n",
    "\n",
    "# Sumar 2 a cada elemento del ndarray\n",
    "arr_sum = arr + 2\n",
    "print(arr_sum)\n",
    "\n",
    "# Elevar al cuadrado cada elemento del ndarray\n",
    "arr_square = arr ** 2\n",
    "print(arr_square)\n",
    "\n",
    "# Calcular la media de los elementos del ndarray\n",
    "arr_mean = np.mean(arr)\n",
    "print(arr_mean)"
   ]
  },
  {
   "attachments": {},
   "cell_type": "markdown",
   "metadata": {},
   "source": [
    "## Acceso a elementos particulares"
   ]
  },
  {
   "cell_type": "code",
   "execution_count": 16,
   "metadata": {},
   "outputs": [
    {
     "name": "stdout",
     "output_type": "stream",
     "text": [
      "1\n",
      "[2 3]\n",
      "[4 5]\n",
      "2\n"
     ]
    }
   ],
   "source": [
    "import numpy as np\n",
    "\n",
    "arr = np.array([1, 2, 3, 4, 5])\n",
    "\n",
    "# Obtener el primer elemento del ndarray\n",
    "first_element = arr[0]\n",
    "print(first_element)\n",
    "\n",
    "# Obtener los elementos del ndarray desde el índice 1 al 3 (excluyendo el 3)\n",
    "subset = arr[1:3]\n",
    "print(subset)\n",
    "\n",
    "# Obtener los elementos mayores que 3\n",
    "greater_than_3 = arr[arr > 3]\n",
    "print(greater_than_3)\n",
    "\n",
    "# Elemento en la fila 0 y columna 1\n",
    "arr2d = np.array([[1, 2, 3], [4, 5, 6], [7, 8, 9]])\n",
    "print(arr2d[0, 1])"
   ]
  },
  {
   "attachments": {},
   "cell_type": "markdown",
   "metadata": {},
   "source": [
    "## Álgebra lineal"
   ]
  },
  {
   "cell_type": "code",
   "execution_count": 19,
   "metadata": {},
   "outputs": [
    {
     "name": "stdout",
     "output_type": "stream",
     "text": [
      "[[19 22]\n",
      " [43 50]]\n",
      "[[-2.   1. ]\n",
      " [ 1.5 -0.5]]\n",
      "[1.6 0.6]\n"
     ]
    }
   ],
   "source": [
    "import numpy as np\n",
    "\n",
    "# Producto de dos matrices\n",
    "A = np.array([[1, 2], [3, 4]])\n",
    "B = np.array([[5, 6], [7, 8]])\n",
    "C = np.dot(A, B)\n",
    "print(C)\n",
    "\n",
    "# Cálculo de la inversa de una matriz\n",
    "A_inv = np.linalg.inv(A)\n",
    "print(A_inv)\n",
    "\n",
    "# Resolver un sistema de ecuaciones lineales\n",
    "coefficients = np.array([[2, 3], [1, -1]])\n",
    "constants = np.array([5, 1])\n",
    "solution = np.linalg.solve(coefficients, constants)\n",
    "\n",
    "print(solution)"
   ]
  },
  {
   "attachments": {},
   "cell_type": "markdown",
   "metadata": {},
   "source": [
    "## Diferencia usar Numpy y no usar Numpy"
   ]
  },
  {
   "cell_type": "code",
   "execution_count": 7,
   "metadata": {},
   "outputs": [
    {
     "name": "stdout",
     "output_type": "stream",
     "text": [
      "Tiempo de ejecución en segundos sin NumPy: 0.4055674076080322\n",
      "Tiempo de ejecución en segundos con NumPy: 0.0\n"
     ]
    }
   ],
   "source": [
    "import time\n",
    "import numpy as np\n",
    "\n",
    "# Tamaño de la matriz\n",
    "n = 100\n",
    "\n",
    "# Crear matrices aleatorias sin NumPy\n",
    "start_time = time.time()\n",
    "\n",
    "matrix_a = [[i + j for j in range(n)] for i in range(n)]\n",
    "matrix_b = [[i - j for j in range(n)] for i in range(n)]\n",
    "\n",
    "result = [[0] * n for _ in range(n)]\n",
    "for i in range(n):\n",
    "    for j in range(n):\n",
    "        for k in range(n):\n",
    "            result[i][j] += matrix_a[i][k] * matrix_b[k][j]\n",
    "\n",
    "end_time = time.time()\n",
    "execution_time = end_time - start_time\n",
    "print(\"Tiempo de ejecución en segundos sin NumPy:\", execution_time)\n",
    "\n",
    "# Crear matrices aleatorias con NumPy\n",
    "start_time = time.time()\n",
    "\n",
    "array_a = np.random.rand(n, n)\n",
    "array_b = np.random.rand(n, n)\n",
    "\n",
    "result_array = np.dot(array_a, array_b)\n",
    "\n",
    "end_time = time.time()\n",
    "execution_time = end_time - start_time\n",
    "print(\"Tiempo de ejecución en segundos con NumPy:\", execution_time)"
   ]
  }
 ],
 "metadata": {
  "kernelspec": {
   "display_name": "course-venv",
   "language": "python",
   "name": "python3"
  },
  "language_info": {
   "codemirror_mode": {
    "name": "ipython",
    "version": 3
   },
   "file_extension": ".py",
   "mimetype": "text/x-python",
   "name": "python",
   "nbconvert_exporter": "python",
   "pygments_lexer": "ipython3",
   "version": "3.10.11"
  },
  "orig_nbformat": 4
 },
 "nbformat": 4,
 "nbformat_minor": 2
}
