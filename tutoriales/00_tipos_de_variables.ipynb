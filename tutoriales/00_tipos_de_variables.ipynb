{
 "cells": [
  {
   "attachments": {},
   "cell_type": "markdown",
   "metadata": {},
   "source": [
    "# Variable Types\n",
    "\n",
    "<img src='..\\imagenes\\00_tipos_de_variables.jpg' title = 'GeeksforGeeks'/>"
   ]
  },
  {
   "attachments": {},
   "cell_type": "markdown",
   "metadata": {},
   "source": [
    "## int\n",
    "\n",
    "Representa los números enteros. ..., -1, 0, 1, ..."
   ]
  },
  {
   "cell_type": "code",
   "execution_count": 1,
   "metadata": {},
   "outputs": [
    {
     "data": {
      "text/plain": [
       "30"
      ]
     },
     "execution_count": 1,
     "metadata": {},
     "output_type": "execute_result"
    }
   ],
   "source": [
    "int1 = 1\n",
    "int2 = -1\n",
    "int3 = 30\n",
    "\n",
    "int3"
   ]
  },
  {
   "attachments": {},
   "cell_type": "markdown",
   "metadata": {},
   "source": [
    "## float\n",
    "\n",
    "Representa los números reales. Cualquier número con o sin decimales que no sea complejo."
   ]
  },
  {
   "cell_type": "code",
   "execution_count": 2,
   "metadata": {},
   "outputs": [
    {
     "data": {
      "text/plain": [
       "1.0"
      ]
     },
     "execution_count": 2,
     "metadata": {},
     "output_type": "execute_result"
    }
   ],
   "source": [
    "float1 = 1.0\n",
    "float2 = .5 # Es igual escribir .5 que 0.5 si sabemos que el decimal empieza por 0\n",
    "float3 = -1.5\n",
    "float4 = -30.5\n",
    "\n",
    "float1"
   ]
  },
  {
   "attachments": {},
   "cell_type": "markdown",
   "metadata": {},
   "source": [
    "## bool\n",
    "\n",
    "Se basa en el Algebra de Bool. Sirve para indicar la veracidad o falsedad de algo."
   ]
  },
  {
   "cell_type": "code",
   "execution_count": 3,
   "metadata": {},
   "outputs": [
    {
     "data": {
      "text/plain": [
       "True"
      ]
     },
     "execution_count": 3,
     "metadata": {},
     "output_type": "execute_result"
    }
   ],
   "source": [
    "bool1 = True\n",
    "bool2 = False\n",
    "bool3 = 0 # False\n",
    "bool4 = 1 # True\n",
    "bool5 = -1 # True | Cualquier valor distinto de cero se interpreta como True\n",
    "\n",
    "bool1"
   ]
  },
  {
   "attachments": {},
   "cell_type": "markdown",
   "metadata": {},
   "source": [
    "## string\n",
    "\n",
    "Nos permite definir texto. Letras, palabras, oraciones, ..."
   ]
  },
  {
   "cell_type": "code",
   "execution_count": 4,
   "metadata": {},
   "outputs": [
    {
     "data": {
      "text/plain": [
       "'world world'"
      ]
     },
     "execution_count": 4,
     "metadata": {},
     "output_type": "execute_result"
    }
   ],
   "source": [
    "string1 = 'world'\n",
    "string2 = \"world\"\n",
    "string3 = \"world word\"\n",
    "string4 = 'world \\\n",
    "world' # Equivale al string3. Es una forma de escribir una cadena en diferentes lineas\n",
    "string5 = \"world \\\n",
    "world\"\n",
    "\n",
    "string4"
   ]
  },
  {
   "attachments": {},
   "cell_type": "markdown",
   "metadata": {},
   "source": [
    "## list\n",
    "\n",
    "Permite organizar datos ordenados según el orden en el que se añadieron a la lista.\n",
    "\n",
    "Cada elemento de la lista tiene un índice que empieza en 0 e indica el orden de entrada en la misma.\n",
    "\n",
    "Ej:\n",
    "- list : ['a','b','c','d','e'] || índices: [0, 1, 2, 3, 4]"
   ]
  },
  {
   "cell_type": "code",
   "execution_count": 5,
   "metadata": {},
   "outputs": [
    {
     "data": {
      "text/plain": [
       "[1, 2, 'a', -30.53, [1, -1]]"
      ]
     },
     "execution_count": 5,
     "metadata": {},
     "output_type": "execute_result"
    }
   ],
   "source": [
    "list1 = [] # empty list\n",
    "list2 = [1, 2]\n",
    "list3 = [1, 2, 'a', -30.53, [1, -1]]\n",
    "\n",
    "list3"
   ]
  },
  {
   "attachments": {},
   "cell_type": "markdown",
   "metadata": {},
   "source": [
    "## tuple\n",
    "\n",
    "Es lo mismo que una lista. Con la diferencia de que es **immutable**. Es decir. Para **cambiar** un **elemento inmutable** de la tupla, debemos **redefinir** la **tupla**."
   ]
  },
  {
   "cell_type": "code",
   "execution_count": 6,
   "metadata": {},
   "outputs": [
    {
     "data": {
      "text/plain": [
       "(1, 2, 'a', -30.53, (1, -1))"
      ]
     },
     "execution_count": 6,
     "metadata": {},
     "output_type": "execute_result"
    }
   ],
   "source": [
    "tuple1 = () # empty tuple\n",
    "tuple2 = (1, 2)\n",
    "tuple3 = (1, 2, 'a', -30.53, (1, -1))\n",
    "\n",
    "tuple3"
   ]
  },
  {
   "attachments": {},
   "cell_type": "markdown",
   "metadata": {},
   "source": [
    "## set\n",
    "\n",
    "Representa el concepto matemático de conjunto. Lista ordenada de elementos que no pueden repetirse."
   ]
  },
  {
   "cell_type": "code",
   "execution_count": 7,
   "metadata": {},
   "outputs": [
    {
     "data": {
      "text/plain": [
       "{-1, 1, 'a'}"
      ]
     },
     "execution_count": 7,
     "metadata": {},
     "output_type": "execute_result"
    }
   ],
   "source": [
    "set1 = {1, -1, 'a', -1}\n",
    "\n",
    "set1"
   ]
  },
  {
   "attachments": {},
   "cell_type": "markdown",
   "metadata": {},
   "source": [
    "## dict\n",
    "\n",
    "Es una lista de pares clave - valor.\n",
    "\n",
    "Se puede interpretar con una lista cuyos datos guardados son los valores y los indices son las claves.\n",
    "\n",
    "**Nota:** Las claves se guardan con una conjunto. Es decir, en un diccionario no hay 2 claves iguales."
   ]
  },
  {
   "cell_type": "code",
   "execution_count": 8,
   "metadata": {},
   "outputs": [
    {
     "data": {
      "text/plain": [
       "{'a': 1, 'c': 2, 'b': [1, 2, 3]}"
      ]
     },
     "execution_count": 8,
     "metadata": {},
     "output_type": "execute_result"
    }
   ],
   "source": [
    "dict1 = {'a' : 1, 'b' : 2, 'c' : 3}\n",
    "dict2 = {'a' : 1, 'c' : 2, 'b' : [1, 2, 3]}\n",
    "\n",
    "dict2"
   ]
  },
  {
   "attachments": {},
   "cell_type": "markdown",
   "metadata": {},
   "source": [
    "## None\n",
    "\n",
    "Representa la nada. La ausencia de datos."
   ]
  },
  {
   "cell_type": "code",
   "execution_count": 9,
   "metadata": {},
   "outputs": [],
   "source": [
    "none1 = None\n",
    "\n",
    "none1"
   ]
  }
 ],
 "metadata": {
  "kernelspec": {
   "display_name": "course-venv",
   "language": "python",
   "name": "python3"
  },
  "language_info": {
   "codemirror_mode": {
    "name": "ipython",
    "version": 3
   },
   "file_extension": ".py",
   "mimetype": "text/x-python",
   "name": "python",
   "nbconvert_exporter": "python",
   "pygments_lexer": "ipython3",
   "version": "3.10.11"
  },
  "orig_nbformat": 4
 },
 "nbformat": 4,
 "nbformat_minor": 2
}
