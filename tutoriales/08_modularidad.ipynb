{
 "cells": [
  {
   "attachments": {},
   "cell_type": "markdown",
   "metadata": {},
   "source": [
    "# Modularidad | Funciones personalizadas\n",
    "\n",
    "A lo largo de las secciones 04, 05 y 06 hemos ido dando la idea de que un programa no siempre tiene que ejecutarse de forma secuencial linea por linea o sentencia por sentencia.\n",
    "\n",
    "Algunas veces parte del código que hemos escrito no se ejecutará salvo condiciones muy concretas. <br>\n",
    "Otras veces parte del código se ejecutará varias veces antes de seguir con el resto del programa. <br>\n",
    "Y otras veces tendremos una sección de código definida que podríamos necesitar ejecutar varias veces en un programa pero no sabemos cuantas veces ni donde debe de ejecutarse.\n",
    "\n",
    "Esta última situación da lugar a un nuevo paradigma de la programación. **La programación procedural**.\n",
    "\n",
    "Una función es una estructura que nos permite definir una sección de código parametrizada e identificada con un nombre. <br>\n",
    "Con esta estructura, simplemente indicando el nombre y los parámetros necesarios, se ejecutará la sección de código que encierra la función allá donde se necesite.\n",
    "\n",
    "Sintaxis:\n",
    "- def nombre_funcion(parámetros):\n",
    "    - code\n",
    "    - return (opcional)"
   ]
  },
  {
   "attachments": {},
   "cell_type": "markdown",
   "metadata": {},
   "source": [
    "## Ejemplo 1 | Función sin parámetros"
   ]
  },
  {
   "cell_type": "code",
   "execution_count": null,
   "metadata": {},
   "outputs": [],
   "source": [
    "numero = 1\n",
    "\n",
    "def sin_parámetros():\n",
    "    return 1\n",
    "\n",
    "numero + sin_parámetros()"
   ]
  },
  {
   "attachments": {},
   "cell_type": "markdown",
   "metadata": {},
   "source": [
    "## Ejemplo 2 | Función con un parámetro"
   ]
  },
  {
   "cell_type": "code",
   "execution_count": null,
   "metadata": {},
   "outputs": [],
   "source": [
    "numero = 1\n",
    "\n",
    "def increment(amount):\n",
    "    return amount\n",
    "\n",
    "numero + increment(10)"
   ]
  },
  {
   "attachments": {},
   "cell_type": "markdown",
   "metadata": {},
   "source": [
    "## Ejemplo 3 | Función con varios parámetros"
   ]
  },
  {
   "cell_type": "code",
   "execution_count": null,
   "metadata": {},
   "outputs": [],
   "source": [
    "def suma(a, b):\n",
    "    return a + b\n",
    "\n",
    "suma(1, 1), suma(2, 1), suma(3, -1)"
   ]
  },
  {
   "attachments": {},
   "cell_type": "markdown",
   "metadata": {},
   "source": [
    "## Ejemplo 4 | Función con parámetros por defecto"
   ]
  },
  {
   "attachments": {},
   "cell_type": "markdown",
   "metadata": {},
   "source": [
    "### Caso (a) Sintáxis correcta"
   ]
  },
  {
   "cell_type": "code",
   "execution_count": null,
   "metadata": {},
   "outputs": [],
   "source": [
    "def suma(a, b = 1):\n",
    "    return a + b\n",
    "\n",
    "suma(1, 1), suma(10)"
   ]
  },
  {
   "attachments": {},
   "cell_type": "markdown",
   "metadata": {},
   "source": [
    "### Caso (b) Los parámetros por defecto deben ir al final"
   ]
  },
  {
   "cell_type": "code",
   "execution_count": null,
   "metadata": {},
   "outputs": [],
   "source": [
    "def suma(a = 0, b):\n",
    "    return a + b"
   ]
  },
  {
   "attachments": {},
   "cell_type": "markdown",
   "metadata": {},
   "source": [
    "## Ejemplo 5 | Llamar función indicando qué valor va a qué parámetro"
   ]
  },
  {
   "attachments": {},
   "cell_type": "markdown",
   "metadata": {},
   "source": [
    "### Caso (a) Da igual el orden de asignación si se especifica el nombre del parámetro al que dar un valor"
   ]
  },
  {
   "cell_type": "code",
   "execution_count": null,
   "metadata": {},
   "outputs": [],
   "source": [
    "def suma(a = 0, b = 1):\n",
    "    return a + b\n",
    "\n",
    "suma(), suma(a = -1, b = 1), suma(b = -10), suma(30, -10)"
   ]
  },
  {
   "attachments": {},
   "cell_type": "markdown",
   "metadata": {},
   "source": [
    "### Caso (b) Especificar valor para los parámetros que no tienen valor por defecto"
   ]
  },
  {
   "cell_type": "code",
   "execution_count": null,
   "metadata": {},
   "outputs": [],
   "source": [
    "def suma(a, b, c = 1):\n",
    "    return a + b + c\n",
    "\n",
    "suma(c = -10)"
   ]
  },
  {
   "attachments": {},
   "cell_type": "markdown",
   "metadata": {},
   "source": [
    "## Ejemplo 6 | Función con número indefinido de parámetros"
   ]
  },
  {
   "attachments": {},
   "cell_type": "markdown",
   "metadata": {},
   "source": [
    "### Caso (a)"
   ]
  },
  {
   "cell_type": "code",
   "execution_count": null,
   "metadata": {},
   "outputs": [],
   "source": [
    "def suma(*args):\n",
    "    suma = 0\n",
    "    \n",
    "    print(f'{args=}')\n",
    "\n",
    "    for item in args:\n",
    "        suma += item\n",
    "\n",
    "    return suma\n",
    "\n",
    "suma(), suma(1, 2, 3, 4, 5, 6, 7, 8, 9, 10, 11, 12)"
   ]
  },
  {
   "attachments": {},
   "cell_type": "markdown",
   "metadata": {},
   "source": [
    "### Caso (b) *args no significa pasar una lista sino valores separados por comas"
   ]
  },
  {
   "cell_type": "code",
   "execution_count": null,
   "metadata": {},
   "outputs": [],
   "source": [
    "def suma(*args):\n",
    "    suma = 0\n",
    "\n",
    "    print(f'{args=}')\n",
    "    \n",
    "    for item in args:\n",
    "        suma += item\n",
    "\n",
    "    return suma\n",
    "\n",
    "suma([1, 2, 3])"
   ]
  },
  {
   "attachments": {},
   "cell_type": "markdown",
   "metadata": {},
   "source": [
    "## Ejemplo 7 | Función con número indefinido de parámetros pero cada uno con un nombre"
   ]
  },
  {
   "cell_type": "code",
   "execution_count": null,
   "metadata": {},
   "outputs": [],
   "source": [
    "def foo(**kwargs):\n",
    "    return kwargs\n",
    "\n",
    "foo(a = 1, b = 2, c = 3, d = 4)"
   ]
  },
  {
   "attachments": {},
   "cell_type": "markdown",
   "metadata": {},
   "source": [
    "## Extra 1 | Definir 2 funciones con mismo nombre implica que solo la última definición tiene efecto"
   ]
  },
  {
   "cell_type": "code",
   "execution_count": null,
   "metadata": {},
   "outputs": [],
   "source": [
    "def suma(a = 0, b = 1):\n",
    "    return a + b\n",
    "\n",
    "def suma(a = 0, b = 1):\n",
    "    return a * a + b * b\n",
    "\n",
    "suma(2, 2)"
   ]
  },
  {
   "attachments": {},
   "cell_type": "markdown",
   "metadata": {},
   "source": [
    "## Extra 2 | Combinación *arg, **kwargs y parámetros con nombre específicos"
   ]
  },
  {
   "cell_type": "code",
   "execution_count": null,
   "metadata": {},
   "outputs": [],
   "source": [
    "def foo(a, *args, **kwargs):\n",
    "    return a, args, kwargs\n",
    "\n",
    "foo(1, 2, b = 'a')"
   ]
  },
  {
   "attachments": {},
   "cell_type": "markdown",
   "metadata": {},
   "source": [
    "## Extra 3 | Funciones anónimas\n",
    "\n",
    "A veces tendremos funciones cuyo código encapsulado solo ocupa una sentencia de **return expresion**. <br>\n",
    "Es decir, tendremos funciones que hacer un pequeño computo e inmediatamente devuelven el resultado.\n",
    "\n",
    "Un ejemplo sería la función suma con la que hemos trabajado en muchos ejemplos. <br>\n",
    "Esta recibe una serie de parámetros, los suma y devuelve esa suma.\n",
    "\n",
    "- def suma(a, b):\n",
    "    - return a + b\n",
    "\n",
    "Cuando tengamos este tipo de funciones sencillas, podemos directamente hacer uso de lo que se conoce como funciones lambda.\n",
    "\n",
    "Sintaxis: <br>\n",
    "- **lambda param1, param2 : code**\n",
    "\n",
    "Esta función se guarda en una variable, recibe los parametros especificados, realiza el cómputo especificado y devuelve el resultado de manera implícita.\n",
    "\n",
    "Se usa de la misma forma que las funciones **def**. No deja de ser una funcion solo que con una sintaxis más compacta."
   ]
  },
  {
   "cell_type": "code",
   "execution_count": null,
   "metadata": {},
   "outputs": [],
   "source": [
    "# Función sin lambda\n",
    "def suma_sin_lambda(a, b):\n",
    "    return a + b\n",
    "\n",
    "# Función con lambda\n",
    "suma_con_lambda = lambda a, b : a + b\n",
    "\n",
    "suma_sin_lambda(1, 2), suma_con_lambda(1, 2)"
   ]
  },
  {
   "attachments": {},
   "cell_type": "markdown",
   "metadata": {},
   "source": [
    "## Extra 4 | Funciones built-in o funciones disponibles por defecto en cualquier archivo de python\n",
    "\n",
    "- Built-in functions: https://docs.python.org/es/3.11/library/functions.html\n",
    "\n",
    "Por defecto, tenemos a nuestra disposición un gran variedad de funciones que podemos usar en cualquier momento.\n",
    "\n",
    "Algunas de las que más se suelen usar son:\n",
    "- abs(x)\n",
    "- min(*args)\n",
    "- max(*args)\n",
    "- int(object)\n",
    "- float(object)\n",
    "- list(object)\n",
    "- tuple(object)\n",
    "- set(object)\n",
    "- dict(object)\n",
    "- str(object)\n",
    "- bool(object)\n",
    "- type(object)\n",
    "- print(*objects, sep = ' ', end = '\\n', file = sys.stdout, flush = False)\n",
    "- help(object = None)\n",
    "- zip(*iterables)\n",
    "- enumerate(iterable)\n",
    "- range(start, stop, step = 1)\n",
    "- len(iterable)"
   ]
  },
  {
   "attachments": {},
   "cell_type": "markdown",
   "metadata": {},
   "source": [
    "### abs(), min(), max()\n",
    "\n",
    "Son operaciones matématicas básicas:\n",
    "- abs(x) Devuelve el valor absoluto de un númeno\n",
    "- min(*args) Devuelve el valor mínimo de una serie de números pasados a la función separados por comas\n",
    "- max(*args) Devuelve el valor máximo de una serie de números pasados a la función separados por comas"
   ]
  },
  {
   "cell_type": "code",
   "execution_count": null,
   "metadata": {},
   "outputs": [],
   "source": [
    "abs(-1), min(0, -1, -30, 20), max(0, -1, -30, 40)"
   ]
  },
  {
   "attachments": {},
   "cell_type": "markdown",
   "metadata": {},
   "source": [
    "### type(), int(), float(), bool(), str(), list(), tuple(), dict(), set()\n",
    "\n",
    "Estas funciones nos permiten trabajar con los tipos de datos:\n",
    "- type() Devuelve el tipo de dato de una variable, ...\n",
    "- int() Trata de convertir una variable en entero\n",
    "- float() Trata de convertir una variable en float\n",
    "- bool() Trata de convertir una variable en bool\n",
    "- str() Trata de convertir una variable en string\n",
    "- list() Trata de convertir una variable en list | Se suele usar con tuplas\n",
    "- tuple() Trata de convertir una variable en tuple | Se suele usar con listas\n",
    "- dict() Trata de convertir una variable en dict | Necesario lista de lista. [ [1, 2] ] -> {1 : 2}\n",
    "- set() Trata de convertir una variable en set | Se suele usar con listas y tuplas"
   ]
  },
  {
   "cell_type": "code",
   "execution_count": null,
   "metadata": {},
   "outputs": [],
   "source": [
    "type(1), type([1,]), int(1.634), float(-1), bool([1, 2]), str([{1, 3}, 1]), list((1, 2)), tuple([1, 2]), dict([['a', 2], ['b', 4]]), set([1, 2, 3, 1])"
   ]
  },
  {
   "attachments": {},
   "cell_type": "markdown",
   "metadata": {},
   "source": [
    "### print()\n",
    "\n",
    "No permite mostrar texto por pantalla o guardar texto en archivos"
   ]
  },
  {
   "cell_type": "code",
   "execution_count": null,
   "metadata": {},
   "outputs": [],
   "source": [
    "print(1)\n",
    "print(1, 2, 3, sep = '|||')\n",
    "print('aa', end = '--------------------------------')\n",
    "print([])"
   ]
  },
  {
   "attachments": {},
   "cell_type": "markdown",
   "metadata": {},
   "source": [
    "### help()\n",
    "\n",
    "Normalmente las funciones y otros códigos tienen una documentación. Es decir, una parte del código de la función es una serie de comentarios explicando qué hace esa función.\n",
    "Con help() podemos acceder a esa documentación."
   ]
  },
  {
   "cell_type": "code",
   "execution_count": null,
   "metadata": {},
   "outputs": [],
   "source": [
    "def foo():\n",
    "    \"\"\"Función estúpida. No hace nada.\n",
    "    \"\"\"\n",
    "\n",
    "help(foo)"
   ]
  },
  {
   "attachments": {},
   "cell_type": "markdown",
   "metadata": {},
   "source": [
    "### zip()\n",
    "\n",
    "Algunas veces suele pasar que tenemos 2 o más variables de tipo secuencia (Ej : lista) y necesitamos trabajar cada valor de en paralelo. <br>\n",
    "Es decir, si trabajamos con el primer elemento, queremos trabajar con los primeros elementos de todas las secuencias a la vez y así con el resto de elementos."
   ]
  },
  {
   "cell_type": "code",
   "execution_count": null,
   "metadata": {},
   "outputs": [],
   "source": [
    "\"\"\"\n",
    "Código que dadas dos listas, genera una con la suma de cada pareja\n",
    "\"\"\"\n",
    "\n",
    "lista1 = [1, 2, 3]\n",
    "lista2 = [2, 3, 4]\n",
    "\n",
    "suma_lista1_lista2 = []\n",
    "\n",
    "for pareja in zip(lista1, lista2):\n",
    "    suma_lista1_lista2.append(sum(pareja)) # append es una función de la variable lista | la veremos en otras secciones\n",
    "\n",
    "suma_lista1_lista2"
   ]
  },
  {
   "attachments": {},
   "cell_type": "markdown",
   "metadata": {},
   "source": [
    "### enumerate()\n",
    "\n",
    "A veces, cuando trabajamos con secuencias, necesitamos saber cual en qué posición estamos. Es decir, trabajamos con ¿estamos trabajando con el primer elemento, el segundo, ...?\n",
    "\n",
    "La función enumerate(sequence) devuele una pareja (índice, valor)"
   ]
  },
  {
   "cell_type": "code",
   "execution_count": null,
   "metadata": {},
   "outputs": [],
   "source": [
    "lista = [1, 2, 3, 4, 5, 6, 7, 8, 9]\n",
    "\n",
    "for indice, valor in enumerate(lista):\n",
    "    print('Accediendo al valor', valor, 'en la posición', indice, 'de la lista', lista)"
   ]
  },
  {
   "cell_type": "code",
   "execution_count": null,
   "metadata": {},
   "outputs": [],
   "source": [
    "\"\"\"\n",
    "Código que recorre una lista. \n",
    "Calcula en cuadrado del valor actual y lo pone de nuevo en la lista.\n",
    "\"\"\"\n",
    "\n",
    "lista = [1, 2, 3, 4, 5, 6, 7, 8, 9]\n",
    "\n",
    "for indice, valor in enumerate(lista):\n",
    "    lista[indice] = valor ** 2\n",
    "\n",
    "lista"
   ]
  },
  {
   "attachments": {},
   "cell_type": "markdown",
   "metadata": {},
   "source": [
    "### range()\n",
    "\n",
    "Hemos visto en muchos ejemplo que las lista numéricas suelen ser de la forma [1, 2, 3, ...]. <br>\n",
    "Cuando tenemos una lista de número con un patrón concreto, en vez de crear la lista manualmente, podemos hacer uso de la función range."
   ]
  },
  {
   "cell_type": "code",
   "execution_count": null,
   "metadata": {},
   "outputs": [],
   "source": [
    "print(list(range(0, 10, 1)))\n",
    "print(list(range(0, 10, 2)))\n",
    "print(list(range(-10, 10, 2)))\n",
    "print(list(range(10, -10, -2)))"
   ]
  },
  {
   "attachments": {},
   "cell_type": "markdown",
   "metadata": {},
   "source": [
    "### len(iterable)\n",
    "\n",
    "Devuelve la cantidad de elementos de un dato iterable."
   ]
  },
  {
   "cell_type": "code",
   "execution_count": null,
   "metadata": {},
   "outputs": [],
   "source": [
    "print( len([1, 2, 3, 4, 5, 6, 7, 8, 9]) )\n",
    "print( len({'a' : 1, 'b' : -1}) )"
   ]
  },
  {
   "cell_type": "markdown",
   "metadata": {},
   "source": [
    "## Extra 5 | Programa de geometría"
   ]
  },
  {
   "cell_type": "markdown",
   "metadata": {},
   "source": [
    "### Sin Funciones | Creación puntos, cálculo distancias"
   ]
  },
  {
   "cell_type": "code",
   "execution_count": null,
   "metadata": {},
   "outputs": [],
   "source": [
    "punto_1 = {'x' : 1, 'y' : 1}\n",
    "punto_2 = {'x' : -1, 'y' : 1}\n",
    "punto_3 = {'x' : 10, 'y' : 11}\n",
    "punto_4 = {'x' : -21, 'y' : 9}\n",
    "punto_5 = {'x' : 0, 'y' : 0}\n",
    "\n",
    "distancia_punto_1_punto_2 = ((punto_1['x'] - punto_2['x']) ** 2 + (punto_1['y'] - punto_2['y']) ** 2) ** 0.5\n",
    "distancia_punto_1_punto_3 = ((punto_1['x'] - punto_3['x']) ** 2 + (punto_1['y'] - punto_3['y']) ** 2) ** 0.5\n",
    "distancia_punto_1_punto_4 = ((punto_1['x'] - punto_4['x']) ** 2 + (punto_1['y'] - punto_4['y']) ** 2) ** 0.5\n",
    "distancia_punto_2_punto_4 = ((punto_2['x'] - punto_4['x']) ** 2 + (punto_2['y'] - punto_4['y']) ** 2) ** 0.5\n",
    "\n",
    "print(distancia_punto_1_punto_2, distancia_punto_1_punto_3, distancia_punto_1_punto_4, distancia_punto_2_punto_4, sep = ' | ')\n",
    "\n",
    "print(f'{punto_1=} Pre offset')\n",
    "punto_1['x'] += 10\n",
    "print(f'{punto_1=} Post offset')"
   ]
  },
  {
   "cell_type": "markdown",
   "metadata": {},
   "source": [
    "### Con funciones | Creación puntos, cálculo distancias"
   ]
  },
  {
   "cell_type": "code",
   "execution_count": null,
   "metadata": {},
   "outputs": [],
   "source": [
    "def get_point(x, y):\n",
    "    return {'x' : x, 'y' : y}\n",
    "\n",
    "def distance(p_1, p_2):\n",
    "    squared_sum = 0\n",
    "\n",
    "    for coordinate in p_1:\n",
    "        squared_sum += (p_1[coordinate] - p_2[coordinate]) ** 2\n",
    "\n",
    "    return squared_sum ** 0.5\n",
    "\n",
    "def offset(coordinates, values, point):\n",
    "    if isinstance(coordinates, list) and not isinstance(values, list):\n",
    "        for coord in coordinates:\n",
    "            point[coord] += values\n",
    "\n",
    "    elif isinstance(coordinates, list) and isinstance(values, list):\n",
    "        if len(coordinates) == len(values):\n",
    "            for coord, value in zip(coordinates, values):\n",
    "                point[coord] += value\n",
    "        else:\n",
    "            raise Exception('Coordinates and values must have same length')\n",
    "\n",
    "    elif not isinstance(coordinates, list) and not isinstance(values, list):\n",
    "        point[coordinates] += values\n",
    "\n",
    "    return point\n",
    "\n",
    "punto_1 = get_point(1, 1)\n",
    "punto_2 = get_point(-1, 1)\n",
    "punto_3 = get_point(10, 11)\n",
    "punto_4 = get_point(-21, 9)\n",
    "punto_5 = get_point(0, 0)\n",
    "\n",
    "distancia_punto_1_punto_2 = distance(punto_1, punto_2)\n",
    "distancia_punto_1_punto_3 = distance(punto_1, punto_3)\n",
    "distancia_punto_1_punto_4 = distance(punto_1, punto_4)\n",
    "distancia_punto_2_punto_4 = distance(punto_2, punto_4)\n",
    "\n",
    "print(distancia_punto_1_punto_2, distancia_punto_1_punto_3, distancia_punto_1_punto_4, distancia_punto_2_punto_4, sep = ' | ')\n",
    "\n",
    "print(f'{punto_1=} Pre offset')\n",
    "punto_1 = offset(['x'], [1], punto_1)\n",
    "print(f'{punto_1=} Post offset')\n",
    "\n",
    "print(f'{punto_1=} Pre offset')\n",
    "punto_1 = offset(['x', 'y'], [1, -10], punto_1)\n",
    "print(f'{punto_1=} Post offset')\n",
    "\n",
    "print(f'{punto_1=} Pre offset')\n",
    "punto_1 = offset(['x', 'y'], [1], punto_1)\n",
    "print(f'{punto_1=} Post offset')"
   ]
  }
 ],
 "metadata": {
  "kernelspec": {
   "display_name": "Python 3",
   "language": "python",
   "name": "python3"
  },
  "language_info": {
   "codemirror_mode": {
    "name": "ipython",
    "version": 3
   },
   "file_extension": ".py",
   "mimetype": "text/x-python",
   "name": "python",
   "nbconvert_exporter": "python",
   "pygments_lexer": "ipython3",
   "version": "3.10.11"
  },
  "orig_nbformat": 4
 },
 "nbformat": 4,
 "nbformat_minor": 2
}
