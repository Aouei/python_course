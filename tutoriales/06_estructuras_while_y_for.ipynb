{
 "cells": [
  {
   "attachments": {},
   "cell_type": "markdown",
   "metadata": {},
   "source": [
    "# Control de flujo. Estructuras **while** y **for**\n",
    "\n",
    "En la sección 04 comentamos que nuestro código normalmente se ejecuta en secuencial de arriba a abajo. <br>\n",
    "Decíamos que con la estructura if-elif-else podemos controlar qué partes de nuestro código se ejecutan según una serie de condiciones.\n",
    "\n",
    "En otras ocasiones necesitamos ejecutar varias veces un mismo bloque de código. Sin embargo, es muy engorroso escribir una y otra vez lo mismo.\n",
    "\n",
    "Cuando lo que nuestro código hace no cambia, es decir, las líneas de código son las mismas pero tenemos que ejecutarlas varias veces usamos los **bucles**.\n",
    "\n",
    "Cuando sabemos cuántas veces ejecutaremos una misma sección de código, usamos el **bucle for**. \n",
    "\n",
    "Este en python funciona recorriendo una variable de tipo secuencia, la cual tiene la propiedad de que es iterable. Es decir, podemos leer cada elemento de la misma sin necesidad de indicar qué elemento queremos leer. <br>\n",
    "El bucle for indica por nosotros que queremos leer el siguiente elemento en caso de haber más. Independientemente de cual sea ese elemento.\n",
    "\n",
    "Sintaxis:\n",
    "- for element in iterable:\n",
    "    - code\n",
    "- else:\n",
    "    - code\n",
    "\n",
    "\n",
    "\n",
    "Cuando no sabemos cuántas veces ejecutaremos una misma sección de código, usamos el **bucle while**.\n",
    "\n",
    "En este indicamos una condición y mientras se cumpla dicha condición, el bucle ejecutará lo que haya dentro del mismo.\n",
    "\n",
    "Sintaxis:\n",
    "- while condition:\n",
    "    - code\n",
    "- else:\n",
    "    - code\n",
    "\n",
    "**NOTA:** En la sintaxis vemos que hay una parte adicional **else**. Esta parte es opcional y sirve para ejecutar una porción de código después de que el bucle termine. <br>\n",
    "Solo se ejecuta esta parte si el bucle finalizó sin problemas. Es decir, no ocurrió ningún error que pare la ejecución del mismo de forma inesperada."
   ]
  },
  {
   "attachments": {},
   "cell_type": "markdown",
   "metadata": {},
   "source": [
    "## Ejemplo 1 | for\n",
    "\n",
    "Obtener la suma de los elementos de una lista"
   ]
  },
  {
   "cell_type": "code",
   "execution_count": 1,
   "metadata": {},
   "outputs": [
    {
     "data": {
      "text/plain": [
       "45"
      ]
     },
     "execution_count": 1,
     "metadata": {},
     "output_type": "execute_result"
    }
   ],
   "source": [
    "suma = 0\n",
    "\n",
    "for i in [0, 1, 2, 3, 4, 5, 6, 7, 8, 9]:\n",
    "    suma += i\n",
    "\n",
    "suma"
   ]
  },
  {
   "attachments": {},
   "cell_type": "markdown",
   "metadata": {},
   "source": [
    "## Ejemplo 2 | for con condicionales\n",
    "\n",
    "Obtener la suma de los elementos pares, los múltiplos de 3 y los impares en 3 variables separadas, de una lista."
   ]
  },
  {
   "cell_type": "code",
   "execution_count": 2,
   "metadata": {},
   "outputs": [
    {
     "data": {
      "text/plain": [
       "(20, 18, 25)"
      ]
     },
     "execution_count": 2,
     "metadata": {},
     "output_type": "execute_result"
    }
   ],
   "source": [
    "suma_pares = 0\n",
    "suma_multiplos_3 = 0\n",
    "suma_impares = 0\n",
    "\n",
    "for i in [0, 1, 2, 3, 4, 5, 6, 7, 8, 9]:\n",
    "    if i % 2 == 0:\n",
    "        suma_pares += i\n",
    "    else:\n",
    "        suma_impares += i\n",
    "    if i % 3 == 0:\n",
    "        suma_multiplos_3 += i\n",
    "        \n",
    "suma_pares, suma_multiplos_3, suma_impares"
   ]
  },
  {
   "attachments": {},
   "cell_type": "markdown",
   "metadata": {},
   "source": [
    "## Ejemplo 3 | for con bucles anidados\n",
    "\n",
    "Dada una lista de palabras, generar una lista indicando el número de letras tiene cada palabra\n",
    "\n"
   ]
  },
  {
   "cell_type": "code",
   "execution_count": 7,
   "metadata": {},
   "outputs": [
    {
     "data": {
      "text/plain": [
       "[('hola', 4), ('mundo', 5), ('arbol', 5), ('cigüeña', 7)]"
      ]
     },
     "execution_count": 7,
     "metadata": {},
     "output_type": "execute_result"
    }
   ],
   "source": [
    "numero_letras_por_palabra = []\n",
    "\n",
    "for palabra in ['hola', 'mundo', 'arbol', 'cigüeña']:\n",
    "    numero_caracteres = 0\n",
    "    for caracter in palabra:\n",
    "        numero_caracteres += 1\n",
    "    else:\n",
    "        numero_letras_por_palabra += [(palabra, numero_caracteres)]\n",
    "    \n",
    "numero_letras_por_palabra"
   ]
  },
  {
   "attachments": {},
   "cell_type": "markdown",
   "metadata": {},
   "source": [
    "## Ejemplo 4 | while\n",
    "\n",
    "Dado un número:\n",
    "- Si es par, lo elevamos al cuadrado y sumamos 1\n",
    "- Si es impar, lo dividimos entre 3 y multiplicamos por 2\n",
    "\n",
    "Repetir la operación mientras el número sea menor que 100 y el número de veces que se realiza la operación de arriba es menor que 10"
   ]
  },
  {
   "cell_type": "code",
   "execution_count": 23,
   "metadata": {},
   "outputs": [
    {
     "data": {
      "text/plain": [
       "(2, 5)"
      ]
     },
     "execution_count": 23,
     "metadata": {},
     "output_type": "execute_result"
    }
   ],
   "source": [
    "numero = 2\n",
    "iteraciones = 0\n",
    "\n",
    "while numero < 100 and iteraciones < 10:\n",
    "    if numero % 2 == 0:\n",
    "        numero = (numero ** 2) + 1\n",
    "    else:\n",
    "        numero = (numero // 3) * 2\n",
    "\n",
    "    iteraciones += 1\n",
    "else:\n",
    "    iteraciones = 0\n",
    "\n",
    "###########################################################################################################################\n",
    "\n",
    "numero1 = 3\n",
    "iteraciones = 0\n",
    "\n",
    "while numero1 < 100 and iteraciones < 10:\n",
    "    if numero1 % 2 == 0:\n",
    "        numero1 = (numero1 ** 2) + 1\n",
    "    else:\n",
    "        numero1 = (numero1 // 3) * 2\n",
    "        \n",
    "    iteraciones += 1\n",
    "else:\n",
    "    iteraciones = 0\n",
    "\n",
    "numero, numero1"
   ]
  },
  {
   "attachments": {},
   "cell_type": "markdown",
   "metadata": {},
   "source": [
    "## Compresión de listas (Avanzado)\n",
    "\n",
    "De normal, escribir un bucle for es una estructura lenta. <br>\n",
    "A veces interesa más usar compresión de listas que equivale a un bucle for.\n",
    "\n",
    "La sintaxis normal es:\n",
    "- [item for item in iterable] -> Genera una lista\n",
    "- {key : value for item in iterable} -> Genera un diccionario\n",
    "- (item for item in iterable) -> Podemos pensar que esto genera una tupla pero NO!!!. Genera un tipo de dato especial llamado **generador**. Es un elemento iterable, pero no está no está específicamente almacenado en memoria por lo que no podemos acceder directamente a un dato concreto. Tenemos que recorrer y cada dato se irá generando."
   ]
  },
  {
   "attachments": {},
   "cell_type": "markdown",
   "metadata": {},
   "source": [
    "### Sin compresión listas"
   ]
  },
  {
   "cell_type": "code",
   "execution_count": 2,
   "metadata": {},
   "outputs": [
    {
     "data": {
      "text/plain": [
       "([0, 1, 4, 9, 16, 25, 36, 49, 64, 81],\n",
       " {0: 0,\n",
       "  1: 1,\n",
       "  4: 64,\n",
       "  9: 729,\n",
       "  16: 4096,\n",
       "  25: 15625,\n",
       "  36: 46656,\n",
       "  49: 117649,\n",
       "  64: 262144,\n",
       "  81: 531441})"
      ]
     },
     "execution_count": 2,
     "metadata": {},
     "output_type": "execute_result"
    }
   ],
   "source": [
    "lista = []\n",
    "for i in range(10):\n",
    "    lista.append(i ** 2)\n",
    "\n",
    "diccionario = {}\n",
    "for i in lista:\n",
    "    diccionario[i] = i ** 3\n",
    "\n",
    "lista, diccionario"
   ]
  },
  {
   "attachments": {},
   "cell_type": "markdown",
   "metadata": {},
   "source": [
    "### Con compresión de listas"
   ]
  },
  {
   "cell_type": "code",
   "execution_count": 1,
   "metadata": {},
   "outputs": [
    {
     "data": {
      "text/plain": [
       "([0, 1, 4, 9, 16, 25, 36, 49, 64, 81],\n",
       " {0: 0,\n",
       "  1: 1,\n",
       "  4: 64,\n",
       "  9: 729,\n",
       "  16: 4096,\n",
       "  25: 15625,\n",
       "  36: 46656,\n",
       "  49: 117649,\n",
       "  64: 262144,\n",
       "  81: 531441})"
      ]
     },
     "execution_count": 1,
     "metadata": {},
     "output_type": "execute_result"
    }
   ],
   "source": [
    "lista = [i ** 2 for i in range(10)]\n",
    "diccionario = {i : i ** 3 for i in lista}\n",
    "\n",
    "lista, diccionario"
   ]
  },
  {
   "attachments": {},
   "cell_type": "markdown",
   "metadata": {},
   "source": [
    "### Rizando el rizo\n",
    "\n",
    "Como todo, mejor no abusar, pero al igual que los bucles se pueden anidar y escribir un bucle dentro de un bucle, podemos hacer los mismo con la compresión de listas."
   ]
  },
  {
   "cell_type": "code",
   "execution_count": 6,
   "metadata": {},
   "outputs": [
    {
     "data": {
      "text/plain": [
       "([[0, 0, 0], [0, 0, 0], [0, 0, 0]], [[0, 0, 0], [0, 0, 0], [0, 0, 0]])"
      ]
     },
     "execution_count": 6,
     "metadata": {},
     "output_type": "execute_result"
    }
   ],
   "source": [
    "matriz_0 = []\n",
    "\n",
    "for i in range(3):\n",
    "    row = []\n",
    "    for j in range(3):\n",
    "        row += [0]\n",
    "    matriz_0 += [row]\n",
    "\n",
    "matriz_0\n",
    "\n",
    "####################################################################################################\n",
    "\n",
    "matriz_1 = [[0 for j in range(3)] for i in range(3)]\n",
    "\n",
    "matriz_0, matriz_1"
   ]
  }
 ],
 "metadata": {
  "kernelspec": {
   "display_name": "Python 3",
   "language": "python",
   "name": "python3"
  },
  "language_info": {
   "codemirror_mode": {
    "name": "ipython",
    "version": 3
   },
   "file_extension": ".py",
   "mimetype": "text/x-python",
   "name": "python",
   "nbconvert_exporter": "python",
   "pygments_lexer": "ipython3",
   "version": "3.10.11"
  },
  "orig_nbformat": 4
 },
 "nbformat": 4,
 "nbformat_minor": 2
}
