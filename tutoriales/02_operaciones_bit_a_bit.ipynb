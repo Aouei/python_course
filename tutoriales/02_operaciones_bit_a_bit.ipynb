{
 "cells": [
  {
   "attachments": {},
   "cell_type": "markdown",
   "metadata": {},
   "source": [
    "# Operaciones Bit a Bit\n",
    "\n",
    "Lo único que entienden las computadoras son 0s y 1s.\n",
    "\n",
    "Todo está representado en binario.\n",
    "\n",
    "La siguientes operaciones se realizan normalmente sobre los números enteros porque la interpretación directa del efecto sobre los bits es más fácil que con float, lists, etc...\n",
    "\n",
    "Operaciones:\n",
    "- AND: **&**\n",
    "- OR: **|**\n",
    "- XOR: **^**\n",
    "- NOT: **~**\n",
    "- SHIFT LEFT: **<<**\n",
    "- SHIFT RIGHT: **>>**"
   ]
  },
  {
   "attachments": {},
   "cell_type": "markdown",
   "metadata": {},
   "source": [
    "## AND\n",
    "\n",
    "La sintaxis es **nº & nº**.\n",
    "\n",
    "Cuando aplicamos esta operación lo que hacemos es ejecutar bit a bit la puerta lógica AND.\n",
    "\n",
    "AND:\n",
    "- 0 & 0 -> 0\n",
    "- 0 & 1 -> 0\n",
    "- 1 & 0 -> 0\n",
    "- 1 & 1 -> 1"
   ]
  },
  {
   "cell_type": "code",
   "execution_count": 13,
   "metadata": {},
   "outputs": [
    {
     "data": {
      "text/plain": [
       "(0, 1)"
      ]
     },
     "execution_count": 13,
     "metadata": {},
     "output_type": "execute_result"
    }
   ],
   "source": [
    "\"\"\"\n",
    "\n",
    "1 = 001\n",
    "2 = 010\n",
    "3 = 011\n",
    "4 = 100\n",
    "5 = 101\n",
    "6 = 110\n",
    "7 = 111\n",
    "\n",
    "2 & 5 = 010 & 101 = 000 = 0\n",
    "1 & 5 = 001 & 101 = 001 = 1\n",
    "\n",
    "\"\"\"\n",
    "\n",
    "2 & 5, 1 & 5"
   ]
  },
  {
   "attachments": {},
   "cell_type": "markdown",
   "metadata": {},
   "source": [
    "## OR\n",
    "\n",
    "La sintaxis es **nº | nº**.\n",
    "\n",
    "Cuando aplicamos esta operación lo que hacemos es ejecutar bit a bit la puerta lógica OR.\n",
    "\n",
    "OR:\n",
    "- 0 & 0 -> 0\n",
    "- 0 & 1 -> 1\n",
    "- 1 & 0 -> 1\n",
    "- 1 & 1 -> 1"
   ]
  },
  {
   "cell_type": "code",
   "execution_count": 12,
   "metadata": {},
   "outputs": [
    {
     "data": {
      "text/plain": [
       "(7, 5)"
      ]
     },
     "execution_count": 12,
     "metadata": {},
     "output_type": "execute_result"
    }
   ],
   "source": [
    "\"\"\"\n",
    "\n",
    "1 = 001\n",
    "2 = 010\n",
    "3 = 011\n",
    "4 = 100\n",
    "5 = 101\n",
    "6 = 110\n",
    "7 = 111\n",
    "\n",
    "2 | 5 = 010 | 101 = 111 = 7\n",
    "1 | 5 = 001 | 101 = 101 = 5\n",
    "\n",
    "\"\"\"\n",
    "\n",
    "2 | 5, 1 | 5"
   ]
  },
  {
   "attachments": {},
   "cell_type": "markdown",
   "metadata": {},
   "source": [
    "## XOR\n",
    "\n",
    "La sintaxis es **nº ^ nº**.\n",
    "\n",
    "Cuando aplicamos esta operación lo que hacemos es ejecutar bit a bit la puerta lógica XOR. <br>\n",
    "Se conoce como **o exclusivo** porque solo obtenemos 1 cuando los valores son distintos.\n",
    "\n",
    "XOR:\n",
    "- 0 & 0 -> 0\n",
    "- 0 & 1 -> 1\n",
    "- 1 & 0 -> 1\n",
    "- 1 & 1 -> 0"
   ]
  },
  {
   "cell_type": "code",
   "execution_count": 11,
   "metadata": {},
   "outputs": [
    {
     "data": {
      "text/plain": [
       "(7, 4)"
      ]
     },
     "execution_count": 11,
     "metadata": {},
     "output_type": "execute_result"
    }
   ],
   "source": [
    "\"\"\"\n",
    "\n",
    "1 = 001\n",
    "2 = 010\n",
    "3 = 011\n",
    "4 = 100\n",
    "5 = 101\n",
    "6 = 110\n",
    "7 = 111\n",
    "\n",
    "2 ^ 5 = 010 ^ 101 = 111 = 7\n",
    "1 ^ 5 = 001 ^ 101 = 100 = 4\n",
    "\n",
    "\"\"\"\n",
    "\n",
    "2 ^ 5, 1 ^ 5"
   ]
  },
  {
   "attachments": {},
   "cell_type": "markdown",
   "metadata": {},
   "source": [
    "## NOT \n",
    "\n",
    "La sintaxis **~nº**.\n",
    "\n",
    "Cuando aplicamos esta operación lo que hacemos es ejecutar bit a bit la puerta lógica NOT. <br>\n",
    "\n",
    "\n",
    "NOT:\n",
    "- ~0 -> 1\n",
    "- ~1 -> 0"
   ]
  },
  {
   "cell_type": "code",
   "execution_count": 25,
   "metadata": {},
   "outputs": [
    {
     "data": {
      "text/plain": [
       "'\\n\\n1 = 001\\n2 = 010\\n3 = 011\\n4 = 100\\n5 = 101\\n6 = 110\\n7 = 111\\n\\n~2 = ~010 = 101 = 5\\n~1 = ~001 = 110 = 6\\n\\n'"
      ]
     },
     "execution_count": 25,
     "metadata": {},
     "output_type": "execute_result"
    }
   ],
   "source": [
    "\"\"\"\n",
    "\n",
    "1 = 001\n",
    "2 = 010\n",
    "3 = 011\n",
    "4 = 100\n",
    "5 = 101\n",
    "6 = 110\n",
    "7 = 111\n",
    "\n",
    "~2 = ~010 = 101 = 5\n",
    "~1 = ~001 = 110 = 6\n",
    "\n",
    "\"\"\""
   ]
  },
  {
   "attachments": {},
   "cell_type": "markdown",
   "metadata": {},
   "source": [
    "## SHIFT LEFT\n",
    "\n",
    "La sintaxis **nº << n**.\n",
    "\n",
    "Cuando aplicamos esta operación lo que hacemos es desplazar los bit del número n veces a la izquierda. <br>"
   ]
  },
  {
   "cell_type": "code",
   "execution_count": 26,
   "metadata": {},
   "outputs": [
    {
     "data": {
      "text/plain": [
       "2"
      ]
     },
     "execution_count": 26,
     "metadata": {},
     "output_type": "execute_result"
    }
   ],
   "source": [
    "\"\"\"\n",
    "\n",
    "1 = 001\n",
    "2 = 010\n",
    "3 = 011\n",
    "4 = 100\n",
    "5 = 101\n",
    "6 = 110\n",
    "7 = 111\n",
    "\n",
    "1 << 1 = 001 << 1 = 010 = 2\n",
    "\n",
    "\"\"\"\n",
    "\n",
    "1 << 1"
   ]
  },
  {
   "attachments": {},
   "cell_type": "markdown",
   "metadata": {},
   "source": [
    "## SHIFT RIGHT\n",
    "\n",
    "La sintaxis **nº >> n**.\n",
    "\n",
    "Cuando aplicamos esta operación lo que hacemos es desplazar los bit del número n veces a la derecha. <br>"
   ]
  },
  {
   "cell_type": "code",
   "execution_count": 27,
   "metadata": {},
   "outputs": [
    {
     "data": {
      "text/plain": [
       "3"
      ]
     },
     "execution_count": 27,
     "metadata": {},
     "output_type": "execute_result"
    }
   ],
   "source": [
    "\"\"\"\n",
    "\n",
    "1 = 001\n",
    "2 = 010\n",
    "3 = 011\n",
    "4 = 100\n",
    "5 = 101\n",
    "6 = 110\n",
    "7 = 111\n",
    "\n",
    "7 >> 1 = 111 >> 1 = 011 = 3\n",
    "\n",
    "\"\"\"\n",
    "\n",
    "7 >> 1"
   ]
  }
 ],
 "metadata": {
  "kernelspec": {
   "display_name": "course-venv",
   "language": "python",
   "name": "python3"
  },
  "language_info": {
   "codemirror_mode": {
    "name": "ipython",
    "version": 3
   },
   "file_extension": ".py",
   "mimetype": "text/x-python",
   "name": "python",
   "nbconvert_exporter": "python",
   "pygments_lexer": "ipython3",
   "version": "3.10.11"
  },
  "orig_nbformat": 4
 },
 "nbformat": 4,
 "nbformat_minor": 2
}
