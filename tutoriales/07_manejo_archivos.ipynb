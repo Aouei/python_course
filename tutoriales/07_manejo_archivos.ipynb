{
 "cells": [
  {
   "attachments": {},
   "cell_type": "markdown",
   "metadata": {},
   "source": [
    "# Manejo de archivos externos\n",
    "\n",
    "Python tiene una función built-in llamada **open** que nos permite abrir archivo como .txt, .csv, .xlsx, ...\n",
    "\n",
    "Sin embargo, es cierto, que según el tipo de archivo, python tiene módulos específicos para manejar más cómodamente cada archivo.\n",
    "\n",
    "Ejemplos:\n",
    "- csv para archivos csv (Comma separated values)\n",
    "- json para archivos json (JavaScript object notation)\n",
    "\n",
    "Daremos algunos ejemplos para que todo se entienda mejor."
   ]
  },
  {
   "attachments": {},
   "cell_type": "markdown",
   "metadata": {},
   "source": [
    "## Acceso a la documentación"
   ]
  },
  {
   "cell_type": "code",
   "execution_count": 1,
   "metadata": {},
   "outputs": [
    {
     "name": "stdout",
     "output_type": "stream",
     "text": [
      "Help on function open in module io:\n",
      "\n",
      "open(file, mode='r', buffering=-1, encoding=None, errors=None, newline=None, closefd=True, opener=None)\n",
      "    Open file and return a stream.  Raise OSError upon failure.\n",
      "    \n",
      "    file is either a text or byte string giving the name (and the path\n",
      "    if the file isn't in the current working directory) of the file to\n",
      "    be opened or an integer file descriptor of the file to be\n",
      "    wrapped. (If a file descriptor is given, it is closed when the\n",
      "    returned I/O object is closed, unless closefd is set to False.)\n",
      "    \n",
      "    mode is an optional string that specifies the mode in which the file\n",
      "    is opened. It defaults to 'r' which means open for reading in text\n",
      "    mode.  Other common values are 'w' for writing (truncating the file if\n",
      "    it already exists), 'x' for creating and writing to a new file, and\n",
      "    'a' for appending (which on some Unix systems, means that all writes\n",
      "    append to the end of the file regardless of the current seek position).\n",
      "    In text mode, if encoding is not specified the encoding used is platform\n",
      "    dependent: locale.getpreferredencoding(False) is called to get the\n",
      "    current locale encoding. (For reading and writing raw bytes use binary\n",
      "    mode and leave encoding unspecified.) The available modes are:\n",
      "    \n",
      "    ========= ===============================================================\n",
      "    Character Meaning\n",
      "    --------- ---------------------------------------------------------------\n",
      "    'r'       open for reading (default)\n",
      "    'w'       open for writing, truncating the file first\n",
      "    'x'       create a new file and open it for writing\n",
      "    'a'       open for writing, appending to the end of the file if it exists\n",
      "    'b'       binary mode\n",
      "    't'       text mode (default)\n",
      "    '+'       open a disk file for updating (reading and writing)\n",
      "    'U'       universal newline mode (deprecated)\n",
      "    ========= ===============================================================\n",
      "    \n",
      "    The default mode is 'rt' (open for reading text). For binary random\n",
      "    access, the mode 'w+b' opens and truncates the file to 0 bytes, while\n",
      "    'r+b' opens the file without truncation. The 'x' mode implies 'w' and\n",
      "    raises an `FileExistsError` if the file already exists.\n",
      "    \n",
      "    Python distinguishes between files opened in binary and text modes,\n",
      "    even when the underlying operating system doesn't. Files opened in\n",
      "    binary mode (appending 'b' to the mode argument) return contents as\n",
      "    bytes objects without any decoding. In text mode (the default, or when\n",
      "    't' is appended to the mode argument), the contents of the file are\n",
      "    returned as strings, the bytes having been first decoded using a\n",
      "    platform-dependent encoding or using the specified encoding if given.\n",
      "    \n",
      "    'U' mode is deprecated and will raise an exception in future versions\n",
      "    of Python.  It has no effect in Python 3.  Use newline to control\n",
      "    universal newlines mode.\n",
      "    \n",
      "    buffering is an optional integer used to set the buffering policy.\n",
      "    Pass 0 to switch buffering off (only allowed in binary mode), 1 to select\n",
      "    line buffering (only usable in text mode), and an integer > 1 to indicate\n",
      "    the size of a fixed-size chunk buffer.  When no buffering argument is\n",
      "    given, the default buffering policy works as follows:\n",
      "    \n",
      "    * Binary files are buffered in fixed-size chunks; the size of the buffer\n",
      "      is chosen using a heuristic trying to determine the underlying device's\n",
      "      \"block size\" and falling back on `io.DEFAULT_BUFFER_SIZE`.\n",
      "      On many systems, the buffer will typically be 4096 or 8192 bytes long.\n",
      "    \n",
      "    * \"Interactive\" text files (files for which isatty() returns True)\n",
      "      use line buffering.  Other text files use the policy described above\n",
      "      for binary files.\n",
      "    \n",
      "    encoding is the name of the encoding used to decode or encode the\n",
      "    file. This should only be used in text mode. The default encoding is\n",
      "    platform dependent, but any encoding supported by Python can be\n",
      "    passed.  See the codecs module for the list of supported encodings.\n",
      "    \n",
      "    errors is an optional string that specifies how encoding errors are to\n",
      "    be handled---this argument should not be used in binary mode. Pass\n",
      "    'strict' to raise a ValueError exception if there is an encoding error\n",
      "    (the default of None has the same effect), or pass 'ignore' to ignore\n",
      "    errors. (Note that ignoring encoding errors can lead to data loss.)\n",
      "    See the documentation for codecs.register or run 'help(codecs.Codec)'\n",
      "    for a list of the permitted encoding error strings.\n",
      "    \n",
      "    newline controls how universal newlines works (it only applies to text\n",
      "    mode). It can be None, '', '\\n', '\\r', and '\\r\\n'.  It works as\n",
      "    follows:\n",
      "    \n",
      "    * On input, if newline is None, universal newlines mode is\n",
      "      enabled. Lines in the input can end in '\\n', '\\r', or '\\r\\n', and\n",
      "      these are translated into '\\n' before being returned to the\n",
      "      caller. If it is '', universal newline mode is enabled, but line\n",
      "      endings are returned to the caller untranslated. If it has any of\n",
      "      the other legal values, input lines are only terminated by the given\n",
      "      string, and the line ending is returned to the caller untranslated.\n",
      "    \n",
      "    * On output, if newline is None, any '\\n' characters written are\n",
      "      translated to the system default line separator, os.linesep. If\n",
      "      newline is '' or '\\n', no translation takes place. If newline is any\n",
      "      of the other legal values, any '\\n' characters written are translated\n",
      "      to the given string.\n",
      "    \n",
      "    If closefd is False, the underlying file descriptor will be kept open\n",
      "    when the file is closed. This does not work when a file name is given\n",
      "    and must be True in that case.\n",
      "    \n",
      "    A custom opener can be used by passing a callable as *opener*. The\n",
      "    underlying file descriptor for the file object is then obtained by\n",
      "    calling *opener* with (*file*, *flags*). *opener* must return an open\n",
      "    file descriptor (passing os.open as *opener* results in functionality\n",
      "    similar to passing None).\n",
      "    \n",
      "    open() returns a file object whose type depends on the mode, and\n",
      "    through which the standard file operations such as reading and writing\n",
      "    are performed. When open() is used to open a file in a text mode ('w',\n",
      "    'r', 'wt', 'rt', etc.), it returns a TextIOWrapper. When used to open\n",
      "    a file in a binary mode, the returned class varies: in read binary\n",
      "    mode, it returns a BufferedReader; in write binary and append binary\n",
      "    modes, it returns a BufferedWriter, and in read/write mode, it returns\n",
      "    a BufferedRandom.\n",
      "    \n",
      "    It is also possible to use a string or bytearray as a file for both\n",
      "    reading and writing. For strings StringIO can be used like a file\n",
      "    opened in a text mode, and for bytes a BytesIO can be used like a file\n",
      "    opened in a binary mode.\n",
      "\n"
     ]
    }
   ],
   "source": [
    "help(open)"
   ]
  },
  {
   "attachments": {},
   "cell_type": "markdown",
   "metadata": {},
   "source": [
    "## Lectura/Escritura clásica"
   ]
  },
  {
   "attachments": {},
   "cell_type": "markdown",
   "metadata": {},
   "source": [
    "### Lectura"
   ]
  },
  {
   "cell_type": "code",
   "execution_count": 2,
   "metadata": {},
   "outputs": [
    {
     "name": "stdout",
     "output_type": "stream",
     "text": [
      "content='AAAAAAAAAAAAAAAAAA\\nBBBBBBBBBBBBBBBBBB\\nCCCCCCCCCCCCCCCCCC\\nDDDDDDDDDDDDDDDDDD\\n' \n",
      "content_first_line='AAAAAAAAAAAAAAAAAA\\n' \n",
      "content_first_second_lines=['AAAAAAAAAAAAAAAAAA\\n', 'BBBBBBBBBBBBBBBBBB\\n']\n"
     ]
    }
   ],
   "source": [
    "filename = r'C:\\Users\\sergi\\Documents\\repos\\python_course\\data\\Dummy.txt' # Es buena idea usar r delante de los paths explícitos cuando estamos en Windows.\n",
    "\n",
    "txt_file = open(filename, mode = 'r')\n",
    "content = txt_file.read()\n",
    "\n",
    "txt_file = open(filename, mode = 'r')\n",
    "content_first_line = txt_file.readline()\n",
    "\n",
    "txt_file = open(filename, mode = 'r')\n",
    "content_first_second_lines = txt_file.readlines(19) # Leemos hasta dónde se supera el nº de caracteres | hint=-1 lee todo\n",
    "\n",
    "txt_file.close() # Cuando no se usa se cierra explícitamente\n",
    "\n",
    "print(f'{content=} \\n{content_first_line=} \\n{content_first_second_lines=}')"
   ]
  },
  {
   "attachments": {},
   "cell_type": "markdown",
   "metadata": {},
   "source": [
    "### Lectura y Escritura"
   ]
  },
  {
   "cell_type": "code",
   "execution_count": 3,
   "metadata": {},
   "outputs": [],
   "source": [
    "filename = r'C:\\Users\\sergi\\Documents\\repos\\python_course\\data\\Dummy.txt' # Es buena idea usar r delante de los paths explícitos cuando estamos en Windows.\n",
    "\n",
    "txt_file = open(filename, mode = 'r+') # Leer y escribir\n",
    "txt_file.write(txt_file.read() + '\\n')\n",
    "txt_file.write('E' * 18 + '\\n')\n",
    "txt_file.close()"
   ]
  },
  {
   "attachments": {},
   "cell_type": "markdown",
   "metadata": {},
   "source": [
    "### Append (Si ya existe, escribe al final)"
   ]
  },
  {
   "cell_type": "code",
   "execution_count": 4,
   "metadata": {},
   "outputs": [],
   "source": [
    "filename = r'C:\\Users\\sergi\\Documents\\repos\\python_course\\data\\Dummy.txt' # Es buena idea usar r delante de los paths explícitos cuando estamos en Windows.\n",
    "\n",
    "txt_file = open(filename, mode = 'a')\n",
    "txt_file.write('F' * 18 + '\\n')\n",
    "txt_file.close()"
   ]
  },
  {
   "attachments": {},
   "cell_type": "markdown",
   "metadata": {},
   "source": [
    "## Estructura **with open**"
   ]
  },
  {
   "cell_type": "code",
   "execution_count": 5,
   "metadata": {},
   "outputs": [
    {
     "name": "stdout",
     "output_type": "stream",
     "text": [
      "AAAAAAAAAAAAAAAAAA\n",
      "BBBBBBBBBBBBBBBBBB\n",
      "CCCCCCCCCCCCCCCCCC\n",
      "DDDDDDDDDDDDDDDDDD\n",
      "AAAAAAAAAAAAAAAAAA\n",
      "BBBBBBBBBBBBBBBBBB\n",
      "CCCCCCCCCCCCCCCCCC\n",
      "DDDDDDDDDDDDDDDDDD\n",
      "\n",
      "EEEEEEEEEEEEEEEEEE\n",
      "FFFFFFFFFFFFFFFFFF\n",
      "\n"
     ]
    }
   ],
   "source": [
    "filename = r'C:\\Users\\sergi\\Documents\\repos\\python_course\\data\\Dummy.txt' # Es buena idea usar r delante de los paths explícitos cuando estamos en Windows.\n",
    "\n",
    "with open(filename, 'r') as txt_file:\n",
    "    content = txt_file.read()\n",
    "\n",
    "print(content)"
   ]
  },
  {
   "attachments": {},
   "cell_type": "markdown",
   "metadata": {},
   "source": [
    "## Manejo con módulos específicos"
   ]
  },
  {
   "attachments": {},
   "cell_type": "markdown",
   "metadata": {},
   "source": [
    "### CSV"
   ]
  },
  {
   "cell_type": "code",
   "execution_count": 8,
   "metadata": {},
   "outputs": [
    {
     "name": "stdout",
     "output_type": "stream",
     "text": [
      "{'UUID': '65.tif', 'LONG': '36.47207866666667', 'LAT': '-6.249120222222222'}\n",
      "{'UUID': '65.tif', 'LONG': '36.47207866666667', 'LAT': '-6.249120222222222'}\n",
      "{'UUID': '65.tif', 'LONG': '36.47207866666667', 'LAT': '-6.249120222222222'}\n",
      "{'UUID': '65.tif', 'LONG': '36.47207866666667', 'LAT': '-6.249120222222222'}\n",
      "{'UUID': '65.tif', 'LONG': '36.47207866666667', 'LAT': '-6.249120222222222'}\n",
      "{'UUID': '65.tif', 'LONG': '36.47207866666667', 'LAT': '-6.249120222222222'}\n"
     ]
    }
   ],
   "source": [
    "import csv\n",
    "\n",
    "csv_path = r'C:\\Users\\sergi\\Documents\\repos\\python_course\\data\\data.csv'\n",
    "\n",
    "## READ\n",
    "with open(csv_path) as csv_file:\n",
    "    reader = csv.DictReader(csv_file, delimiter = ',')\n",
    "    for row in reader:\n",
    "        print(row)\n",
    "\n",
    "## WRITE\n",
    "with open(csv_path, 'a') as csv_file:\n",
    "    spamwriter = csv.DictWriter(csv_file, delimiter = ',', fieldnames = list(row.keys()))\n",
    "    spamwriter.writerow(row)"
   ]
  },
  {
   "attachments": {},
   "cell_type": "markdown",
   "metadata": {},
   "source": [
    "### JSON"
   ]
  },
  {
   "cell_type": "code",
   "execution_count": 7,
   "metadata": {},
   "outputs": [
    {
     "name": "stdout",
     "output_type": "stream",
     "text": [
      "{'ok': True, 'fail': False}\n"
     ]
    }
   ],
   "source": [
    "import json\n",
    "\n",
    "json_path = r'C:\\Users\\sergi\\Documents\\repos\\python_course\\data\\config.json'\n",
    "\n",
    "## READ\n",
    "with open(json_path) as json_file:\n",
    "    data = json.load(json_file)\n",
    "\n",
    "print(data)\n",
    "\n",
    "## WRITE\n",
    "with open(json_path, 'w') as json_file:\n",
    "    data['WRITE'] = None\n",
    "    data = json.dump(data, json_file)"
   ]
  },
  {
   "attachments": {},
   "cell_type": "markdown",
   "metadata": {},
   "source": [
    "### YAML"
   ]
  },
  {
   "cell_type": "code",
   "execution_count": 8,
   "metadata": {},
   "outputs": [
    {
     "name": "stdout",
     "output_type": "stream",
     "text": [
      "{'n_processed': 1, 'logs': {0: 'OK', 1: 'OK', 2: 'OK', 3: 'KO', 4: 'OK', 5: 'OK', 6: 'KO', 7: 'OK', 8: 'KO', 9: 'OK'}}\n"
     ]
    }
   ],
   "source": [
    "import yaml\n",
    "\n",
    "yaml_path = r'C:\\Users\\sergi\\Documents\\repos\\python_course\\data\\config.yml'\n",
    "\n",
    "## READ\n",
    "with open(yaml_path, \"r\") as yml_file:\n",
    "    try:\n",
    "        data = yaml.safe_load(yml_file)\n",
    "        print(data)\n",
    "    except yaml.YAMLError as exc:\n",
    "        print(exc)\n",
    "    \n",
    "## WRITE\n",
    "with open(yaml_path, \"a\") as yml_file:\n",
    "    try:\n",
    "        data['WRITE'] = None\n",
    "        yaml.dump(data, yml_file)\n",
    "    except yaml.YAMLError as exc:\n",
    "        print(exc)"
   ]
  },
  {
   "attachments": {},
   "cell_type": "markdown",
   "metadata": {},
   "source": [
    "### TIF"
   ]
  },
  {
   "cell_type": "code",
   "execution_count": 9,
   "metadata": {},
   "outputs": [
    {
     "name": "stdout",
     "output_type": "stream",
     "text": [
      "(\"profile={'driver': 'GTiff', 'dtype': 'uint8', 'nodata': None, 'width': 433, \"\n",
      " \"'height': 578, 'count': 4, 'crs': None, 'transform': Affine(1.0, 0.0, 0.0,\\n\"\n",
      " \"       0.0, 1.0, 0.0), 'blockysize': 7, 'tiled': False, 'compress': 'lzw', \"\n",
      " \"'interleave': 'pixel'}\")\n",
      "data.shape=(4, 578, 433)\n"
     ]
    },
    {
     "name": "stderr",
     "output_type": "stream",
     "text": [
      "c:\\Users\\sergi\\Documents\\repos\\python_course\\course-venv\\lib\\site-packages\\rasterio\\__init__.py:330: NotGeoreferencedWarning: The given matrix is equal to Affine.identity or its flipped counterpart. GDAL may ignore this matrix and save no geotransform without raising an error. This behavior is somewhat driver-specific.\n",
      "  dataset = writer(\n"
     ]
    }
   ],
   "source": [
    "import rasterio\n",
    "from pprint import pprint\n",
    "\n",
    "tif_path = r'C:\\Users\\sergi\\Documents\\repos\\python_course\\data\\rgb.tif'\n",
    "\n",
    "## READ\n",
    "with rasterio.open(tif_path, 'r') as src:\n",
    "    data = src.read()\n",
    "    profile = src.profile\n",
    "    pprint(f'{profile=}')\n",
    "    print(f'{data.shape=}')\n",
    "\n",
    "## WRITE\n",
    "with rasterio.open(tif_path, 'w', **profile) as dst:\n",
    "    dst.write(data)"
   ]
  },
  {
   "cell_type": "markdown",
   "metadata": {},
   "source": [
    "### Excel"
   ]
  },
  {
   "cell_type": "code",
   "execution_count": 10,
   "metadata": {},
   "outputs": [
    {
     "name": "stdout",
     "output_type": "stream",
     "text": [
      "Header\n",
      "Segment | Country | Product | Discount Band | Units Sold | Manufacturing Price | Sale Price | Gross Sales | Discounts |  Sales | COGS | Profit | Date | Month Number | Month Name | Year | \n",
      "\n",
      "Content\n",
      "Government | Canada | Carretera | None | 1618.5 | 3 | 20 | 32370 | 0 | 32370 | 16185 | 16185 | 2014-01-01 00:00:00 | 1 | January | 2014 | \n",
      "Government | Germany | Carretera | None | 1321 | 3 | 20 | 26420 | 0 | 26420 | 13210 | 13210 | 2014-01-01 00:00:00 | 1 | January | 2014 | \n",
      "Midmarket | France | Carretera | None | 2178 | 3 | 15 | 32670 | 0 | 32670 | 21780 | 10890 | 2014-06-01 00:00:00 | 6 | June | 2014 | \n"
     ]
    }
   ],
   "source": [
    "import openpyxl\n",
    "\n",
    "workbook = openpyxl.load_workbook(filename = '../data/Financial Sample.xlsx')\n",
    "\n",
    "worksheet = workbook['Sheet1']\n",
    "\n",
    "column_headers = []\n",
    "for column in worksheet.iter_cols(min_row = 1, max_row = 1, values_only = True):\n",
    "    column_headers.extend(column)\n",
    "\n",
    "print('Header')\n",
    "for index, header in enumerate(column_headers, start = 1):\n",
    "    print(f\"{header}\", end = ' | ')\n",
    "else:\n",
    "    print(end = '\\n')\n",
    "\n",
    "print('\\nContent')\n",
    "for row in worksheet.iter_rows(min_row = 2, max_row = 4, values_only = True):\n",
    "    for index, value in enumerate(row, start = 1):\n",
    "        print(f\"{value}\", end = ' | ')\n",
    "    else:\n",
    "        print(end = '\\n')\n",
    "\n",
    "workbook.close()"
   ]
  }
 ],
 "metadata": {
  "kernelspec": {
   "display_name": "course-venv",
   "language": "python",
   "name": "python3"
  },
  "language_info": {
   "codemirror_mode": {
    "name": "ipython",
    "version": 3
   },
   "file_extension": ".py",
   "mimetype": "text/x-python",
   "name": "python",
   "nbconvert_exporter": "python",
   "pygments_lexer": "ipython3",
   "version": "3.10.11"
  },
  "orig_nbformat": 4
 },
 "nbformat": 4,
 "nbformat_minor": 2
}
