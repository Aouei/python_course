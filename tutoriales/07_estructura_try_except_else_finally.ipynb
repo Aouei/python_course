{
 "cells": [
  {
   "attachments": {},
   "cell_type": "markdown",
   "metadata": {},
   "source": [
    "# Control de flujo. Estructura try-except-else-finally\n",
    "\n",
    "En informática existen al menos 3 tipos de errores básicos:\n",
    "- **Error sintáxtico**: No hemos escrito bien alguna parte del código según lo requierre nuestro lenguaje.\n",
    "- **Error lógico**: A la hora de programar hay algo que se nos pasó por alto y aunque el código esté bien escrito, el resultado que obtendremos no tiene que ser el deseado.\n",
    "- **Error en tiempo de ejecución**: Durante la ejecución de nuestro código, algo inesperado ocurre y nuestro código\ttermina la ejecución de manera forzada.\n",
    "\n",
    "Sea cual sea el tipo de error al que nos enfrentemos, a veces necesitamos que nuestro código siga funcionando.\n",
    "\n",
    "Un ejemplo sería abrir 2 archivos y que una de ellos no exista. <br>\n",
    "Si el otro si existe quizás no interese procesar el que si existe y ya veremos que pasa con el que falta.\n",
    "\n",
    "Para tener un mayor control sobre qué ocurre en nuestro código, existe la estructura **try-except-else-finally**.\n",
    "\n",
    "Sintaxis:\n",
    "- try:\n",
    "    - code\n",
    "- except:\n",
    "    - code\n",
    "- else:\n",
    "    - code\n",
    "- finally:\n",
    "    - code\n",
    "\n",
    "No necesariamente tienen que estar las 4 partes presentes en un código. Normalmente se suele escribir más la estructura:\n",
    "\n",
    "- try:\n",
    "    - code\n",
    "- except:\n",
    "    - code\n",
    "\n",
    "El significado de cada parte es el siguiente:\n",
    "- **try**:\n",
    "    - Encierra el código que queremos ejecutar. Si algo falla, se salta a **except** en caso de que esté escrita esa parte.\n",
    "- **except**:\n",
    "    - Captura lo que se conoce como **excepción**. \n",
    "    - Podemos escribir simplemente **except:** y escribir un código que gestione el error como un mensaje indicando que algo falló o escribir **except Exception as alias**.\n",
    "    - **except ExceptionType as alias**:\n",
    "        - Con esta sintaxis estamos indicando que solo queremos controlar la excepción que hemos indicado. Si ocurre otra que no hayamo indicado, el código\tseguirá fallando y podría pararse la ejecución.\n",
    "- **else**:\n",
    "    - Permite definir una parte de código que se ejecutará en caso de la parte dentro de **try** se haya ejecutado correctamente.\n",
    "- **finally**:\n",
    "    - Permite definir una parte de código que sí o sí se ejecutará independientemente de ocurre algún error o no."
   ]
  },
  {
   "attachments": {},
   "cell_type": "markdown",
   "metadata": {},
   "source": [
    "## Ejemplo 1 | Error descontrolado"
   ]
  },
  {
   "cell_type": "code",
   "execution_count": 2,
   "metadata": {},
   "outputs": [
    {
     "ename": "TypeError",
     "evalue": "unsupported operand type(s) for +: 'int' and 'str'",
     "output_type": "error",
     "traceback": [
      "\u001b[1;31m---------------------------------------------------------------------------\u001b[0m",
      "\u001b[1;31mTypeError\u001b[0m                                 Traceback (most recent call last)",
      "Cell \u001b[1;32mIn[2], line 1\u001b[0m\n\u001b[1;32m----> 1\u001b[0m \u001b[39m1\u001b[39;49m \u001b[39m+\u001b[39;49m \u001b[39m'\u001b[39;49m\u001b[39ma\u001b[39;49m\u001b[39m'\u001b[39;49m\n\u001b[0;32m      3\u001b[0m \u001b[39m'\u001b[39m\u001b[39mEjecución sin errores\u001b[39m\u001b[39m'\u001b[39m\n",
      "\u001b[1;31mTypeError\u001b[0m: unsupported operand type(s) for +: 'int' and 'str'"
     ]
    }
   ],
   "source": [
    "1 + 'a'\n",
    "\n",
    "'Ejecución sin errores'"
   ]
  },
  {
   "attachments": {},
   "cell_type": "markdown",
   "metadata": {},
   "source": [
    "## Ejemplo 2 | Manejo de la situación del ejemplo 1\n",
    "\n",
    "Por normal general no podemos realizar operaciones entre distintos tipos de datos. <br>\n",
    "En el caso de arriba vemos que no podemos sumar un número con una letra."
   ]
  },
  {
   "cell_type": "code",
   "execution_count": 3,
   "metadata": {},
   "outputs": [
    {
     "data": {
      "text/plain": [
       "'Ejecución sin errores'"
      ]
     },
     "execution_count": 3,
     "metadata": {},
     "output_type": "execute_result"
    }
   ],
   "source": [
    "try:\n",
    "    1 + 'a'\n",
    "except:\n",
    "    pass\n",
    "\n",
    "'Ejecución sin errores'"
   ]
  },
  {
   "attachments": {},
   "cell_type": "markdown",
   "metadata": {},
   "source": [
    "## Ejemplo 3 | Capturar una excepción específica\n",
    "\n",
    "En este caso vamos a tratar solo de controlar la excepción **FileNotFoundError**. Esta ocurre cuando queremos abrir un archivo pero python no lo encuentra.\n",
    "Es normal que cuando se ejecute este código nos salte un error porque la excepción que ocurre es **TypeError** porque no estamos abriendo archivos, estamos realizando operaciones entre datos de distinto tipo."
   ]
  },
  {
   "cell_type": "code",
   "execution_count": 6,
   "metadata": {},
   "outputs": [
    {
     "ename": "TypeError",
     "evalue": "unsupported operand type(s) for +: 'int' and 'str'",
     "output_type": "error",
     "traceback": [
      "\u001b[1;31m---------------------------------------------------------------------------\u001b[0m",
      "\u001b[1;31mTypeError\u001b[0m                                 Traceback (most recent call last)",
      "Cell \u001b[1;32mIn[6], line 2\u001b[0m\n\u001b[0;32m      1\u001b[0m \u001b[39mtry\u001b[39;00m:\n\u001b[1;32m----> 2\u001b[0m     \u001b[39m1\u001b[39;49m \u001b[39m+\u001b[39;49m \u001b[39m'\u001b[39;49m\u001b[39ma\u001b[39;49m\u001b[39m'\u001b[39;49m\n\u001b[0;32m      3\u001b[0m \u001b[39mexcept\u001b[39;00m \u001b[39mFileNotFoundError\u001b[39;00m \u001b[39mas\u001b[39;00m e:\n\u001b[0;32m      4\u001b[0m     \u001b[39mpass\u001b[39;00m\n",
      "\u001b[1;31mTypeError\u001b[0m: unsupported operand type(s) for +: 'int' and 'str'"
     ]
    }
   ],
   "source": [
    "try:\n",
    "    1 + 'a'\n",
    "except FileNotFoundError as e:\n",
    "    pass\n",
    "\n",
    "'Ejecución sin errores'"
   ]
  },
  {
   "attachments": {},
   "cell_type": "markdown",
   "metadata": {},
   "source": [
    "## Ejemplo 4 | Manejo de multiples excepciones de manera específica"
   ]
  },
  {
   "cell_type": "code",
   "execution_count": 9,
   "metadata": {},
   "outputs": [
    {
     "data": {
      "text/plain": [
       "'Ejecución sin errores'"
      ]
     },
     "execution_count": 9,
     "metadata": {},
     "output_type": "execute_result"
    }
   ],
   "source": [
    "try:\n",
    "    1 + 'a'\n",
    "except (FileNotFoundError, TypeError) as e:\n",
    "    pass\n",
    "\n",
    "'Ejecución sin errores'"
   ]
  },
  {
   "attachments": {},
   "cell_type": "markdown",
   "metadata": {},
   "source": [
    "## Ejemplo 5 | Aplicación estructura try-except-else-finally (a)"
   ]
  },
  {
   "cell_type": "code",
   "execution_count": 21,
   "metadata": {},
   "outputs": [
    {
     "data": {
      "text/plain": [
       "('Ejecución sin errores', 1, -1)"
      ]
     },
     "execution_count": 21,
     "metadata": {},
     "output_type": "execute_result"
    }
   ],
   "source": [
    "numero_else = 1\n",
    "numero_finally = 1\n",
    "\n",
    "try:\n",
    "    1 + 'a'\n",
    "except (FileNotFoundError, TypeError) as e:\n",
    "    pass\n",
    "else:\n",
    "    numero_else = 2\n",
    "finally:\n",
    "    numero_finally = -1\n",
    "\n",
    "'Ejecución sin errores', numero_else, numero_finally"
   ]
  },
  {
   "attachments": {},
   "cell_type": "markdown",
   "metadata": {},
   "source": [
    "## Ejemplo 5 | Aplicación estructura try-except-else-finally (b)"
   ]
  },
  {
   "cell_type": "code",
   "execution_count": 22,
   "metadata": {},
   "outputs": [
    {
     "data": {
      "text/plain": [
       "('Ejecución sin errores', 2, -1)"
      ]
     },
     "execution_count": 22,
     "metadata": {},
     "output_type": "execute_result"
    }
   ],
   "source": [
    "numero_else = 1\n",
    "numero_finally = 1\n",
    "\n",
    "try:\n",
    "    1 + 1\n",
    "except (FileNotFoundError, TypeError) as e:\n",
    "    pass\n",
    "else:\n",
    "    numero_else = 2\n",
    "finally:\n",
    "    numero_finally = -1\n",
    "\n",
    "'Ejecución sin errores', numero_else, numero_finally"
   ]
  }
 ],
 "metadata": {
  "kernelspec": {
   "display_name": "Python 3",
   "language": "python",
   "name": "python3"
  },
  "language_info": {
   "codemirror_mode": {
    "name": "ipython",
    "version": 3
   },
   "file_extension": ".py",
   "mimetype": "text/x-python",
   "name": "python",
   "nbconvert_exporter": "python",
   "pygments_lexer": "ipython3",
   "version": "3.10.11"
  },
  "orig_nbformat": 4
 },
 "nbformat": 4,
 "nbformat_minor": 2
}
