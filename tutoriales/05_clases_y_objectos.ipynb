{
 "cells": [
  {
   "attachments": {},
   "cell_type": "markdown",
   "metadata": {},
   "source": [
    "# Clases y Objectos"
   ]
  },
  {
   "cell_type": "markdown",
   "metadata": {},
   "source": [
    "## Definición"
   ]
  },
  {
   "cell_type": "markdown",
   "metadata": {},
   "source": [
    "En informática hay mínimo 4 paradigmas o formas de programación:\n",
    "- Imperativa: Indicar en cada momento a la máquina que debe hacer\n",
    "- Procedural: Crear funciones para reducir dimensiónes de código, mejorar la escalabilidad y permitir un código más reusable.\n",
    "- Funcional: Las funciones se definen como si fueran funciones matemáticas. Lo que lleva a una programación generalista más potente.\n",
    "- Orientación a Objectos: Se define el concepto de **clase** como una representación general de algo específico permitiendo diseñar un código más expresivo."
   ]
  },
  {
   "attachments": {},
   "cell_type": "markdown",
   "metadata": {},
   "source": [
    "### Programación imperativa\n",
    "\n",
    "Todo lo que necesitamos lo programamos nosotros y todo lo que ocurre lo hemos programado nosotros."
   ]
  },
  {
   "cell_type": "code",
   "execution_count": 1,
   "metadata": {},
   "outputs": [
    {
     "data": {
      "text/plain": [
       "15"
      ]
     },
     "execution_count": 1,
     "metadata": {},
     "output_type": "execute_result"
    }
   ],
   "source": [
    "numero : int = 5\n",
    "suma : int = 0\n",
    "i : int = 1\n",
    "\n",
    "while i <= numero:\n",
    "    suma = suma + i\n",
    "    i = i + 1\n",
    "\n",
    "suma"
   ]
  },
  {
   "cell_type": "code",
   "execution_count": 2,
   "metadata": {},
   "outputs": [
    {
     "data": {
      "text/plain": [
       "28"
      ]
     },
     "execution_count": 2,
     "metadata": {},
     "output_type": "execute_result"
    }
   ],
   "source": [
    "numero : int = 7\n",
    "suma : int = 0\n",
    "i : int = 1\n",
    "\n",
    "while i <= numero:\n",
    "    suma = suma + i\n",
    "    i = i + 1\n",
    "\n",
    "suma"
   ]
  },
  {
   "attachments": {},
   "cell_type": "markdown",
   "metadata": {},
   "source": [
    "### Programación procedural\n",
    "\n",
    "Cuando sea necesario, creamos funciones para no tener que estar a cada rato escribiendo lo mismo. <br>\n",
    "Si lo necesitamos, haremos uso de funciones ya creadas por otras personas como las funciones built-in de python."
   ]
  },
  {
   "cell_type": "code",
   "execution_count": 3,
   "metadata": {},
   "outputs": [
    {
     "data": {
      "text/plain": [
       "(15, 28)"
      ]
     },
     "execution_count": 3,
     "metadata": {},
     "output_type": "execute_result"
    }
   ],
   "source": [
    "def calcular_suma(n : int) -> int:\n",
    "    numeros : list = []\n",
    "    \n",
    "    for i in range(1, n + 1):\n",
    "        numeros = numeros + [i]\n",
    "        \n",
    "    return sum(numeros)\n",
    "\n",
    "calcular_suma(5), calcular_suma(7)"
   ]
  },
  {
   "attachments": {},
   "cell_type": "markdown",
   "metadata": {},
   "source": [
    "### Programación funcional\n",
    "\n",
    "En la programación funcional, las funciones se llevan a otro nivel partiendo del concepto matemático de composición de funciones. <br>\n",
    "Además, las funciones pueden recibir otras funciones como parámetros.\n",
    "\n",
    "Ejemplo:\n",
    "- g(x) = x + 1\n",
    "- f(g(x)) = x - 1\n",
    "- g(1) = 1 + 1 = 2\n",
    "- f(g(1)) = g(1) - 1 = 2 - 1 = 1\n",
    "\n",
    "En python el ejemplo que hemos estado viendo (dado n, calcula suma 1, n + 1) podríamos calcularla combinado funciones."
   ]
  },
  {
   "cell_type": "code",
   "execution_count": 4,
   "metadata": {},
   "outputs": [
    {
     "data": {
      "text/plain": [
       "(15, 28, [1, 4, 9])"
      ]
     },
     "execution_count": 4,
     "metadata": {},
     "output_type": "execute_result"
    }
   ],
   "source": [
    "n : int = 5\n",
    "suma : int = sum(range(1, n + 1))\n",
    "\n",
    "n : int = 7\n",
    "suma1 : int = sum(range(1, n + 1))\n",
    "\n",
    "def map(function, iterable) -> list:\n",
    "    return [function(x) for x in iterable]\n",
    "\n",
    "def power_of_two(x : int) -> int:\n",
    "    return x ** 2\n",
    "\n",
    "suma, suma1, map(power_of_two, [1, 2, 3])"
   ]
  },
  {
   "attachments": {},
   "cell_type": "markdown",
   "metadata": {},
   "source": [
    "### Programación Orientada a Objectos\n",
    "\n",
    "Hasta ahora, los tipos de datos que hemos visto son básicamente números, letras, listas, ...; Lo básico.\n",
    "\n",
    "Sin embargo, hay problemas en donde necesitamos tipos de datos más complejos. <br>\n",
    "Necesitamos un código con más fuerza que nos permita hacer más cosas en pos de resolver el problema al que nos enfrentamos.\n",
    "\n",
    "La Orientación a Objectos en resumen define 2 conceptos nuevos. **Clase** e **Instancia u objeto**. <br>\n",
    "\n",
    "El concepto **Clase** es una nueva estructura que tiene como objetivo representar datos y conceptos más complejos. <br>\n",
    "A veces más cercanos a nuestro mundo y otros más cercanos a un formalismo matématico. Depende del problema. <br>\n",
    "\n",
    "La **representación** se plantea de forma **genérica**. Es decir, si queremos representar un arbol, según el problema necesitaremos más o menos detalle. <br>\n",
    "Una posible representación sería:\n",
    "\n",
    "- Arbol\n",
    "    - tiene_hojas : bool\n",
    "    - color_hojas : Tuple[int, int, int]\n",
    "    - tipo : perenne | caduco\n",
    "    - altura_tronco : float\n",
    "    - color_tronco : Tuple[int, int, int]\n",
    "    - ...\n",
    "\n",
    "Si queremos representar una persona en una web. Es decir, un usuario de Facebook por ejemplo, una posible representación sería:\n",
    "\n",
    "- Usuario\n",
    "    - nombre : string\n",
    "    - alias : string\n",
    "    - edad : int\n",
    "    - amigos : List[Usuario]\n",
    "    - posts : List[Post]\n",
    "    - ...\n",
    "\n",
    "Estas clases, además de servir para representar algo y de tener datos (**atributos**) que definen ese concepto. Tambien pueden ser elementos activos, que hagan cosas (**métodos**). <br>\n",
    "Ejemplos: \n",
    "- Un usuario de Facebook puede **aceptar amigos**, lo que añade un Usuario a la lista de amigos.\n",
    "- **Eliminar amigos**, lo que elimina un Usuario de la lista de amigos.\n",
    "- Un usuario de Facebook puede **publicar** un **Post**, lo que añade un Post a la lista de posts.\n",
    "- Puede **reaccionar** a **Post**, lo que tiene unas implicaciones ...\n",
    "\n",
    "El concepto **Objeto** representa la clase llevada a lo específico.\n",
    "\n",
    "Por ejemplo, en el caso del Usuario. Un objeto es un Usuario con valores concretos para cada carácterística espeficada. <br>\n",
    "\n",
    "Según el tipo de clase puede haber 1 o varios objetos para dicha clase. <br>\n",
    "Siguiendo con la clase Usuario, un objeto sería un Usuario con nombre Maria, ... y otro objeto sería un Usuario con nombre Pepe, ...\n",
    "\n",
    "<img src='..\\imagenes\\08_orientacion_objetos_concepto.jpg' title = 'El toro de Picasso' alt='https://www.pamelaayuso.com/es/blog/el-toro-de-picasso-diseno-optimizado'/>"
   ]
  },
  {
   "attachments": {},
   "cell_type": "markdown",
   "metadata": {},
   "source": [
    "#### Ejemplos conceptuales usando diagramas UML (Unified Modeling Language)\n",
    "\n",
    "Modelo animales\n",
    "<img src='..\\imagenes\\08_orientacion_objetos_animal.png' title = 'Animales' alt='https://www.pamelaayuso.com/es/blog/el-toro-de-picasso-diseno-optimizado'/>\n",
    "\n",
    "WTF????\n",
    "<img src='..\\imagenes\\08_orientacion_objetos_fuck.png' title = 'Se fue de las manos' alt='https://www.pamelaayuso.com/es/blog/el-toro-de-picasso-diseno-optimizado'/>"
   ]
  },
  {
   "attachments": {},
   "cell_type": "markdown",
   "metadata": {},
   "source": [
    "### ¿Por qué esta chapa?\n",
    "\n",
    "Porque **todo**, **absolutamente todo** en python **son objectos**.\n",
    "\n",
    "Lo que hasta ahora hemos visto como los ints, floats, funciones, etc... Son objetos.\n",
    "\n",
    "Para demostrarlo, introducimos una nueva función built-in **dir(object = None)**. Esta lista (muestra) los métodos de un objeto."
   ]
  },
  {
   "attachments": {},
   "cell_type": "markdown",
   "metadata": {},
   "source": [
    "Int no es solo un número entero"
   ]
  },
  {
   "cell_type": "code",
   "execution_count": 5,
   "metadata": {},
   "outputs": [
    {
     "name": "stdout",
     "output_type": "stream",
     "text": [
      "['__abs__', '__add__', '__and__', '__bool__', '__ceil__', '__class__', '__delattr__', '__dir__', '__divmod__', '__doc__', '__eq__', '__float__', '__floor__', '__floordiv__', '__format__', '__ge__', '__getattribute__', '__getnewargs__', '__gt__', '__hash__', '__index__', '__init__', '__init_subclass__', '__int__', '__invert__', '__le__', '__lshift__', '__lt__', '__mod__', '__mul__', '__ne__', '__neg__', '__new__', '__or__', '__pos__', '__pow__', '__radd__', '__rand__', '__rdivmod__', '__reduce__', '__reduce_ex__', '__repr__', '__rfloordiv__', '__rlshift__', '__rmod__', '__rmul__', '__ror__', '__round__', '__rpow__', '__rrshift__', '__rshift__', '__rsub__', '__rtruediv__', '__rxor__', '__setattr__', '__sizeof__', '__str__', '__sub__', '__subclasshook__', '__truediv__', '__trunc__', '__xor__', 'as_integer_ratio', 'bit_count', 'bit_length', 'conjugate', 'denominator', 'from_bytes', 'imag', 'numerator', 'real', 'to_bytes']\n"
     ]
    },
    {
     "data": {
      "text/plain": [
       "(8, 4)"
      ]
     },
     "execution_count": 5,
     "metadata": {},
     "output_type": "execute_result"
    }
   ],
   "source": [
    "print(dir( int ))\n",
    "\n",
    "numero : int = 8\n",
    "numero.numerator, numero.bit_length()"
   ]
  },
  {
   "attachments": {},
   "cell_type": "markdown",
   "metadata": {},
   "source": [
    "List no es solo un contenedor ordenado de datos"
   ]
  },
  {
   "cell_type": "code",
   "execution_count": 6,
   "metadata": {},
   "outputs": [
    {
     "name": "stdout",
     "output_type": "stream",
     "text": [
      "['__add__', '__class__', '__class_getitem__', '__contains__', '__delattr__', '__delitem__', '__dir__', '__doc__', '__eq__', '__format__', '__ge__', '__getattribute__', '__getitem__', '__gt__', '__hash__', '__iadd__', '__imul__', '__init__', '__init_subclass__', '__iter__', '__le__', '__len__', '__lt__', '__mul__', '__ne__', '__new__', '__reduce__', '__reduce_ex__', '__repr__', '__reversed__', '__rmul__', '__setattr__', '__setitem__', '__sizeof__', '__str__', '__subclasshook__', 'append', 'clear', 'copy', 'count', 'extend', 'index', 'insert', 'pop', 'remove', 'reverse', 'sort']\n"
     ]
    },
    {
     "data": {
      "text/plain": [
       "[1, 1, 3, 1]"
      ]
     },
     "execution_count": 6,
     "metadata": {},
     "output_type": "execute_result"
    }
   ],
   "source": [
    "print(dir( list ))\n",
    "\n",
    "lista : list = []\n",
    "lista.append(1)\n",
    "lista.extend([1, 3, 1])\n",
    "lista"
   ]
  },
  {
   "attachments": {},
   "cell_type": "markdown",
   "metadata": {},
   "source": [
    "Las funciones también son objetos"
   ]
  },
  {
   "cell_type": "code",
   "execution_count": 7,
   "metadata": {},
   "outputs": [
    {
     "name": "stdout",
     "output_type": "stream",
     "text": [
      "['__annotations__', '__builtins__', '__call__', '__class__', '__closure__', '__code__', '__defaults__', '__delattr__', '__dict__', '__dir__', '__doc__', '__eq__', '__format__', '__ge__', '__get__', '__getattribute__', '__globals__', '__gt__', '__hash__', '__init__', '__init_subclass__', '__kwdefaults__', '__le__', '__lt__', '__module__', '__name__', '__ne__', '__new__', '__qualname__', '__reduce__', '__reduce_ex__', '__repr__', '__setattr__', '__sizeof__', '__str__', '__subclasshook__']\n",
      "Nombre:  suma \n",
      "Valores por defecto:  (3,) \n",
      "Clase de origen:  <class 'function'> \n",
      "Tipos de datos anotados por parámetro y retorno:  {'a': <class 'int'>, 'b': <class 'int'>, 'return': <class 'int'>}\n"
     ]
    }
   ],
   "source": [
    "def suma(a : int, b : int = 3) -> int:\n",
    "    return a + b\n",
    "\n",
    "print(dir(suma))\n",
    "print('Nombre: ', suma.__name__, '\\nValores por defecto: ', suma.__defaults__, '\\nClase de origen: ', suma.__class__, '\\nTipos de datos anotados por parámetro y retorno: ', suma.__annotations__)"
   ]
  },
  {
   "attachments": {},
   "cell_type": "markdown",
   "metadata": {},
   "source": [
    "### Resumen\n",
    "\n",
    "- **Clase**: Definición general de un concepto. Modela algo que no existe por defecto en nuestro programa y que lo necesitamos para resolver el problema en cuestión.\n",
    "    - **Atributos**: Datos representan caracteristicas del concepto a modelar\n",
    "    - **Operaciones**: Indica qué puede hacer una clase.\n",
    "        - Ejemplo: Un Animal se puede mover.\n",
    "    - **Métodos**: Es la implementación de una operación. La operación define textualmente qué puede hacer una clase y el método es el código que hace realidad esa operación.\n",
    "\n",
    "- **Objeto o Instancia**: Es una clase con valores concretos para los atributos definidos por la misma.\n",
    "\n",
    "Si tenemos un Objeto y queremos acceder a un atributo o método. La forma es a través de la **notación punto**.\n",
    "\n",
    "- Ejemplos:\n",
    "    - Si tenemos un objeto que se llama gaviota1 y tiene un método que se llama volar(), la forma de hacer volar a la gaviota es **gaviota1.volar()**\n",
    "    - Si tenemos un objeto que se llama satélite2 y tiene un atributo llama tipo_sensor, la forma de saber qué sensor tiene el sensor es **satélite2.sensor**\n",
    "        - Aunque de normal se debe crear un método que devuelve el atributo a consultar. La forma correcta sería **satélite2.get_sensor()** Pero eso no es parte del curso.\n",
    "\n",
    "Si alguien quiere profundizar en cómo se programan clases en python aquí dejo una web buena para empezar y en español.\n",
    "\n",
    "https://j2logo.com/python/tutorial/programacion-orientada-a-objetos/"
   ]
  },
  {
   "cell_type": "markdown",
   "metadata": {},
   "source": [
    "## La Clase String"
   ]
  },
  {
   "cell_type": "markdown",
   "metadata": {},
   "source": [
    "Como dijimos en la última sección, todo en python en un objeto. <br>\n",
    "En esta sección enumeramos algunos de los métodos estándar de la clase String junto con ejemplos de uso.\n",
    "\n",
    "Para más información es buena idea saber que existe la documentación oficial de python.\n",
    "- https://docs.python.org/3/library/stdtypes.html#str\n",
    "\n",
    "Pero normalmente está mejor usar alguna web para aprender porque simplifica mucho los conceptos de varios lenguajes:\n",
    "- https://www.w3schools.com/python/python_ref_string.asp"
   ]
  },
  {
   "cell_type": "markdown",
   "metadata": {},
   "source": [
    "### Métodos más comunes"
   ]
  },
  {
   "cell_type": "markdown",
   "metadata": {},
   "source": [
    "Listado de métodos"
   ]
  },
  {
   "cell_type": "code",
   "execution_count": 8,
   "metadata": {},
   "outputs": [
    {
     "name": "stdout",
     "output_type": "stream",
     "text": [
      "__add__\n",
      "__class__\n",
      "__contains__\n",
      "__delattr__\n",
      "__dir__\n",
      "__doc__\n",
      "__eq__\n",
      "__format__\n",
      "__ge__\n",
      "__getattribute__\n",
      "__getitem__\n",
      "__getnewargs__\n",
      "__gt__\n",
      "__hash__\n",
      "__init__\n",
      "__init_subclass__\n",
      "__iter__\n",
      "__le__\n",
      "__len__\n",
      "__lt__\n",
      "__mod__\n",
      "__mul__\n",
      "__ne__\n",
      "__new__\n",
      "__reduce__\n",
      "__reduce_ex__\n",
      "__repr__\n",
      "__rmod__\n",
      "__rmul__\n",
      "__setattr__\n",
      "__sizeof__\n",
      "__str__\n",
      "__subclasshook__\n",
      "capitalize\n",
      "casefold\n",
      "center\n",
      "count\n",
      "encode\n",
      "endswith\n",
      "expandtabs\n",
      "find\n",
      "format\n",
      "format_map\n",
      "index\n",
      "isalnum\n",
      "isalpha\n",
      "isascii\n",
      "isdecimal\n",
      "isdigit\n",
      "isidentifier\n",
      "islower\n",
      "isnumeric\n",
      "isprintable\n",
      "isspace\n",
      "istitle\n",
      "isupper\n",
      "join\n",
      "ljust\n",
      "lower\n",
      "lstrip\n",
      "maketrans\n",
      "partition\n",
      "removeprefix\n",
      "removesuffix\n",
      "replace\n",
      "rfind\n",
      "rindex\n",
      "rjust\n",
      "rpartition\n",
      "rsplit\n",
      "rstrip\n",
      "split\n",
      "splitlines\n",
      "startswith\n",
      "strip\n",
      "swapcase\n",
      "title\n",
      "translate\n",
      "upper\n",
      "zfill\n"
     ]
    }
   ],
   "source": [
    "for method in dir(str):\n",
    "    print(method)"
   ]
  },
  {
   "cell_type": "markdown",
   "metadata": {},
   "source": [
    "Uso de algunos a métodos"
   ]
  },
  {
   "cell_type": "markdown",
   "metadata": {},
   "source": [
    "capitalize()"
   ]
  },
  {
   "cell_type": "code",
   "execution_count": 9,
   "metadata": {},
   "outputs": [
    {
     "data": {
      "text/plain": [
       "'Hola'"
      ]
     },
     "execution_count": 9,
     "metadata": {},
     "output_type": "execute_result"
    }
   ],
   "source": [
    "string_1 : str = 'hola'\n",
    "string_1.capitalize()"
   ]
  },
  {
   "cell_type": "markdown",
   "metadata": {},
   "source": [
    "count(sub[, start[, end]])"
   ]
  },
  {
   "cell_type": "code",
   "execution_count": 10,
   "metadata": {},
   "outputs": [
    {
     "data": {
      "text/plain": [
       "1"
      ]
     },
     "execution_count": 10,
     "metadata": {},
     "output_type": "execute_result"
    }
   ],
   "source": [
    "string_1 : str = 'hola'\n",
    "string_1.count('a')"
   ]
  },
  {
   "cell_type": "code",
   "execution_count": 11,
   "metadata": {},
   "outputs": [
    {
     "data": {
      "text/plain": [
       "0"
      ]
     },
     "execution_count": 11,
     "metadata": {},
     "output_type": "execute_result"
    }
   ],
   "source": [
    "string_1.count('a', 0, 2)"
   ]
  },
  {
   "cell_type": "markdown",
   "metadata": {},
   "source": [
    "endswith(suffix[, start[, end]])"
   ]
  },
  {
   "cell_type": "code",
   "execution_count": 12,
   "metadata": {},
   "outputs": [
    {
     "data": {
      "text/plain": [
       "True"
      ]
     },
     "execution_count": 12,
     "metadata": {},
     "output_type": "execute_result"
    }
   ],
   "source": [
    "string_1 : str = 'hola'\n",
    "string_1.endswith('')"
   ]
  },
  {
   "cell_type": "code",
   "execution_count": 13,
   "metadata": {},
   "outputs": [
    {
     "data": {
      "text/plain": [
       "False"
      ]
     },
     "execution_count": 13,
     "metadata": {},
     "output_type": "execute_result"
    }
   ],
   "source": [
    "string_1.endswith('b')"
   ]
  },
  {
   "cell_type": "markdown",
   "metadata": {},
   "source": [
    "startswith(suffix[, start[, end]])"
   ]
  },
  {
   "cell_type": "code",
   "execution_count": 14,
   "metadata": {},
   "outputs": [
    {
     "data": {
      "text/plain": [
       "False"
      ]
     },
     "execution_count": 14,
     "metadata": {},
     "output_type": "execute_result"
    }
   ],
   "source": [
    "string_1 : str = 'hola' \n",
    "string_1.startswith('-')"
   ]
  },
  {
   "cell_type": "code",
   "execution_count": 15,
   "metadata": {},
   "outputs": [
    {
     "data": {
      "text/plain": [
       "True"
      ]
     },
     "execution_count": 15,
     "metadata": {},
     "output_type": "execute_result"
    }
   ],
   "source": [
    "string_1.startswith('h')"
   ]
  },
  {
   "cell_type": "markdown",
   "metadata": {},
   "source": [
    "find(sub[, start[, end]])"
   ]
  },
  {
   "cell_type": "code",
   "execution_count": 16,
   "metadata": {},
   "outputs": [
    {
     "data": {
      "text/plain": [
       "0"
      ]
     },
     "execution_count": 16,
     "metadata": {},
     "output_type": "execute_result"
    }
   ],
   "source": [
    "string_1 : str = 'hola'\n",
    "string_1.find('h')"
   ]
  },
  {
   "cell_type": "code",
   "execution_count": 17,
   "metadata": {},
   "outputs": [
    {
     "data": {
      "text/plain": [
       "-1"
      ]
     },
     "execution_count": 17,
     "metadata": {},
     "output_type": "execute_result"
    }
   ],
   "source": [
    "string_1.find('a', 1, 2)"
   ]
  },
  {
   "cell_type": "markdown",
   "metadata": {},
   "source": [
    "format(*args, **kwargs)"
   ]
  },
  {
   "cell_type": "code",
   "execution_count": 18,
   "metadata": {},
   "outputs": [
    {
     "data": {
      "text/plain": [
       "'Mi nombre es Sergio y mi edad es 25'"
      ]
     },
     "execution_count": 18,
     "metadata": {},
     "output_type": "execute_result"
    }
   ],
   "source": [
    "string_4 : str = 'Mi nombre es {} y mi edad es {}'\n",
    "string_4.format('Sergio', 25)"
   ]
  },
  {
   "cell_type": "markdown",
   "metadata": {},
   "source": [
    "format_map(mapping)"
   ]
  },
  {
   "cell_type": "code",
   "execution_count": 19,
   "metadata": {},
   "outputs": [
    {
     "data": {
      "text/plain": [
       "'Mi nombre es Sergio y mi edad es 25'"
      ]
     },
     "execution_count": 19,
     "metadata": {},
     "output_type": "execute_result"
    }
   ],
   "source": [
    "string_5 : str = 'Mi nombre es {nombre} y mi edad es {edad}'\n",
    "string_5.format_map({'nombre' : 'Sergio', 'edad' : 25})"
   ]
  },
  {
   "cell_type": "markdown",
   "metadata": {},
   "source": [
    "lower()"
   ]
  },
  {
   "cell_type": "code",
   "execution_count": 20,
   "metadata": {},
   "outputs": [
    {
     "data": {
      "text/plain": [
       "'aaa'"
      ]
     },
     "execution_count": 20,
     "metadata": {},
     "output_type": "execute_result"
    }
   ],
   "source": [
    "string_2 : str = 'AAA'\n",
    "string_2.lower()"
   ]
  },
  {
   "cell_type": "markdown",
   "metadata": {},
   "source": [
    "upper()"
   ]
  },
  {
   "cell_type": "code",
   "execution_count": 21,
   "metadata": {},
   "outputs": [
    {
     "data": {
      "text/plain": [
       "'HOLA'"
      ]
     },
     "execution_count": 21,
     "metadata": {},
     "output_type": "execute_result"
    }
   ],
   "source": [
    "string_1 : str = 'hola'\n",
    "string_1.upper()"
   ]
  },
  {
   "cell_type": "markdown",
   "metadata": {},
   "source": [
    "split(sub)"
   ]
  },
  {
   "cell_type": "code",
   "execution_count": 22,
   "metadata": {},
   "outputs": [
    {
     "data": {
      "text/plain": [
       "['A', 'B', 'C', 'D', 'E', 'F', 'G', 'H', 'I']"
      ]
     },
     "execution_count": 22,
     "metadata": {},
     "output_type": "execute_result"
    }
   ],
   "source": [
    "string_6 : str = 'A,B,C,D,E,F,G,H,I'\n",
    "string_6.split(',')"
   ]
  },
  {
   "cell_type": "markdown",
   "metadata": {},
   "source": [
    "join(iterable)"
   ]
  },
  {
   "cell_type": "code",
   "execution_count": 23,
   "metadata": {},
   "outputs": [
    {
     "data": {
      "text/plain": [
       "'A,B,C,D,E'"
      ]
     },
     "execution_count": 23,
     "metadata": {},
     "output_type": "execute_result"
    }
   ],
   "source": [
    "string_7 : str = ','\n",
    "string_7.join(['A', 'B', 'C', 'D', 'E'])"
   ]
  },
  {
   "cell_type": "markdown",
   "metadata": {},
   "source": [
    "Estos métodos tienen una peculiaridad interesante además de útil. No son **inplace**. Es decir, cuando hacemos str.método(), ese método devuelve un string con la modicación.\n",
    "<br>Lo que permite concatenar varias llamadas a funciones en una misma línea sin necesidad de crear variables intermedias o cosas de ese estilo."
   ]
  },
  {
   "cell_type": "code",
   "execution_count": 24,
   "metadata": {},
   "outputs": [
    {
     "data": {
      "text/plain": [
       "'Abcddede'"
      ]
     },
     "execution_count": 24,
     "metadata": {},
     "output_type": "execute_result"
    }
   ],
   "source": [
    "string : str = 'aaaaA_bCsasddede'\n",
    "string.lower().capitalize().replace('_', '').replace('a', '').replace('s', '')"
   ]
  },
  {
   "cell_type": "markdown",
   "metadata": {},
   "source": [
    "### Consultar la documentación"
   ]
  },
  {
   "cell_type": "markdown",
   "metadata": {},
   "source": [
    "No olvidemos que existe la función **help(obj)** que nos devuelve el docstring (documentación) de un obj, función, ..."
   ]
  },
  {
   "cell_type": "code",
   "execution_count": 25,
   "metadata": {},
   "outputs": [
    {
     "name": "stdout",
     "output_type": "stream",
     "text": [
      "Help on wrapper_descriptor:\n",
      "\n",
      "__add__(self, value, /)\n",
      "    Return self+value.\n",
      "\n",
      "--------------------------------------------------\n",
      "\n",
      "Help on method_descriptor:\n",
      "\n",
      "capitalize(self, /)\n",
      "    Return a capitalized version of the string.\n",
      "    \n",
      "    More specifically, make the first character have upper case and the rest lower\n",
      "    case.\n",
      "\n",
      "--------------------------------------------------\n",
      "\n",
      "Help on wrapper_descriptor:\n",
      "\n",
      "__getitem__(self, key, /)\n",
      "    Return self[key].\n",
      "\n",
      "--------------------------------------------------\n",
      "\n",
      "Help on method_descriptor:\n",
      "\n",
      "format(...)\n",
      "    S.format(*args, **kwargs) -> str\n",
      "    \n",
      "    Return a formatted version of S, using substitutions from args and kwargs.\n",
      "    The substitutions are identified by braces ('{' and '}').\n",
      "\n"
     ]
    }
   ],
   "source": [
    "# Help __add__\n",
    "help(str.__add__)\n",
    "\n",
    "print('-' * 50 + '\\n')\n",
    "\n",
    "# Help capitalize\n",
    "help(str.capitalize)\n",
    "\n",
    "print('-' * 50 + '\\n')\n",
    "\n",
    "# Help __getitem__\n",
    "help(str.__getitem__)\n",
    "\n",
    "print('-' * 50 + '\\n')\n",
    "\n",
    "# Help format\n",
    "help(str.format)"
   ]
  },
  {
   "cell_type": "markdown",
   "metadata": {},
   "source": [
    "### Prefijos"
   ]
  },
  {
   "cell_type": "markdown",
   "metadata": {},
   "source": [
    "f-strings\n",
    "\n",
    "Son una alternativa a la función format(*arg, **kwargs). <br>\n",
    "Actualmente se recomienda más usar f-strings porque se crearon para hacer un código más potente y a su vez más corto"
   ]
  },
  {
   "cell_type": "code",
   "execution_count": 26,
   "metadata": {},
   "outputs": [
    {
     "name": "stdout",
     "output_type": "stream",
     "text": [
      "1\n",
      "variable=1\n"
     ]
    }
   ],
   "source": [
    "variable : int = 1\n",
    "\n",
    "print( f'{variable}' ) # Mostrar valor de una variable\n",
    "print( f'{variable=}' ) # Mostrar valor de una variable y el nombre de la variable"
   ]
  },
  {
   "cell_type": "markdown",
   "metadata": {},
   "source": [
    "r raw-strings\n",
    "\n",
    "Raw (crudo), significa que no que cada caracter se interpreta como lo que es, un caracter. <br>\n",
    "Es decir, la expresión **\\n** genera una nueva línea dentro del string, **\\t** genera el resultado de pulsar la tecla **tabulador**. <br>\n",
    "Sin embargo, si ponemos una **r** delante del string, lo mencionado arriba no ocurre, cada caracter se interpreta como lo que es."
   ]
  },
  {
   "cell_type": "code",
   "execution_count": 27,
   "metadata": {},
   "outputs": [
    {
     "name": "stdout",
     "output_type": "stream",
     "text": [
      "\ta\n"
     ]
    }
   ],
   "source": [
    "print( '\\ta' )"
   ]
  },
  {
   "cell_type": "code",
   "execution_count": 28,
   "metadata": {},
   "outputs": [
    {
     "name": "stdout",
     "output_type": "stream",
     "text": [
      "\\ta\n"
     ]
    }
   ],
   "source": [
    "print( r'\\ta' )"
   ]
  },
  {
   "cell_type": "code",
   "execution_count": 29,
   "metadata": {},
   "outputs": [
    {
     "name": "stdout",
     "output_type": "stream",
     "text": [
      "\n",
      "a\n"
     ]
    }
   ],
   "source": [
    "print( '\\na' )"
   ]
  },
  {
   "cell_type": "code",
   "execution_count": 30,
   "metadata": {},
   "outputs": [
    {
     "name": "stdout",
     "output_type": "stream",
     "text": [
      "\\na\n"
     ]
    }
   ],
   "source": [
    "print( r'\\na' )"
   ]
  },
  {
   "cell_type": "markdown",
   "metadata": {},
   "source": [
    "### Ejercicios\n",
    "\n",
    "- Dada una cadena de strings, calcula la frecuencia de aparación de todos los caracteres.\n",
    "- Dada una cadena de strings escrita en **snake_case**\n",
    "    - Transformarla a una cadena escrita en **PascalCase**\n",
    "    - **snake_case**: hola_mundo, palabra1_palabra2_palabra3_palabra4\n",
    "    - **PascalCase**: HolaMundo, Palabra1Palabra2Palabra3Palabra4\n",
    "- Dada una cadena de strings, reemplaza las minúsculas por el símbolo *"
   ]
  },
  {
   "cell_type": "markdown",
   "metadata": {},
   "source": [
    "## La Clase List"
   ]
  },
  {
   "cell_type": "markdown",
   "metadata": {},
   "source": [
    "Poco a poco vamos afianzando la idea de que en Python todo son objetos. <br>\n",
    "\n",
    "Lo importante es saber que un objeto tiene métodos y atributos. <br>\n",
    "Los atributos son variables y los métodos son funciones que actuan sobre el objeto.\n",
    "Podemos acceder a los atributos y métodos a través de la notación punto. **objeto.método()** \n",
    "\n",
    "Bien, tras recordar esto un poco, vamos a explicar cómo se trabajan con las listas y vamos a dar algunos nuevos conceptos sobre el tipo de dato **Secuencia**.<br>\n",
    "Recordemos que los strings, las listas y las tuplas son Secuencias."
   ]
  },
  {
   "cell_type": "markdown",
   "metadata": {},
   "source": [
    "### Métodos de las listas"
   ]
  },
  {
   "cell_type": "markdown",
   "metadata": {},
   "source": [
    "append(obj)"
   ]
  },
  {
   "cell_type": "code",
   "execution_count": 37,
   "metadata": {},
   "outputs": [
    {
     "data": {
      "text/plain": [
       "[1]"
      ]
     },
     "execution_count": 37,
     "metadata": {},
     "output_type": "execute_result"
    }
   ],
   "source": [
    "lista : list = []\n",
    "lista.append(1)\n",
    "lista"
   ]
  },
  {
   "cell_type": "markdown",
   "metadata": {},
   "source": [
    "count(obj)"
   ]
  },
  {
   "cell_type": "code",
   "execution_count": 38,
   "metadata": {},
   "outputs": [
    {
     "data": {
      "text/plain": [
       "4"
      ]
     },
     "execution_count": 38,
     "metadata": {},
     "output_type": "execute_result"
    }
   ],
   "source": [
    "lista2 : list = [1, 2, 3, 4, 1, 1,  1, 2]\n",
    "lista2.count(1)"
   ]
  },
  {
   "cell_type": "markdown",
   "metadata": {},
   "source": [
    "extend(iterable)"
   ]
  },
  {
   "cell_type": "code",
   "execution_count": 39,
   "metadata": {},
   "outputs": [
    {
     "data": {
      "text/plain": [
       "[1, 2, 3]"
      ]
     },
     "execution_count": 39,
     "metadata": {},
     "output_type": "execute_result"
    }
   ],
   "source": [
    "lista : list = []\n",
    "lista.extend([1, 2, 3])\n",
    "lista"
   ]
  },
  {
   "cell_type": "markdown",
   "metadata": {},
   "source": [
    "copy()"
   ]
  },
  {
   "cell_type": "code",
   "execution_count": 40,
   "metadata": {},
   "outputs": [
    {
     "name": "stdout",
     "output_type": "stream",
     "text": [
      "ID lista_copia: 2365957555648 ID lista: 2365957555648 ¿Idénticos? True\n"
     ]
    }
   ],
   "source": [
    "lista : list = []\n",
    "lista_copia : list = lista\n",
    "\n",
    "print('ID lista_copia:', id(lista_copia), 'ID lista:', id(lista), '¿Idénticos?', id(lista_copia) == id(lista))"
   ]
  },
  {
   "cell_type": "code",
   "execution_count": 41,
   "metadata": {},
   "outputs": [
    {
     "name": "stdout",
     "output_type": "stream",
     "text": [
      "ID lista_copia: 2365958326016 ID lista: 2365957555648 ¿Idénticos? False\n"
     ]
    }
   ],
   "source": [
    "lista_copia : list = lista.copy()\n",
    "print('ID lista_copia:', id(lista_copia), 'ID lista:', id(lista), '¿Idénticos?', id(lista_copia) == id(lista))"
   ]
  },
  {
   "cell_type": "markdown",
   "metadata": {},
   "source": [
    "index(obj)"
   ]
  },
  {
   "cell_type": "code",
   "execution_count": 42,
   "metadata": {},
   "outputs": [
    {
     "data": {
      "text/plain": [
       "0"
      ]
     },
     "execution_count": 42,
     "metadata": {},
     "output_type": "execute_result"
    }
   ],
   "source": [
    "lista2 : list = [1, 2, 3, 4, 1, 1,  1, 2]\n",
    "lista2.index(1)"
   ]
  },
  {
   "cell_type": "code",
   "execution_count": 43,
   "metadata": {},
   "outputs": [
    {
     "name": "stdout",
     "output_type": "stream",
     "text": [
      "Si busco algo que no está en la lista: \"-1 is not in list\"\n"
     ]
    }
   ],
   "source": [
    "try:\n",
    "    print(f'{lista2=}.index(obj):', lista2.index(-1))\n",
    "except ValueError as exception:\n",
    "    print('Si busco algo que no está en la lista:', f'\"{exception}\"')"
   ]
  },
  {
   "cell_type": "markdown",
   "metadata": {},
   "source": [
    "insert(index, object)"
   ]
  },
  {
   "cell_type": "code",
   "execution_count": 44,
   "metadata": {},
   "outputs": [
    {
     "data": {
      "text/plain": [
       "[-2, -991]"
      ]
     },
     "execution_count": 44,
     "metadata": {},
     "output_type": "execute_result"
    }
   ],
   "source": [
    "lista : list = []\n",
    "lista.insert(0, -991)\n",
    "lista.insert(0, -2)\n",
    "lista"
   ]
  },
  {
   "cell_type": "markdown",
   "metadata": {},
   "source": [
    "pop(index)"
   ]
  },
  {
   "cell_type": "code",
   "execution_count": 45,
   "metadata": {},
   "outputs": [
    {
     "data": {
      "text/plain": [
       "1"
      ]
     },
     "execution_count": 45,
     "metadata": {},
     "output_type": "execute_result"
    }
   ],
   "source": [
    "lista : list = [1, 2, 3]\n",
    "lista.pop(0)"
   ]
  },
  {
   "cell_type": "code",
   "execution_count": 46,
   "metadata": {},
   "outputs": [
    {
     "data": {
      "text/plain": [
       "[2, 3]"
      ]
     },
     "execution_count": 46,
     "metadata": {},
     "output_type": "execute_result"
    }
   ],
   "source": [
    "lista"
   ]
  },
  {
   "cell_type": "code",
   "execution_count": 47,
   "metadata": {},
   "outputs": [
    {
     "name": "stdout",
     "output_type": "stream",
     "text": [
      "[3]\n",
      "[]\n",
      "Si intento eliminar datos de una lista vacía: \"pop from empty list\"\n"
     ]
    }
   ],
   "source": [
    "lista : list = [2, 3]\n",
    "try:\n",
    "    lista.pop(0)\n",
    "    print(lista)\n",
    "    lista.pop(0)\n",
    "    print(lista)\n",
    "    lista.pop(0)\n",
    "except Exception as exception:\n",
    "    print('Si intento eliminar datos de una lista vacía:', f'\"{exception}\"')"
   ]
  },
  {
   "cell_type": "markdown",
   "metadata": {},
   "source": [
    "remove(obj)"
   ]
  },
  {
   "cell_type": "code",
   "execution_count": 48,
   "metadata": {},
   "outputs": [
    {
     "data": {
      "text/plain": [
       "[2, 3]"
      ]
     },
     "execution_count": 48,
     "metadata": {},
     "output_type": "execute_result"
    }
   ],
   "source": [
    "lista : list = [1, 2, 3]\n",
    "lista.remove(1)\n",
    "lista"
   ]
  },
  {
   "cell_type": "code",
   "execution_count": 49,
   "metadata": {},
   "outputs": [
    {
     "name": "stdout",
     "output_type": "stream",
     "text": [
      "Si elimino algo que no está en la lista: \"list.remove(x): x not in list\"\n"
     ]
    }
   ],
   "source": [
    "lista : list = [1, 2, 3]\n",
    "try:\n",
    "    lista.remove(0)\n",
    "except Exception as exception:\n",
    "    print('Si elimino algo que no está en la lista:', f'\"{exception}\"')"
   ]
  },
  {
   "cell_type": "markdown",
   "metadata": {},
   "source": [
    "reverse()"
   ]
  },
  {
   "cell_type": "code",
   "execution_count": 50,
   "metadata": {},
   "outputs": [
    {
     "data": {
      "text/plain": [
       "[3, 2, 1]"
      ]
     },
     "execution_count": 50,
     "metadata": {},
     "output_type": "execute_result"
    }
   ],
   "source": [
    "lista : list = [1, 2, 3]\n",
    "lista.reverse()\n",
    "lista"
   ]
  },
  {
   "cell_type": "markdown",
   "metadata": {},
   "source": [
    "sort()"
   ]
  },
  {
   "cell_type": "code",
   "execution_count": 51,
   "metadata": {},
   "outputs": [
    {
     "data": {
      "text/plain": [
       "[-3, 1, 2, 3, 4]"
      ]
     },
     "execution_count": 51,
     "metadata": {},
     "output_type": "execute_result"
    }
   ],
   "source": [
    "lista : list = [3, 4, 1, 2, -3]\n",
    "lista.sort()\n",
    "lista"
   ]
  },
  {
   "cell_type": "markdown",
   "metadata": {},
   "source": [
    "clear()"
   ]
  },
  {
   "cell_type": "code",
   "execution_count": 52,
   "metadata": {},
   "outputs": [
    {
     "data": {
      "text/plain": [
       "[]"
      ]
     },
     "execution_count": 52,
     "metadata": {},
     "output_type": "execute_result"
    }
   ],
   "source": [
    "lista : list = [1, 2, 3]\n",
    "lista.clear()\n",
    "lista"
   ]
  },
  {
   "cell_type": "markdown",
   "metadata": {},
   "source": [
    "Los métodos de las listas, a diferencia de los strings, de normal son inplace. Es decir, objeto.método(params) modifica el objeto dentro del código del método y devuelve None. <br>\n",
    "Esto hace que no podamos concatenar varias funciones. Si queremos hacer varias operaciones debemos escribir una nueva linea por operacion."
   ]
  },
  {
   "cell_type": "code",
   "execution_count": 53,
   "metadata": {},
   "outputs": [],
   "source": [
    "lista : list = []\n",
    "\n",
    "lista.append(1)\n",
    "lista.append(0)\n",
    "lista.remove(0)\n",
    "\n",
    "# No podemos hacer [].append(1).append(0).remove(0)."
   ]
  },
  {
   "cell_type": "markdown",
   "metadata": {},
   "source": [
    "### Acceso a los elementos de las secuencias"
   ]
  },
  {
   "cell_type": "markdown",
   "metadata": {},
   "source": [
    "Acceso a un elemento concreto por índice"
   ]
  },
  {
   "cell_type": "code",
   "execution_count": 54,
   "metadata": {},
   "outputs": [
    {
     "name": "stdout",
     "output_type": "stream",
     "text": [
      "1\n",
      "2\n",
      "9\n",
      "8\n"
     ]
    }
   ],
   "source": [
    "lista : list = [1, 2, 3, 4, 5, 6, 7, 8, 9]\n",
    "\n",
    "print(lista[0]) # El primer elemento empieza en el cero\n",
    "print(lista[1])\n",
    "print(lista[-1]) # Si queremos acceder desde el último elemento pero no queremo usar el índice exacto (o no lo conocemos), usamos -1, -2, ...\n",
    "print(lista[-2]) # Si queremos acceder desde el último elemento pero no queremo usar el índice exacto (o no lo conocemos), usamos -1, -2, ..."
   ]
  },
  {
   "cell_type": "markdown",
   "metadata": {},
   "source": [
    "### Slicing"
   ]
  },
  {
   "cell_type": "markdown",
   "metadata": {},
   "source": [
    "Si tenemos una secuencia, podemos obtener una subsecuencia a usando la nomenclatura. <br>\n",
    "secuencia[start : end : step]\n",
    "\n",
    "Con esto, obtenemos una subsecuencia a partir de una patrón de índices.\n",
    "\n",
    "Ejemplo:\n",
    "\n",
    "**[0 : 10 : 1]** -> 0, 1, 2, 3, 4, 5, 6, 7, 8, 9 || El número **end**, en este caso 10, **nunca se incluye** en los índices generados <br>\n",
    "**[0 : 10 : 2]** -> 0, 2, 4, 6, 8 || El número **end**, en este caso 10, **nunca se incluye** en los índices generados <br>\n",
    "**[0 : None]** -> Devuelve todos los índices, la secuencia completa. end = None equivale a len(secuencia). <br>\n",
    "**[:]** -> Devuelve todos los índices. Es una copia de la lista. Lo mismo que hacer lista.copy() <br>\n",
    "**[::]** -> Devuelve todos los índices. Es una copia de la lista. Lo mismo que hacer lista.copy() <br>\n",
    "**[::-1]** -> Devuelve la lista invertida. Ej [0, 1, 2][::-1] -> [2, 1, 0]"
   ]
  },
  {
   "cell_type": "code",
   "execution_count": 55,
   "metadata": {},
   "outputs": [
    {
     "name": "stdout",
     "output_type": "stream",
     "text": [
      "[0, 1, 2, 3, 4, 5, 6, 7, 8, 9]\n",
      "[0, 2, 4, 6, 8]\n",
      "[0, 1, 2, 3, 4, 5, 6, 7, 8, 9, 10] ------ [0, 1, 2, 3, 4, 5, 6, 7, 8, 9, 10]\n",
      "[0, 1, 2, 3, 4, 5, 6, 7, 8, 9]\n",
      "[0, 1, 2, 3, 4, 5, 6, 7, 8, 9, 10]\n",
      "[0, 1, 2, 3, 4, 5, 6, 7, 8, 9, 10]\n"
     ]
    }
   ],
   "source": [
    "lista : list = [0, 1, 2, 3, 4, 5, 6, 7, 8, 9, 10]\n",
    "\n",
    "print(lista[0 : 10 : 1])\n",
    "print(lista[0 : 10 : 2])\n",
    "print(lista[0 : None], '------', lista[0 : len(lista)])\n",
    "print(lista[0 : -1]) # Si queremos incluir el último elemento usar None, nunca -1\n",
    "print(lista[:]) # Si queremos incluir el último elemento usar None, nunca -1\n",
    "print(lista[::]) # Si queremos incluir el último elemento usar None, nunca -1"
   ]
  },
  {
   "cell_type": "markdown",
   "metadata": {},
   "source": [
    "### Modificar un elemento"
   ]
  },
  {
   "cell_type": "markdown",
   "metadata": {},
   "source": [
    "Depende del dato que almacena la secuencia. <br>\n",
    "Si tenemos una lista de enteros, podemos sumar, restar, ... <br>\n",
    "Si tenemos una lista de listas, podemos aplicar métodos de listas, ... <br>"
   ]
  },
  {
   "cell_type": "code",
   "execution_count": 56,
   "metadata": {},
   "outputs": [
    {
     "data": {
      "text/plain": [
       "[-90, 2, 3, 4, 5, 6, 7, 8, 9]"
      ]
     },
     "execution_count": 56,
     "metadata": {},
     "output_type": "execute_result"
    }
   ],
   "source": [
    "lista_enteros : list = [1, 2, 3, 4, 5, 6, 7, 8, 9]\n",
    "\n",
    "lista_enteros[0] = -1 # Asignar un dato\n",
    "lista_enteros[0] *= 90 # Hace una operacion y asignar\n",
    "lista_enteros[1] * 0 # Si no ponemos el operacion de asignación, el dato de la lista no se modifica || Al menos en este caso que el dato es inmmutable.\n",
    "lista_enteros"
   ]
  },
  {
   "cell_type": "code",
   "execution_count": 57,
   "metadata": {},
   "outputs": [
    {
     "data": {
      "text/plain": [
       "[[1], []]"
      ]
     },
     "execution_count": 57,
     "metadata": {},
     "output_type": "execute_result"
    }
   ],
   "source": [
    "lista_listas : list = [[], []]\n",
    "\n",
    "lista_listas[0].append(1)\n",
    "lista_listas # En este caso al ser mutable, si un método modifica el dato en cuestión pos listo, no es necesario usar el operador de asignación."
   ]
  },
  {
   "cell_type": "markdown",
   "metadata": {},
   "source": [
    "### Consejos"
   ]
  },
  {
   "cell_type": "markdown",
   "metadata": {},
   "source": [
    "**No modificar e iterar sobre la misma lista**"
   ]
  },
  {
   "cell_type": "markdown",
   "metadata": {},
   "source": [
    "Si tenemos una lista y queremos eliminar o añadir elementos a la vez que recorremos dicha lista, lo correcto es una de dos:\n",
    "- Recorrer una copia y modificar la lista original\n",
    "- Recorrer la lista original y modificar la copia"
   ]
  },
  {
   "cell_type": "code",
   "execution_count": 58,
   "metadata": {},
   "outputs": [
    {
     "data": {
      "text/plain": [
       "[2, 4, 5, 6, 7, 8, 9]"
      ]
     },
     "execution_count": 58,
     "metadata": {},
     "output_type": "execute_result"
    }
   ],
   "source": [
    "lista : list = [1, 2, 3, 4, 5, 6, 7, 8, 9]\n",
    "\n",
    "for i in lista:\n",
    "    if i < 5:\n",
    "        lista.remove(i)\n",
    "\n",
    "lista"
   ]
  },
  {
   "cell_type": "code",
   "execution_count": 59,
   "metadata": {},
   "outputs": [
    {
     "data": {
      "text/plain": [
       "[5, 6, 7, 8, 9]"
      ]
     },
     "execution_count": 59,
     "metadata": {},
     "output_type": "execute_result"
    }
   ],
   "source": [
    "lista : list = [1, 2, 3, 4, 5, 6, 7, 8, 9]\n",
    "\n",
    "for i in lista[:]:\n",
    "    if i < 5:\n",
    "        lista.remove(i)\n",
    "\n",
    "lista"
   ]
  },
  {
   "cell_type": "code",
   "execution_count": 60,
   "metadata": {},
   "outputs": [
    {
     "data": {
      "text/plain": [
       "[5, 6, 7, 8, 9]"
      ]
     },
     "execution_count": 60,
     "metadata": {},
     "output_type": "execute_result"
    }
   ],
   "source": [
    "lista : list = [1, 2, 3, 4, 5, 6, 7, 8, 9]\n",
    "\n",
    "for i in lista.copy():\n",
    "    if i < 5:\n",
    "        lista.remove(i)\n",
    "\n",
    "lista"
   ]
  },
  {
   "cell_type": "markdown",
   "metadata": {},
   "source": [
    "**Copiar las listas en vez de asignar tal cual**"
   ]
  },
  {
   "cell_type": "code",
   "execution_count": 61,
   "metadata": {},
   "outputs": [
    {
     "data": {
      "text/plain": [
       "[]"
      ]
     },
     "execution_count": 61,
     "metadata": {},
     "output_type": "execute_result"
    }
   ],
   "source": [
    "lista1 : list = [1, 2, 3]\n",
    "lista2 : list = lista1\n",
    "\n",
    "lista2.clear()\n",
    "\n",
    "lista1"
   ]
  },
  {
   "cell_type": "code",
   "execution_count": 62,
   "metadata": {},
   "outputs": [
    {
     "data": {
      "text/plain": [
       "[1, 2, 3]"
      ]
     },
     "execution_count": 62,
     "metadata": {},
     "output_type": "execute_result"
    }
   ],
   "source": [
    "lista1 : list = [1, 2, 3]\n",
    "lista2 : list = lista1.copy()\n",
    "\n",
    "lista2.clear()\n",
    "\n",
    "lista1"
   ]
  },
  {
   "cell_type": "markdown",
   "metadata": {},
   "source": [
    "### Ejercicios\n",
    "\n",
    "- Dada una lista, elimina los elementos repetidos\n",
    "- Dada la lista [1, 2, 'a', [1, 2]], calcula el índice o posición del elemento 'a'\n",
    "- Dada una lista, ordénala de mayor a menor\n",
    "- Dada una lista, obtén los elementos en las posiciones impares y multiplicalos por 2 (cuidado con posibles excepciones)"
   ]
  },
  {
   "cell_type": "markdown",
   "metadata": {},
   "source": [
    "## La Clase Tupla"
   ]
  },
  {
   "cell_type": "markdown",
   "metadata": {},
   "source": [
    "La clase tupla tiene en algunos sentidos un comportamiento similar a la lista. <br>\n",
    "- Podemos acceder a elementos sueltos\n",
    "- Podemos hacer slicing y obtener subsecuencias\n",
    "\n",
    "Pero, la gran diferencia es que la tupla es inmutable, lo que significa que si queremos añadir o quitar elementos, tenemos que crear una nueva tupla.\n",
    "Si queremos modificar elementos, que ya existen en la tupla, no podemos hacerlo a no ser que algunos se sus datos sean mutables."
   ]
  },
  {
   "cell_type": "markdown",
   "metadata": {},
   "source": [
    "### Métodos de las tuplas"
   ]
  },
  {
   "cell_type": "markdown",
   "metadata": {},
   "source": [
    "count(obj)"
   ]
  },
  {
   "cell_type": "code",
   "execution_count": 63,
   "metadata": {},
   "outputs": [
    {
     "data": {
      "text/plain": [
       "4"
      ]
     },
     "execution_count": 63,
     "metadata": {},
     "output_type": "execute_result"
    }
   ],
   "source": [
    "tupla : tuple = (1, 2, 3, 4, 1, 1,  1, 2)\n",
    "tupla.count(1)"
   ]
  },
  {
   "cell_type": "markdown",
   "metadata": {},
   "source": [
    "index(obj)"
   ]
  },
  {
   "cell_type": "code",
   "execution_count": 64,
   "metadata": {},
   "outputs": [
    {
     "data": {
      "text/plain": [
       "0"
      ]
     },
     "execution_count": 64,
     "metadata": {},
     "output_type": "execute_result"
    }
   ],
   "source": [
    "tupla : tuple = (1, 2, 3, 4, 1, 1,  1, 2)\n",
    "tupla.index(1)"
   ]
  },
  {
   "cell_type": "code",
   "execution_count": 65,
   "metadata": {},
   "outputs": [
    {
     "name": "stdout",
     "output_type": "stream",
     "text": [
      "Si busco algo que no está en la lista: \"tuple.index(x): x not in tuple\"\n"
     ]
    }
   ],
   "source": [
    "tupla : tuple = (1, 2, 3, 4, 1, 1,  1, 2)\n",
    "\n",
    "try:\n",
    "    print(tupla.index(-1))\n",
    "except Exception as exception:\n",
    "    print('Si busco algo que no está en la lista:', f'\"{exception}\"')"
   ]
  },
  {
   "cell_type": "markdown",
   "metadata": {},
   "source": [
    "### Modificar elementos mutables pero no inmutables"
   ]
  },
  {
   "cell_type": "code",
   "execution_count": 66,
   "metadata": {},
   "outputs": [
    {
     "name": "stdout",
     "output_type": "stream",
     "text": [
      "'tuple' object does not support item assignment\n"
     ]
    },
    {
     "data": {
      "text/plain": [
       "([1], 1, 2)"
      ]
     },
     "execution_count": 66,
     "metadata": {},
     "output_type": "execute_result"
    }
   ],
   "source": [
    "tupla = ([], 1, 2)\n",
    "\n",
    "try:\n",
    "    tupla[1] = 2\n",
    "    print(tupla)\n",
    "except Exception as exception:\n",
    "    print(exception)\n",
    "\n",
    "tupla[0].append(1)\n",
    "\n",
    "tupla # Cambió la tupla"
   ]
  },
  {
   "cell_type": "markdown",
   "metadata": {},
   "source": [
    "Lo que la tupla indica es que los elementos de la misma no pueden cambiar de id (digamos posición de memoria). <br>\n",
    "\n",
    "En otras palabras, la tupla ([], 1, 2) tiene 3 elementos. Cada elemento tiene un id. La tupla garantiza que los ids, no cambian. <br>\n",
    "O lo que es lo mismo, el dato no puede ser modificado por otro porque 2 datos distintos tienen ids distintos. Se guardan en diferentes zonas de memoria.\n",
    "\n",
    "Adémas, el error **'tuple' object does not support item assignment** se debe a que la clase Tupla no tiene el método **__setitem__** que permite hacer **lista[key] = value**."
   ]
  },
  {
   "cell_type": "markdown",
   "metadata": {},
   "source": [
    "## La Clase Set"
   ]
  },
  {
   "cell_type": "markdown",
   "metadata": {},
   "source": [
    "La clase Set es una representación directa del concepto **conjunto** pertenience a las matemáticas.\n",
    "\n",
    "Un conjunto tiene como caracterítica principal que ningún elemento del conjunto se repite. <br>\n",
    "Además, en python la clase conjunto tiene la propiedad de estar ordenado. Al menos, si los elementos tienen en su código especificada alguna relación de orden.\n",
    "\n",
    "\n",
    "**Nota:** Los conjuntos solo sirven para contener datos, recorrerlos y garantizar que los datos no se repiten. <br>\n",
    "Pero los elementos no están indexados por lo que no podemos acceder usando la sintaxis set[key]."
   ]
  },
  {
   "cell_type": "markdown",
   "metadata": {},
   "source": [
    "### Representación de las operaciones básicas de conjuntos\n",
    "\n",
    "#### Union $ A ∪ B $\n",
    "<img src='../imagenes/12_union.png' title = 'GeeksforGeeks'/>\n",
    "\n",
    "#### Intersección $ A ∩ B $\n",
    "<img src='../imagenes/12_interseccion.png' title = 'GeeksforGeeks'/>\n",
    "\n",
    "#### Diferencia Asimétrica $ A - B $\n",
    "<img src='../imagenes/12_A_menos_B.png' title = 'GeeksforGeeks'/>\n",
    "\n",
    "#### Diferencia Asimétrica $ B - A $\n",
    "<img src='../imagenes/12_B_menos_A.png' title = 'GeeksforGeeks'/>\n",
    "\n",
    "#### Diferencia Simétrica $ A Δ B = B Δ A $\n",
    "<img src='../imagenes/12_diferencia_simetrica.png' title = 'GeeksforGeeks'/>\n",
    "\n",
    "#### Conjuntos disjuntos $ A ∩ B = ∅ $\n",
    "<img src='../imagenes/12_disjuntos.png' title = 'GeeksforGeeks'/>\n",
    "\n",
    "#### Subconjuntos\n",
    "<img src='../imagenes/12_subconjuntos.png' title = 'GeeksforGeeks'/>"
   ]
  },
  {
   "cell_type": "markdown",
   "metadata": {},
   "source": [
    "### Métodos de los conjuntos"
   ]
  },
  {
   "cell_type": "markdown",
   "metadata": {},
   "source": [
    "add(obj)"
   ]
  },
  {
   "cell_type": "code",
   "execution_count": 67,
   "metadata": {},
   "outputs": [
    {
     "data": {
      "text/plain": [
       "{1, 2, 3, 4, 5, 6, 7, 8, 9, 10, 11, 23}"
      ]
     },
     "execution_count": 67,
     "metadata": {},
     "output_type": "execute_result"
    }
   ],
   "source": [
    "conjunto : set = {1, 2, 3, 4, 5, 6, 7, 8, 9, 10, 11}\n",
    "\n",
    "conjunto.add(1)\n",
    "conjunto.add(23)\n",
    "\n",
    "conjunto"
   ]
  },
  {
   "cell_type": "markdown",
   "metadata": {},
   "source": [
    "clear()"
   ]
  },
  {
   "cell_type": "code",
   "execution_count": 68,
   "metadata": {},
   "outputs": [
    {
     "data": {
      "text/plain": [
       "set()"
      ]
     },
     "execution_count": 68,
     "metadata": {},
     "output_type": "execute_result"
    }
   ],
   "source": [
    "conjunto : set = {1, 2, 3, 4, 5, 6, 7, 8, 9, 10, 11}\n",
    "conjunto.clear()\n",
    "conjunto"
   ]
  },
  {
   "cell_type": "markdown",
   "metadata": {},
   "source": [
    "copy()"
   ]
  },
  {
   "cell_type": "code",
   "execution_count": 69,
   "metadata": {},
   "outputs": [
    {
     "name": "stdout",
     "output_type": "stream",
     "text": [
      "ID conjunto_1: 2365958118912 ID conjunto: 2365958118912 ¿Idénticos? True\n"
     ]
    }
   ],
   "source": [
    "conjunto : set = {1, 2, 3, 4, 5, 6, 7, 8, 9, 10, 11}\n",
    "conjunto_1 : set = conjunto\n",
    "print('ID conjunto_1:', id(conjunto_1), 'ID conjunto:', id(conjunto), '¿Idénticos?', id(conjunto_1) == id(conjunto))"
   ]
  },
  {
   "cell_type": "code",
   "execution_count": 70,
   "metadata": {},
   "outputs": [
    {
     "name": "stdout",
     "output_type": "stream",
     "text": [
      "ID conjunto_1: 2365958118688 ID conjunto: 2365958118912 ¿Idénticos? False\n"
     ]
    }
   ],
   "source": [
    "conjunto_1 : set = conjunto.copy()\n",
    "print('ID conjunto_1:', id(conjunto_1), 'ID conjunto:', id(conjunto), '¿Idénticos?', id(conjunto_1) == id(conjunto))"
   ]
  },
  {
   "cell_type": "markdown",
   "metadata": {},
   "source": [
    "difference_update()"
   ]
  },
  {
   "cell_type": "code",
   "execution_count": 71,
   "metadata": {},
   "outputs": [
    {
     "data": {
      "text/plain": [
       "{3, 5, 6, 7, 8, 9, 10, 11}"
      ]
     },
     "execution_count": 71,
     "metadata": {},
     "output_type": "execute_result"
    }
   ],
   "source": [
    "conjunto : set = {1, 2, 3, 4, 5, 6, 7, 8, 9, 10, 11}\n",
    "\n",
    "conjunto.difference_update({1, 2, 4})\n",
    "\n",
    "conjunto"
   ]
  },
  {
   "cell_type": "markdown",
   "metadata": {},
   "source": [
    "difference()"
   ]
  },
  {
   "cell_type": "code",
   "execution_count": 72,
   "metadata": {},
   "outputs": [
    {
     "data": {
      "text/plain": [
       "{3, 5, 6, 7, 8, 9, 10, 11}"
      ]
     },
     "execution_count": 72,
     "metadata": {},
     "output_type": "execute_result"
    }
   ],
   "source": [
    "conjunto : set = {1, 2, 3, 4, 5, 6, 7, 8, 9, 10, 11}\n",
    "\n",
    "conjunto.difference({1, 2, 4})"
   ]
  },
  {
   "cell_type": "markdown",
   "metadata": {},
   "source": [
    "intersection_update()"
   ]
  },
  {
   "cell_type": "code",
   "execution_count": 73,
   "metadata": {},
   "outputs": [
    {
     "data": {
      "text/plain": [
       "{1, 2, 4}"
      ]
     },
     "execution_count": 73,
     "metadata": {},
     "output_type": "execute_result"
    }
   ],
   "source": [
    "conjunto : set = {1, 2, 3, 4, 5, 6, 7, 8, 9, 10, 11}\n",
    "\n",
    "conjunto.intersection_update({1, 2, 4})\n",
    "\n",
    "conjunto"
   ]
  },
  {
   "cell_type": "markdown",
   "metadata": {},
   "source": [
    "intersection()"
   ]
  },
  {
   "cell_type": "code",
   "execution_count": 74,
   "metadata": {},
   "outputs": [
    {
     "data": {
      "text/plain": [
       "{1, 2, 4}"
      ]
     },
     "execution_count": 74,
     "metadata": {},
     "output_type": "execute_result"
    }
   ],
   "source": [
    "conjunto : set = {1, 2, 3, 4, 5, 6, 7, 8, 9, 10, 11}\n",
    "\n",
    "conjunto.intersection({1, 2, 4})"
   ]
  },
  {
   "cell_type": "markdown",
   "metadata": {},
   "source": [
    "symmetric_difference_update()"
   ]
  },
  {
   "cell_type": "code",
   "execution_count": 75,
   "metadata": {},
   "outputs": [
    {
     "data": {
      "text/plain": [
       "{3, 5, 6, 7, 8, 9, 10, 11}"
      ]
     },
     "execution_count": 75,
     "metadata": {},
     "output_type": "execute_result"
    }
   ],
   "source": [
    "conjunto : set = {1, 2, 3, 4, 5, 6, 7, 8, 9, 10, 11}\n",
    "\n",
    "conjunto.symmetric_difference_update({1, 2, 4})\n",
    "\n",
    "conjunto"
   ]
  },
  {
   "cell_type": "markdown",
   "metadata": {},
   "source": [
    "symmetric_difference()"
   ]
  },
  {
   "cell_type": "code",
   "execution_count": 76,
   "metadata": {},
   "outputs": [
    {
     "data": {
      "text/plain": [
       "{3, 5, 6, 7, 8, 9, 10, 11}"
      ]
     },
     "execution_count": 76,
     "metadata": {},
     "output_type": "execute_result"
    }
   ],
   "source": [
    "conjunto : set = {1, 2, 3, 4, 5, 6, 7, 8, 9, 10, 11}\n",
    "\n",
    "conjunto.symmetric_difference({1, 2, 4})"
   ]
  },
  {
   "cell_type": "markdown",
   "metadata": {},
   "source": [
    "update()"
   ]
  },
  {
   "cell_type": "code",
   "execution_count": 77,
   "metadata": {},
   "outputs": [
    {
     "data": {
      "text/plain": [
       "{-90, 1, 2, 3, 4, 5, 6, 7, 8, 9, 10, 11, 34}"
      ]
     },
     "execution_count": 77,
     "metadata": {},
     "output_type": "execute_result"
    }
   ],
   "source": [
    "conjunto : set = {1, 2, 3, 4, 5, 6, 7, 8, 9, 10, 11}\n",
    "\n",
    "conjunto.update({1, 2, 4, 34, -90})\n",
    "\n",
    "conjunto"
   ]
  },
  {
   "cell_type": "markdown",
   "metadata": {},
   "source": [
    "union()"
   ]
  },
  {
   "cell_type": "code",
   "execution_count": 78,
   "metadata": {},
   "outputs": [
    {
     "data": {
      "text/plain": [
       "{-90, 1, 2, 3, 4, 5, 6, 7, 8, 9, 10, 11, 34}"
      ]
     },
     "execution_count": 78,
     "metadata": {},
     "output_type": "execute_result"
    }
   ],
   "source": [
    "conjunto : set = {1, 2, 3, 4, 5, 6, 7, 8, 9, 10, 11}\n",
    "\n",
    "conjunto.union({1, 2, 4, 34, -90})"
   ]
  },
  {
   "cell_type": "markdown",
   "metadata": {},
   "source": [
    "isdisjoint()"
   ]
  },
  {
   "cell_type": "code",
   "execution_count": 79,
   "metadata": {},
   "outputs": [
    {
     "name": "stdout",
     "output_type": "stream",
     "text": [
      "conjunto_1={1, 2, 3, 4, 5, 6, 7, 8, 9, 10, 11}, conjunto_2={-15, -14, -13, -12, -11, -10, -9}\n",
      "¿isdisjoint? True || Intersection set()\n"
     ]
    }
   ],
   "source": [
    "conjunto_1 : set = {1, 2, 3, 4, 5, 6, 7, 8, 9, 10, 11}\n",
    "conjunto_2 : set = {-9, -10, -11, -12, -13, -14, -15}\n",
    "conjunto_3 : set = {0, 1, 3}\n",
    "\n",
    "print(f'{conjunto_1=}, {conjunto_2=}')\n",
    "print(f'¿isdisjoint? {conjunto_1.isdisjoint(conjunto_2)} || Intersection {conjunto_1.intersection(conjunto_2)}')"
   ]
  },
  {
   "cell_type": "code",
   "execution_count": 80,
   "metadata": {},
   "outputs": [
    {
     "name": "stdout",
     "output_type": "stream",
     "text": [
      "conjunto_1={1, 2, 3, 4, 5, 6, 7, 8, 9, 10, 11}, conjunto_3={0, 1, 3}\n",
      "¿isdisjoint? False || Intersection {1, 3}\n"
     ]
    }
   ],
   "source": [
    "print(f'{conjunto_1=}, {conjunto_3=}')\n",
    "print(f'¿isdisjoint? {conjunto_1.isdisjoint(conjunto_3)} || Intersection {conjunto_1.intersection(conjunto_3)}')"
   ]
  },
  {
   "cell_type": "markdown",
   "metadata": {},
   "source": [
    "issubset()"
   ]
  },
  {
   "cell_type": "code",
   "execution_count": 81,
   "metadata": {},
   "outputs": [
    {
     "name": "stdout",
     "output_type": "stream",
     "text": [
      "conjunto_1={1, 2, 3, 4, 5, 6, 7, 8, 9, 10, 11}, conjunto_2={1, 2, 3, 5}\n",
      "¿conjunto_1 issubset conjunto_2? False\n"
     ]
    }
   ],
   "source": [
    "conjunto_1 : set = {1, 2, 3, 4, 5, 6, 7, 8, 9, 10, 11}\n",
    "conjunto_2 : set = {1, 3, 2, 5}\n",
    "\n",
    "print(f'{conjunto_1=}, {conjunto_2=}')\n",
    "print(f'¿conjunto_1 issubset conjunto_2? {conjunto_1.issubset(conjunto_2)}')"
   ]
  },
  {
   "cell_type": "code",
   "execution_count": 82,
   "metadata": {},
   "outputs": [
    {
     "name": "stdout",
     "output_type": "stream",
     "text": [
      "conjunto_1={1, 2, 3, 4, 5, 6, 7, 8, 9, 10, 11}, conjunto_2={1, 2, 3, 5}\n",
      "¿conjunto_2 issubset conjunto_1? True\n"
     ]
    }
   ],
   "source": [
    "print(f'{conjunto_1=}, {conjunto_2=}')\n",
    "print(f'¿conjunto_2 issubset conjunto_1? {conjunto_2.issubset(conjunto_1)}')"
   ]
  },
  {
   "cell_type": "markdown",
   "metadata": {},
   "source": [
    "issuperset()"
   ]
  },
  {
   "cell_type": "code",
   "execution_count": 83,
   "metadata": {},
   "outputs": [
    {
     "name": "stdout",
     "output_type": "stream",
     "text": [
      "conjunto_1={1, 2, 3, 4, 5, 6, 7, 8, 9, 10, 11}, conjunto_2={1, 2, 3, 5}\n",
      "¿conjunto_1 issuperset conjunto_2? True\n"
     ]
    }
   ],
   "source": [
    "conjunto_1 : set = {1, 2, 3, 4, 5, 6, 7, 8, 9, 10, 11}\n",
    "conjunto_2 : set = {1, 3, 2, 5}\n",
    "\n",
    "print(f'{conjunto_1=}, {conjunto_2=}')\n",
    "print(f'¿conjunto_1 issuperset conjunto_2? {conjunto_1.issuperset(conjunto_2)}')"
   ]
  },
  {
   "cell_type": "code",
   "execution_count": 84,
   "metadata": {},
   "outputs": [
    {
     "name": "stdout",
     "output_type": "stream",
     "text": [
      "conjunto_1={1, 2, 3, 4, 5, 6, 7, 8, 9, 10, 11}, conjunto_2={1, 2, 3, 5}\n",
      "¿conjunto_2 issuperset conjunto_1? False\n"
     ]
    }
   ],
   "source": [
    "print(f'{conjunto_1=}, {conjunto_2=}')\n",
    "print(f'¿conjunto_2 issuperset conjunto_1? {conjunto_2.issuperset(conjunto_1)}')"
   ]
  },
  {
   "cell_type": "markdown",
   "metadata": {},
   "source": [
    "discard()"
   ]
  },
  {
   "cell_type": "code",
   "execution_count": 85,
   "metadata": {},
   "outputs": [
    {
     "data": {
      "text/plain": [
       "{2, 3, 4, 5, 6, 7, 8, 9, 10, 11}"
      ]
     },
     "execution_count": 85,
     "metadata": {},
     "output_type": "execute_result"
    }
   ],
   "source": [
    "conjunto : set = {1, 2, 3, 4, 5, 6, 7, 8, 9, 10, 11}\n",
    "\n",
    "conjunto.discard(1)\n",
    "conjunto.discard(0)\n",
    "\n",
    "conjunto"
   ]
  },
  {
   "cell_type": "markdown",
   "metadata": {},
   "source": [
    "remove()"
   ]
  },
  {
   "cell_type": "code",
   "execution_count": 86,
   "metadata": {},
   "outputs": [
    {
     "name": "stdout",
     "output_type": "stream",
     "text": [
      "PRE remove(): {1, 2, 3, 4, 5, 6, 7, 8, 9, 10, 11}\n",
      "remove(obj) y discard(obj) son lo mismo, pero remove falla si no existe el elemento a eliminar\n"
     ]
    }
   ],
   "source": [
    "conjunto : set = {1, 2, 3, 4, 5, 6, 7, 8, 9, 10, 11}\n",
    "\n",
    "print('PRE remove():', conjunto)\n",
    "try:\n",
    "    conjunto.remove(1)\n",
    "    conjunto.remove(0)\n",
    "except Exception as exception:\n",
    "    print('remove(obj) y discard(obj) son lo mismo, pero remove falla si no existe el elemento a eliminar')"
   ]
  },
  {
   "cell_type": "markdown",
   "metadata": {},
   "source": [
    "pop()"
   ]
  },
  {
   "cell_type": "code",
   "execution_count": 87,
   "metadata": {},
   "outputs": [
    {
     "name": "stdout",
     "output_type": "stream",
     "text": [
      "Si hacemos pop() sobre un conjunto vacio falla\n"
     ]
    }
   ],
   "source": [
    "conjunto : set = {1, 2}\n",
    "\n",
    "try:\n",
    "    conjunto.pop()\n",
    "    conjunto.pop()\n",
    "    conjunto.pop()\n",
    "except Exception as exception:\n",
    "    print('Si hacemos pop() sobre un conjunto vacio falla')"
   ]
  },
  {
   "cell_type": "markdown",
   "metadata": {},
   "source": [
    "### Ejemplos de uso"
   ]
  },
  {
   "cell_type": "markdown",
   "metadata": {},
   "source": [
    "Eliminar elementos repetidos de una lista"
   ]
  },
  {
   "cell_type": "code",
   "execution_count": 88,
   "metadata": {},
   "outputs": [
    {
     "data": {
      "text/plain": [
       "[1, 2, 3, 4, 5]"
      ]
     },
     "execution_count": 88,
     "metadata": {},
     "output_type": "execute_result"
    }
   ],
   "source": [
    "lista : list = [1, 2, 3, 4, 1, 1, 3, 5, 4, 4]\n",
    "\n",
    "lista = list(set(lista))\n",
    "lista"
   ]
  },
  {
   "cell_type": "markdown",
   "metadata": {},
   "source": [
    "### Errores típicos"
   ]
  },
  {
   "cell_type": "markdown",
   "metadata": {},
   "source": [
    "No se puede acceder a un elemento según un índice"
   ]
  },
  {
   "cell_type": "code",
   "execution_count": 89,
   "metadata": {},
   "outputs": [
    {
     "name": "stdout",
     "output_type": "stream",
     "text": [
      "'set' object is not subscriptable\n",
      "La clase Set es accesible por índice? False\n",
      "La clase List es accesible por índice? True\n",
      "La clase Tuple es accesible por índice? True\n",
      "La clase Str es accesible por índice? True\n",
      "La clase Dict es accesible por índice? True\n"
     ]
    }
   ],
   "source": [
    "conjunto : set = {1, 2, 3, 4, 5, 6}\n",
    "\n",
    "try:\n",
    "    conjunto[0]\n",
    "except Exception as exception:\n",
    "    print(exception)\n",
    "\n",
    "print('La clase Set es accesible por índice?', '__getitem__' in dir(set))\n",
    "print('La clase List es accesible por índice?', '__getitem__' in dir(list))\n",
    "print('La clase Tuple es accesible por índice?', '__getitem__' in dir(tuple))\n",
    "print('La clase Str es accesible por índice?', '__getitem__' in dir(str))\n",
    "print('La clase Dict es accesible por índice?', '__getitem__' in dir(dict))"
   ]
  },
  {
   "cell_type": "markdown",
   "metadata": {},
   "source": [
    "### Ejercicios\n",
    "\n",
    "- Dada una lista, obtén los elementos únicos\n",
    "- Dados dos sets cualquiera de números A y B, obtén aquellos elementos que están en A pero no en B y los elementos que están en B pero no es A"
   ]
  },
  {
   "cell_type": "markdown",
   "metadata": {},
   "source": [
    "## La clase Dict"
   ]
  },
  {
   "cell_type": "markdown",
   "metadata": {},
   "source": [
    "La clase Dict podríamos entenderla como una lista cuyos índices no tienen qué ser únicamente números indicando el orden de inserción de una dato en la lista.\n",
    "\n",
    "En un diccionario identificamos 2 elementos. **Clave** y **Valor**.\n",
    "La clave es el índice con el que accedemos a un valor que dicha clave tiene asociado.\n",
    "\n",
    "Las claves se almacenan en conjuntos, lo que hace que no puedan repetirse las claves. No puede haber 2 claves iguales en un diccionario.\n",
    "Las claves deben ser inmutables: strings, tuplas, enteros, decimales. Nunca listas. Al menos de forma explícita.\n",
    "\n",
    "Cada clave puede tener cualquier valor asociado. Es decir, en un mismo diccionario, una clave puede tener asociado un numero y otra clave tener asociada una palabra."
   ]
  },
  {
   "cell_type": "markdown",
   "metadata": {},
   "source": [
    "### Métodos de los conjuntos"
   ]
  },
  {
   "cell_type": "markdown",
   "metadata": {},
   "source": [
    "clear()"
   ]
  },
  {
   "cell_type": "code",
   "execution_count": 90,
   "metadata": {},
   "outputs": [
    {
     "data": {
      "text/plain": [
       "{}"
      ]
     },
     "execution_count": 90,
     "metadata": {},
     "output_type": "execute_result"
    }
   ],
   "source": [
    "diccionario : dict = {'a' : 1, 'b' : 2, 'c' : 3, 'd' : 4}\n",
    "\n",
    "diccionario.clear()\n",
    "\n",
    "diccionario"
   ]
  },
  {
   "cell_type": "markdown",
   "metadata": {},
   "source": [
    "copy()"
   ]
  },
  {
   "cell_type": "code",
   "execution_count": 91,
   "metadata": {},
   "outputs": [
    {
     "name": "stdout",
     "output_type": "stream",
     "text": [
      "ID diccionario_1: 2365960996672 ID diccionario: 2365960996672 ¿Idénticos? True\n"
     ]
    }
   ],
   "source": [
    "diccionario : dict = {'a' : 1, 'b' : 2, 'c' : 3, 'd' : 4}\n",
    "\n",
    "diccionario_1 : dict= diccionario\n",
    "print('ID diccionario_1:', id(diccionario_1), 'ID diccionario:', id(diccionario), '¿Idénticos?', id(diccionario_1) == id(diccionario))\n"
   ]
  },
  {
   "cell_type": "code",
   "execution_count": 92,
   "metadata": {},
   "outputs": [
    {
     "name": "stdout",
     "output_type": "stream",
     "text": [
      "ID diccionario_1: 2365957433472 ID diccionario: 2365960996672 ¿Idénticos? False\n"
     ]
    }
   ],
   "source": [
    "diccionario_1 : dict = diccionario.copy()\n",
    "print('ID diccionario_1:', id(diccionario_1), 'ID diccionario:', id(diccionario), '¿Idénticos?', id(diccionario_1) == id(diccionario))"
   ]
  },
  {
   "cell_type": "markdown",
   "metadata": {},
   "source": [
    "fromkeys(iterable, value=None)"
   ]
  },
  {
   "cell_type": "code",
   "execution_count": 93,
   "metadata": {},
   "outputs": [
    {
     "data": {
      "text/plain": [
       "{1: 'a', 2: 'a', 3: 'a'}"
      ]
     },
     "execution_count": 93,
     "metadata": {},
     "output_type": "execute_result"
    }
   ],
   "source": [
    "{}.fromkeys([1, 2, 3], 'a')"
   ]
  },
  {
   "cell_type": "markdown",
   "metadata": {},
   "source": [
    "get(key, default=None)"
   ]
  },
  {
   "cell_type": "code",
   "execution_count": 94,
   "metadata": {},
   "outputs": [
    {
     "data": {
      "text/plain": [
       "'a'"
      ]
     },
     "execution_count": 94,
     "metadata": {},
     "output_type": "execute_result"
    }
   ],
   "source": [
    "{}.get(1, 'a')"
   ]
  },
  {
   "cell_type": "code",
   "execution_count": 95,
   "metadata": {},
   "outputs": [
    {
     "data": {
      "text/plain": [
       "'b'"
      ]
     },
     "execution_count": 95,
     "metadata": {},
     "output_type": "execute_result"
    }
   ],
   "source": [
    "{1 : 'b', 2 : 'aaa'}.get(1, 'a')"
   ]
  },
  {
   "cell_type": "markdown",
   "metadata": {},
   "source": [
    "keys()"
   ]
  },
  {
   "cell_type": "code",
   "execution_count": 96,
   "metadata": {},
   "outputs": [
    {
     "data": {
      "text/plain": [
       "['a', 'b', 'c', 'd']"
      ]
     },
     "execution_count": 96,
     "metadata": {},
     "output_type": "execute_result"
    }
   ],
   "source": [
    "diccionario : dict = {'a' : 1, 'b' : 2, 'c' : 3, 'd' : 4}\n",
    "list(diccionario.keys())"
   ]
  },
  {
   "cell_type": "markdown",
   "metadata": {},
   "source": [
    "values()"
   ]
  },
  {
   "cell_type": "code",
   "execution_count": 97,
   "metadata": {},
   "outputs": [
    {
     "data": {
      "text/plain": [
       "[1, 2, 3, 4]"
      ]
     },
     "execution_count": 97,
     "metadata": {},
     "output_type": "execute_result"
    }
   ],
   "source": [
    "diccionario : dict = {'a' : 1, 'b' : 2, 'c' : 3, 'd' : 4}\n",
    "list(diccionario.values())"
   ]
  },
  {
   "cell_type": "markdown",
   "metadata": {},
   "source": [
    "items()"
   ]
  },
  {
   "cell_type": "code",
   "execution_count": 98,
   "metadata": {},
   "outputs": [
    {
     "data": {
      "text/plain": [
       "[('a', 1), ('b', 2), ('c', 3), ('d', 4)]"
      ]
     },
     "execution_count": 98,
     "metadata": {},
     "output_type": "execute_result"
    }
   ],
   "source": [
    "diccionario : dict = {'a' : 1, 'b' : 2, 'c' : 3, 'd' : 4}\n",
    "list(diccionario.items())"
   ]
  },
  {
   "cell_type": "markdown",
   "metadata": {},
   "source": [
    "pop()"
   ]
  },
  {
   "cell_type": "code",
   "execution_count": 99,
   "metadata": {},
   "outputs": [
    {
     "name": "stdout",
     "output_type": "stream",
     "text": [
      "1\n",
      "ERROR: 11\n"
     ]
    },
    {
     "data": {
      "text/plain": [
       "{'b': 2, 'c': 3, 'd': 4}"
      ]
     },
     "execution_count": 99,
     "metadata": {},
     "output_type": "execute_result"
    }
   ],
   "source": [
    "diccionario : dict = {'a' : 1, 'b' : 2, 'c' : 3, 'd' : 4}\n",
    "\n",
    "try:\n",
    "    print(diccionario.pop('a'))\n",
    "    print(diccionario.pop(11))\n",
    "except KeyError as exception:\n",
    "    print('ERROR:', exception)\n",
    "\n",
    "diccionario"
   ]
  },
  {
   "cell_type": "markdown",
   "metadata": {},
   "source": [
    "popitem()"
   ]
  },
  {
   "cell_type": "code",
   "execution_count": 100,
   "metadata": {},
   "outputs": [
    {
     "name": "stdout",
     "output_type": "stream",
     "text": [
      "('d', 4)\n",
      "('c', 3)\n",
      "('b', 2)\n",
      "('a', 1)\n",
      "ERROR: 'popitem(): dictionary is empty'\n"
     ]
    }
   ],
   "source": [
    "diccionario : dict = {'a' : 1, 'b' : 2, 'c' : 3, 'd' : 4}\n",
    "\n",
    "try:\n",
    "    print(diccionario.popitem())\n",
    "    print(diccionario.popitem())\n",
    "    print(diccionario.popitem())\n",
    "    print(diccionario.popitem())\n",
    "    print(diccionario.popitem())\n",
    "except Exception as exception:\n",
    "    print('ERROR:', exception)"
   ]
  },
  {
   "cell_type": "markdown",
   "metadata": {},
   "source": [
    "update()"
   ]
  },
  {
   "cell_type": "code",
   "execution_count": 101,
   "metadata": {},
   "outputs": [
    {
     "data": {
      "text/plain": [
       "{'a': 2, 'b': (1, 2), 'c': 3, 'd': 4, 'e': -1}"
      ]
     },
     "execution_count": 101,
     "metadata": {},
     "output_type": "execute_result"
    }
   ],
   "source": [
    "diccionario : dict = {'a' : 1, 'b' : 2, 'c' : 3, 'd' : 4}\n",
    "\n",
    "diccionario.update({'a' : 2, 'b' : (1, 2), 'e' : -1})\n",
    "\n",
    "diccionario"
   ]
  },
  {
   "cell_type": "markdown",
   "metadata": {},
   "source": [
    "setdefault(key, default=None)"
   ]
  },
  {
   "cell_type": "code",
   "execution_count": 102,
   "metadata": {},
   "outputs": [
    {
     "name": "stdout",
     "output_type": "stream",
     "text": [
      "None\n",
      "1\n",
      "-1222\n"
     ]
    }
   ],
   "source": [
    "diccionario : dict = {'a' : 1, 'b' : 2, 'c' : 3, 'd' : 4}\n",
    "\n",
    "try:\n",
    "    print(diccionario.setdefault(1))\n",
    "    print(diccionario.setdefault('a', -1))\n",
    "    print(diccionario.setdefault(22, -1222))\n",
    "except Exception as exception:\n",
    "    print('ERROR:', exception)"
   ]
  },
  {
   "cell_type": "markdown",
   "metadata": {},
   "source": [
    "### Ejemplos de Uso"
   ]
  },
  {
   "cell_type": "markdown",
   "metadata": {},
   "source": [
    "#### Acceder a un elemento según clave"
   ]
  },
  {
   "cell_type": "code",
   "execution_count": 103,
   "metadata": {},
   "outputs": [
    {
     "data": {
      "text/plain": [
       "(1, 2)"
      ]
     },
     "execution_count": 103,
     "metadata": {},
     "output_type": "execute_result"
    }
   ],
   "source": [
    "diccionario : set = {1 : (1, 2), 2 : (), 3 : (), 4 : (2, 3, 4)}\n",
    "diccionario[1]"
   ]
  },
  {
   "cell_type": "markdown",
   "metadata": {},
   "source": [
    "Comprobad que existe la clave o usar .get() para que no salte una Excepción"
   ]
  },
  {
   "cell_type": "code",
   "execution_count": 104,
   "metadata": {},
   "outputs": [
    {
     "ename": "KeyError",
     "evalue": "-1",
     "output_type": "error",
     "traceback": [
      "\u001b[1;31m---------------------------------------------------------------------------\u001b[0m",
      "\u001b[1;31mKeyError\u001b[0m                                  Traceback (most recent call last)",
      "\u001b[1;32mc:\\Users\\sergi\\Documents\\repos\\python_course\\tutoriales\\05_clases_y_objectos.ipynb Cell 217\u001b[0m line \u001b[0;36m2\n\u001b[0;32m      <a href='vscode-notebook-cell:/c%3A/Users/sergi/Documents/repos/python_course/tutoriales/05_clases_y_objectos.ipynb#Y444sZmlsZQ%3D%3D?line=0'>1</a>\u001b[0m diccionario : \u001b[39mset\u001b[39m \u001b[39m=\u001b[39m {\u001b[39m1\u001b[39m : (\u001b[39m1\u001b[39m, \u001b[39m2\u001b[39m), \u001b[39m2\u001b[39m : (), \u001b[39m3\u001b[39m : (), \u001b[39m4\u001b[39m : (\u001b[39m2\u001b[39m, \u001b[39m3\u001b[39m, \u001b[39m4\u001b[39m)}\n\u001b[1;32m----> <a href='vscode-notebook-cell:/c%3A/Users/sergi/Documents/repos/python_course/tutoriales/05_clases_y_objectos.ipynb#Y444sZmlsZQ%3D%3D?line=1'>2</a>\u001b[0m diccionario[\u001b[39m-\u001b[39;49m\u001b[39m1\u001b[39;49m]\n",
      "\u001b[1;31mKeyError\u001b[0m: -1"
     ]
    }
   ],
   "source": [
    "diccionario : set = {1 : (1, 2), 2 : (), 3 : (), 4 : (2, 3, 4)}\n",
    "diccionario[-1]"
   ]
  },
  {
   "cell_type": "markdown",
   "metadata": {},
   "source": [
    "#### Borrar de un diccionario claves que tienen tuplas vacías"
   ]
  },
  {
   "cell_type": "markdown",
   "metadata": {},
   "source": [
    "Versión mala"
   ]
  },
  {
   "cell_type": "code",
   "execution_count": 105,
   "metadata": {},
   "outputs": [
    {
     "ename": "RuntimeError",
     "evalue": "dictionary changed size during iteration",
     "output_type": "error",
     "traceback": [
      "\u001b[1;31m---------------------------------------------------------------------------\u001b[0m",
      "\u001b[1;31mRuntimeError\u001b[0m                              Traceback (most recent call last)",
      "\u001b[1;32mc:\\Users\\sergi\\Documents\\repos\\python_course\\tutoriales\\05_clases_y_objectos.ipynb Cell 220\u001b[0m line \u001b[0;36m3\n\u001b[0;32m      <a href='vscode-notebook-cell:/c%3A/Users/sergi/Documents/repos/python_course/tutoriales/05_clases_y_objectos.ipynb#Y435sZmlsZQ%3D%3D?line=0'>1</a>\u001b[0m diccionario : \u001b[39mset\u001b[39m \u001b[39m=\u001b[39m {\u001b[39m1\u001b[39m : (\u001b[39m1\u001b[39m, \u001b[39m2\u001b[39m), \u001b[39m2\u001b[39m : (), \u001b[39m3\u001b[39m : (), \u001b[39m4\u001b[39m : (\u001b[39m2\u001b[39m, \u001b[39m3\u001b[39m, \u001b[39m4\u001b[39m)}\n\u001b[1;32m----> <a href='vscode-notebook-cell:/c%3A/Users/sergi/Documents/repos/python_course/tutoriales/05_clases_y_objectos.ipynb#Y435sZmlsZQ%3D%3D?line=2'>3</a>\u001b[0m \u001b[39mfor\u001b[39;00m key, value \u001b[39min\u001b[39;00m diccionario\u001b[39m.\u001b[39mitems():\n\u001b[0;32m      <a href='vscode-notebook-cell:/c%3A/Users/sergi/Documents/repos/python_course/tutoriales/05_clases_y_objectos.ipynb#Y435sZmlsZQ%3D%3D?line=3'>4</a>\u001b[0m     \u001b[39mif\u001b[39;00m \u001b[39mnot\u001b[39;00m value:\n\u001b[0;32m      <a href='vscode-notebook-cell:/c%3A/Users/sergi/Documents/repos/python_course/tutoriales/05_clases_y_objectos.ipynb#Y435sZmlsZQ%3D%3D?line=4'>5</a>\u001b[0m         diccionario\u001b[39m.\u001b[39mpop(key)\n",
      "\u001b[1;31mRuntimeError\u001b[0m: dictionary changed size during iteration"
     ]
    }
   ],
   "source": [
    "diccionario : set = {1 : (1, 2), 2 : (), 3 : (), 4 : (2, 3, 4)}\n",
    "\n",
    "for key, value in diccionario.items():\n",
    "    if not value:\n",
    "        diccionario.pop(key)\n",
    "\n",
    "diccionario"
   ]
  },
  {
   "cell_type": "markdown",
   "metadata": {},
   "source": [
    "Versión buena"
   ]
  },
  {
   "cell_type": "code",
   "execution_count": 106,
   "metadata": {},
   "outputs": [
    {
     "data": {
      "text/plain": [
       "{1: (1, 2), 4: (2, 3, 4)}"
      ]
     },
     "execution_count": 106,
     "metadata": {},
     "output_type": "execute_result"
    }
   ],
   "source": [
    "diccionario : set = {1 : (1, 2), 2 : (), 3 : (), 4 : (2, 3, 4)}\n",
    "\n",
    "for key, value in diccionario.copy().items():\n",
    "    if not value:\n",
    "        diccionario.pop(key)\n",
    "\n",
    "diccionario"
   ]
  },
  {
   "cell_type": "markdown",
   "metadata": {},
   "source": [
    "### Ejercicios\n",
    "\n",
    "- Crea un diccionario de animales a tu gusto con la información que estimes necesaria para definir a un animal\n",
    "- Añade animales al diccionario anterior\n",
    "- Eliminar animales del diccionario anterior\n",
    "- Crea un diccionario nuevo y trata de combinar los dos diccionarios"
   ]
  }
 ],
 "metadata": {
  "kernelspec": {
   "display_name": "course-venv",
   "language": "python",
   "name": "python3"
  },
  "language_info": {
   "codemirror_mode": {
    "name": "ipython",
    "version": 3
   },
   "file_extension": ".py",
   "mimetype": "text/x-python",
   "name": "python",
   "nbconvert_exporter": "python",
   "pygments_lexer": "ipython3",
   "version": "3.10.11"
  },
  "orig_nbformat": 4
 },
 "nbformat": 4,
 "nbformat_minor": 2
}
