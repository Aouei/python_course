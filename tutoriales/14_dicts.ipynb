{
 "cells": [
  {
   "attachments": {},
   "cell_type": "markdown",
   "metadata": {},
   "source": [
    "# La clase Dict\n",
    "\n",
    "La clase Dict podríamos entenderla como una lista cuyos índices no tienen qué ser únicamente números indicando el orden de inserción de una dato en la lista.\n",
    "\n",
    "En un diccionario identificamos 2 elementos. **Clave** y **Valor**.\n",
    "La clave es el índice con el que accedemos a un valor que dicha clave tiene asociado.\n",
    "\n",
    "Las claves se almacenan en conjuntos, lo que hacer que no puedan repetirse las claves. No puede haber 2 claver iguales en un diccionario.\n",
    "Las claves deben ser inmutables: strings, tuplas, enteros, decimales. Nunca listas. Al menos de forma explícita.\n",
    "\n",
    "Cada clave puede tener cualquier valor asociado. Es decir, en un mismo diccionario, una clave puede tener asociado un numero y otra clave tener asociada una palabra."
   ]
  },
  {
   "attachments": {},
   "cell_type": "markdown",
   "metadata": {},
   "source": [
    "## Métodos de los conjuntos"
   ]
  },
  {
   "cell_type": "code",
   "execution_count": 43,
   "metadata": {},
   "outputs": [
    {
     "name": "stdout",
     "output_type": "stream",
     "text": [
      "PRE clear(): {'a': 1, 'b': 2, 'c': 3, 'd': 4}\n",
      "POST clear(): {}\n",
      "------------------------------------------------------------------------------------------------------------------------------------------------------\n",
      "PRE copy(): {'a': 1, 'b': 2, 'c': 3, 'd': 4}\n",
      "ID diccionario_1: 2219421442368 ID diccionario: 2219421442368 ¿Idénticos? True\n",
      "ID diccionario_1: 2219410075840 ID diccionario: 2219421442368 ¿Idénticos? False\n",
      "POST copy(): {'a': 1, 'b': 2, 'c': 3, 'd': 4}\n",
      "------------------------------------------------------------------------------------------------------------------------------------------------------\n",
      "fromkeys(iterable, value=None) {1: 'a', 2: 'a', 3: 'a'}\n",
      "get(key, default=None) a\n",
      "get(key, default=None) b\n",
      "------------------------------------------------------------------------------------------------------------------------------------------------------\n",
      "keys() ['a', 'b', 'c', 'd']\n",
      "------------------------------------------------------------------------------------------------------------------------------------------------------\n",
      "values() [1, 2, 3, 4]\n",
      "------------------------------------------------------------------------------------------------------------------------------------------------------\n",
      "items() [('a', 1), ('b', 2), ('c', 3), ('d', 4)]\n",
      "------------------------------------------------------------------------------------------------------------------------------------------------------\n",
      "PRE pop(key) {'a': 1, 'b': 2, 'c': 3, 'd': 4}\n",
      "pop(key) 1\n",
      "ERROR: 11\n",
      "POST pop(key) {'b': 2, 'c': 3, 'd': 4}\n",
      "------------------------------------------------------------------------------------------------------------------------------------------------------\n",
      "PRE popitem() {'a': 1, 'b': 2, 'c': 3, 'd': 4}\n",
      "popitem() ('d', 4)\n",
      "popitem() ('c', 3)\n",
      "popitem() ('b', 2)\n",
      "popitem() ('a', 1)\n",
      "ERROR: 'popitem(): dictionary is empty'\n",
      "POST popitem() {}\n",
      "------------------------------------------------------------------------------------------------------------------------------------------------------\n",
      "PRE update() {'a': 1, 'b': 2, 'c': 3, 'd': 4}\n",
      "update() None\n",
      "POST update() {'a': 2, 'b': (1, 2), 'c': 3, 'd': 4, 'e': -1}\n",
      "------------------------------------------------------------------------------------------------------------------------------------------------------\n",
      "PRE setdefault(key, default=None) {'a': 1, 'b': 2, 'c': 3, 'd': 4}\n",
      "setdefault(key, default=None) None\n",
      "setdefault(key, default=None) 1\n",
      "setdefault(key, default=None) -1222\n",
      "POST setdefault(key, default=None) {'a': 1, 'b': 2, 'c': 3, 'd': 4, 1: None, 22: -1222}\n",
      "------------------------------------------------------------------------------------------------------------------------------------------------------\n"
     ]
    }
   ],
   "source": [
    "###############################################################################################################################################################\n",
    "diccionario = {'a' : 1, 'b' : 2, 'c' : 3, 'd' : 4}\n",
    "print('PRE clear():', diccionario)\n",
    "diccionario.clear()\n",
    "print('POST clear():', diccionario, end = f'\\n{\"-\" * 150}\\n')\n",
    "\n",
    "###############################################################################################################################################################\n",
    "diccionario = {'a' : 1, 'b' : 2, 'c' : 3, 'd' : 4}\n",
    "\n",
    "print('PRE copy():', diccionario)\n",
    "diccionario_1 = diccionario\n",
    "print('ID diccionario_1:', id(diccionario_1), 'ID diccionario:', id(diccionario), '¿Idénticos?', id(diccionario_1) == id(diccionario))\n",
    "diccionario_1 = diccionario.copy()\n",
    "print('ID diccionario_1:', id(diccionario_1), 'ID diccionario:', id(diccionario), '¿Idénticos?', id(diccionario_1) == id(diccionario))\n",
    "print('POST copy():', diccionario, end = f'\\n{\"-\" * 150}\\n')\n",
    "\n",
    "###############################################################################################################################################################\n",
    "\n",
    "print('fromkeys(iterable, value=None)', {}.fromkeys([1, 2, 3], 'a'))\n",
    "\n",
    "###############################################################################################################################################################\n",
    "\n",
    "print('get(key, default=None)', {}.get(1, 'a'))\n",
    "print('get(key, default=None)', {1 : 'b', 2 : 'aaa'}.get(1, 'a'), end = f'\\n{\"-\" * 150}\\n')\n",
    "\n",
    "###############################################################################################################################################################\n",
    "\n",
    "print('keys()', list(diccionario.keys()), end = f'\\n{\"-\" * 150}\\n')\n",
    "\n",
    "###############################################################################################################################################################\n",
    "\n",
    "print('values()', list(diccionario.values()), end = f'\\n{\"-\" * 150}\\n')\n",
    "\n",
    "###############################################################################################################################################################\n",
    "\n",
    "print('items()', list(diccionario.items()), end = f'\\n{\"-\" * 150}\\n')\n",
    "\n",
    "###############################################################################################################################################################\n",
    "\n",
    "print('PRE pop(key)', diccionario)\n",
    "\n",
    "try:\n",
    "    print('pop(key)', diccionario.pop('a'))\n",
    "    print('pop(key)', diccionario.pop(11))\n",
    "except KeyError as exception:\n",
    "    print('ERROR:', exception)\n",
    "\n",
    "print('POST pop(key)', diccionario, end = f'\\n{\"-\" * 150}\\n')\n",
    "\n",
    "###############################################################################################################################################################\n",
    "\n",
    "diccionario = {'a' : 1, 'b' : 2, 'c' : 3, 'd' : 4}\n",
    "print('PRE popitem()', diccionario)\n",
    "\n",
    "try:\n",
    "    print('popitem()', diccionario.popitem())\n",
    "    print('popitem()', diccionario.popitem())\n",
    "    print('popitem()', diccionario.popitem())\n",
    "    print('popitem()', diccionario.popitem())\n",
    "    print('popitem()', diccionario.popitem())\n",
    "except KeyError as exception:\n",
    "    print('ERROR:', exception)\n",
    "\n",
    "print('POST popitem()', diccionario, end = f'\\n{\"-\" * 150}\\n')\n",
    "\n",
    "###############################################################################################################################################################\n",
    "\n",
    "diccionario = {'a' : 1, 'b' : 2, 'c' : 3, 'd' : 4}\n",
    "print('PRE update()', diccionario)\n",
    "\n",
    "try:\n",
    "    print('update()', diccionario.update({'a' : 2, 'b' : (1, 2), 'e' : -1}))\n",
    "except KeyError as exception:\n",
    "    print('ERROR:', exception)\n",
    "\n",
    "print('POST update()', diccionario, end = f'\\n{\"-\" * 150}\\n')\n",
    "\n",
    "###############################################################################################################################################################\n",
    "\n",
    "diccionario = {'a' : 1, 'b' : 2, 'c' : 3, 'd' : 4}\n",
    "print('PRE setdefault(key, default=None)', diccionario)\n",
    "\n",
    "try:\n",
    "    print('setdefault(key, default=None)', diccionario.setdefault(1))\n",
    "    print('setdefault(key, default=None)', diccionario.setdefault('a', -1))\n",
    "    print('setdefault(key, default=None)', diccionario.setdefault(22, -1222))\n",
    "except KeyError as exception:\n",
    "    print('ERROR:', exception)\n",
    "\n",
    "print('POST setdefault(key, default=None)', diccionario, end = f'\\n{\"-\" * 150}\\n')"
   ]
  },
  {
   "attachments": {},
   "cell_type": "markdown",
   "metadata": {},
   "source": [
    "## Ejercicio 1\n",
    "\n",
    "Borrar de un diccionario claves que tienen tuplas vacías"
   ]
  },
  {
   "cell_type": "code",
   "execution_count": 50,
   "metadata": {},
   "outputs": [],
   "source": [
    "diccionario = {1 : (1, 2), 2 : (), 3 : (), 4 : (2, 3, 4)}"
   ]
  },
  {
   "attachments": {},
   "cell_type": "markdown",
   "metadata": {},
   "source": [
    "### Versión mala"
   ]
  },
  {
   "cell_type": "code",
   "execution_count": 51,
   "metadata": {},
   "outputs": [
    {
     "ename": "RuntimeError",
     "evalue": "dictionary changed size during iteration",
     "output_type": "error",
     "traceback": [
      "\u001b[1;31m---------------------------------------------------------------------------\u001b[0m",
      "\u001b[1;31mRuntimeError\u001b[0m                              Traceback (most recent call last)",
      "Cell \u001b[1;32mIn[51], line 1\u001b[0m\n\u001b[1;32m----> 1\u001b[0m \u001b[39mfor\u001b[39;00m key, value \u001b[39min\u001b[39;00m diccionario\u001b[39m.\u001b[39mitems():\n\u001b[0;32m      2\u001b[0m     \u001b[39mif\u001b[39;00m \u001b[39mnot\u001b[39;00m \u001b[39mbool\u001b[39m(value):\n\u001b[0;32m      3\u001b[0m         diccionario\u001b[39m.\u001b[39mpop(key)\n",
      "\u001b[1;31mRuntimeError\u001b[0m: dictionary changed size during iteration"
     ]
    }
   ],
   "source": [
    "for key, value in diccionario.items():\n",
    "    if not bool(value):\n",
    "        diccionario.pop(key)\n",
    "\n",
    "diccionario"
   ]
  },
  {
   "attachments": {},
   "cell_type": "markdown",
   "metadata": {},
   "source": [
    "### Versión más correcta"
   ]
  },
  {
   "cell_type": "code",
   "execution_count": 53,
   "metadata": {},
   "outputs": [
    {
     "data": {
      "text/plain": [
       "{1: (1, 2), 4: (2, 3, 4)}"
      ]
     },
     "execution_count": 53,
     "metadata": {},
     "output_type": "execute_result"
    }
   ],
   "source": [
    "for key, value in diccionario.copy().items():\n",
    "    if not bool(value):\n",
    "        diccionario.pop(key)\n",
    "\n",
    "diccionario"
   ]
  },
  {
   "attachments": {},
   "cell_type": "markdown",
   "metadata": {},
   "source": [
    "### Versión engorrosa"
   ]
  },
  {
   "cell_type": "code",
   "execution_count": 54,
   "metadata": {},
   "outputs": [
    {
     "data": {
      "text/plain": [
       "{1: (1, 2), 4: (2, 3, 4)}"
      ]
     },
     "execution_count": 54,
     "metadata": {},
     "output_type": "execute_result"
    }
   ],
   "source": [
    "for key in diccionario:\n",
    "    if len(diccionario[key]) == 0:\n",
    "        diccionario.pop(key)\n",
    "\n",
    "diccionario"
   ]
  }
 ],
 "metadata": {
  "kernelspec": {
   "display_name": "course-venv",
   "language": "python",
   "name": "python3"
  },
  "language_info": {
   "codemirror_mode": {
    "name": "ipython",
    "version": 3
   },
   "file_extension": ".py",
   "mimetype": "text/x-python",
   "name": "python",
   "nbconvert_exporter": "python",
   "pygments_lexer": "ipython3",
   "version": "3.10.11"
  },
  "orig_nbformat": 4
 },
 "nbformat": 4,
 "nbformat_minor": 2
}
