{
 "cells": [
  {
   "attachments": {},
   "cell_type": "markdown",
   "metadata": {},
   "source": [
    "# Operaciones Lógicas\n",
    "\n",
    "Estas operaciones trabajan bajo el concepto de verdad y mentira.\n",
    "En otras palabras:\n",
    "- En las operaciones aritméticas trabajamos con números y obtenemos números como resultado.\n",
    "- En las operaciones bit a bit trabajamos con bits y obtenemos bits como resultado.\n",
    "\n",
    "De igual manera, en las operaciones lógicas trabajamos con bools que representan los valores True y False y obtenemos bools como resultado.\n",
    "\n",
    "Operaciones:\n",
    "- AND: **and**\n",
    "- OR: **or**\n",
    "- NOT: **not**\n",
    "- IS: **is**\n",
    "- IN: **in**\n",
    "- EQUALS: **==**\n",
    "- NOT EQUALS: **!=**\n",
    "- GREATER: **>**\n",
    "- LESSER: **<**\n",
    "- GREATER OR EQUALS: **>=**\n",
    "- LESSER OR EQUALS: **<=**\n"
   ]
  },
  {
   "attachments": {},
   "cell_type": "markdown",
   "metadata": {},
   "source": [
    "## AND\n",
    "\n",
    "La sintaxis es **bool and bool**.\n",
    "\n",
    "Funciona igual que vimos en las operaciones bit a bit. La diferencia es que trabajamos con bools.\n",
    "\n",
    "AND:\n",
    "- False and False -> False\n",
    "- False and True -> False\n",
    "- True and False -> False\n",
    "- True and True -> True"
   ]
  },
  {
   "cell_type": "code",
   "execution_count": 6,
   "metadata": {},
   "outputs": [
    {
     "data": {
      "text/plain": [
       "(True, False, False, False)"
      ]
     },
     "execution_count": 6,
     "metadata": {},
     "output_type": "execute_result"
    }
   ],
   "source": [
    "True and True, True and False, False and True, False and False"
   ]
  },
  {
   "attachments": {},
   "cell_type": "markdown",
   "metadata": {},
   "source": [
    "## OR\n",
    "\n",
    "La sintaxis es **bool or bool**.\n",
    "\n",
    "Funciona igual que vimos en las operaciones bit a bit. La diferencia es que trabajamos con bools.\n",
    "\n",
    "OR:\n",
    "- False or False -> False\n",
    "- False or True -> True\n",
    "- True or False -> True\n",
    "- True or True -> True"
   ]
  },
  {
   "cell_type": "code",
   "execution_count": 5,
   "metadata": {},
   "outputs": [
    {
     "data": {
      "text/plain": [
       "(True, True, True, False)"
      ]
     },
     "execution_count": 5,
     "metadata": {},
     "output_type": "execute_result"
    }
   ],
   "source": [
    "True or True, True or False, False or True, False or False"
   ]
  },
  {
   "attachments": {},
   "cell_type": "markdown",
   "metadata": {},
   "source": [
    "## NOT\n",
    "\n",
    "La sintaxis es **not bool**.\n",
    "\n",
    "Funciona igual que vimos en las operaciones bit a bit. La diferencia es que trabajamos con bools.\n",
    "\n",
    "NOT:\n",
    "- not False -> True\n",
    "- not True -> False"
   ]
  },
  {
   "cell_type": "code",
   "execution_count": 8,
   "metadata": {},
   "outputs": [
    {
     "data": {
      "text/plain": [
       "(False, True)"
      ]
     },
     "execution_count": 8,
     "metadata": {},
     "output_type": "execute_result"
    }
   ],
   "source": [
    "not True, not False"
   ]
  },
  {
   "attachments": {},
   "cell_type": "markdown",
   "metadata": {},
   "source": [
    "## IS\n",
    "\n",
    "La sintaxis es **data is data**.\n",
    "\n",
    "Compara si 2 datos son idénticos. Es decir, están guardados exactamente en la misma posicion de memoria."
   ]
  },
  {
   "cell_type": "code",
   "execution_count": 13,
   "metadata": {},
   "outputs": [
    {
     "data": {
      "text/plain": [
       "(True, False)"
      ]
     },
     "execution_count": 13,
     "metadata": {},
     "output_type": "execute_result"
    }
   ],
   "source": [
    "dato1 = 1\n",
    "dato2 = 2\n",
    "dato3 = 1\n",
    "\n",
    "dato1 is dato3, dato1 is dato2"
   ]
  },
  {
   "attachments": {},
   "cell_type": "markdown",
   "metadata": {},
   "source": [
    "## IN\n",
    "\n",
    "La sintaxis es **data in sequence**.\n",
    "\n",
    "Estudia si un dato está en otro dato de tipos secuencia como sin strings, lists, tuples, sets, and dicts."
   ]
  },
  {
   "cell_type": "code",
   "execution_count": 19,
   "metadata": {},
   "outputs": [
    {
     "data": {
      "text/plain": [
       "(False, True, True, False, False)"
      ]
     },
     "execution_count": 19,
     "metadata": {},
     "output_type": "execute_result"
    }
   ],
   "source": [
    "'world' in 'letter', \\\n",
    "1 in [1,], \\\n",
    "1 in (1,), \\\n",
    "2 in {1, 3}, \\\n",
    "'a' in {1 : [1, 2]}"
   ]
  },
  {
   "attachments": {},
   "cell_type": "markdown",
   "metadata": {},
   "source": [
    "## EQUALS\n",
    "\n",
    "La sintaxis es **data == data**.\n",
    "\n",
    "Compara si dos variables guardan el mismo valor. No comparamos si guardan el mismo valor en la misma posicion de memoria. Estamos viendo si los valores coinciden."
   ]
  },
  {
   "cell_type": "code",
   "execution_count": 23,
   "metadata": {},
   "outputs": [
    {
     "data": {
      "text/plain": [
       "(False, True, False)"
      ]
     },
     "execution_count": 23,
     "metadata": {},
     "output_type": "execute_result"
    }
   ],
   "source": [
    "variable1 = 1\n",
    "variable2 = 'a'\n",
    "\n",
    "variable1 == variable2, variable1 == 1, variable1 == 2"
   ]
  },
  {
   "attachments": {},
   "cell_type": "markdown",
   "metadata": {},
   "source": [
    "## NOT EQUALS\n",
    "\n",
    "La sintaxis es **data != data**.\n",
    "\n",
    "Compara si dos variables **no** guardan el mismo valor."
   ]
  },
  {
   "cell_type": "code",
   "execution_count": 24,
   "metadata": {},
   "outputs": [
    {
     "data": {
      "text/plain": [
       "(True, False, True)"
      ]
     },
     "execution_count": 24,
     "metadata": {},
     "output_type": "execute_result"
    }
   ],
   "source": [
    "variable1 = 1\n",
    "variable2 = 'a'\n",
    "\n",
    "variable1 != variable2, variable1 != 1, variable1 != 2"
   ]
  },
  {
   "attachments": {},
   "cell_type": "markdown",
   "metadata": {},
   "source": [
    "## GREATER\n",
    "\n",
    "La sintaxis es **data > data**.\n",
    "\n",
    "Compara si un dato es mayor que otro.\n",
    "\n",
    "**Nota:** Se puede escribir dato1 > dato2 > dato3 en una misma sentencia."
   ]
  },
  {
   "cell_type": "code",
   "execution_count": 26,
   "metadata": {},
   "outputs": [
    {
     "data": {
      "text/plain": [
       "(False, True)"
      ]
     },
     "execution_count": 26,
     "metadata": {},
     "output_type": "execute_result"
    }
   ],
   "source": [
    "1 > 2, 2 > -1 > -2"
   ]
  },
  {
   "attachments": {},
   "cell_type": "markdown",
   "metadata": {},
   "source": [
    "## LESSER\n",
    "\n",
    "La sintaxis es **data < data**.\n",
    "\n",
    "Compara si un dato es menor que otro.\n",
    "\n",
    "**Nota:** Se puede escribir dato1 < dato2 < dato3 en una misma sentencia."
   ]
  },
  {
   "cell_type": "code",
   "execution_count": 29,
   "metadata": {},
   "outputs": [
    {
     "data": {
      "text/plain": [
       "(True, False)"
      ]
     },
     "execution_count": 29,
     "metadata": {},
     "output_type": "execute_result"
    }
   ],
   "source": [
    "1 < 2, 2 < -1 < -2"
   ]
  },
  {
   "attachments": {},
   "cell_type": "markdown",
   "metadata": {},
   "source": [
    "## GREATER OR EQUALS\n",
    "\n",
    "La sintaxis es **data >= data**.\n",
    "\n",
    "Compara si un dato es mayor o igual que otro.\n",
    "\n",
    "**Nota:** Se puede escribir dato1 >= dato2 >= dato3 en una misma sentencia."
   ]
  },
  {
   "cell_type": "code",
   "execution_count": 31,
   "metadata": {},
   "outputs": [
    {
     "data": {
      "text/plain": [
       "True"
      ]
     },
     "execution_count": 31,
     "metadata": {},
     "output_type": "execute_result"
    }
   ],
   "source": [
    "1 >= -1 >= -2"
   ]
  },
  {
   "attachments": {},
   "cell_type": "markdown",
   "metadata": {},
   "source": [
    "## LESSER OR EQUALS\n",
    "\n",
    "La sintaxis es **data <= data**.\n",
    "\n",
    "Compara si un dato es menor o igual que otro.\n",
    "\n",
    "**Nota:** Se puede escribir dato1 <= dato2 <= dato3 en una misma sentencia."
   ]
  },
  {
   "cell_type": "code",
   "execution_count": 32,
   "metadata": {},
   "outputs": [
    {
     "data": {
      "text/plain": [
       "False"
      ]
     },
     "execution_count": 32,
     "metadata": {},
     "output_type": "execute_result"
    }
   ],
   "source": [
    "1 <= -1 <= -2"
   ]
  },
  {
   "attachments": {},
   "cell_type": "markdown",
   "metadata": {},
   "source": [
    "## Extra\n",
    "\n",
    "Se pueden combinar las operaciones **<**, **>**, **<=**, **>=** de la forma A >= B < C, ..."
   ]
  },
  {
   "cell_type": "code",
   "execution_count": 33,
   "metadata": {},
   "outputs": [
    {
     "data": {
      "text/plain": [
       "True"
      ]
     },
     "execution_count": 33,
     "metadata": {},
     "output_type": "execute_result"
    }
   ],
   "source": [
    "1 <= 2 > 0"
   ]
  }
 ],
 "metadata": {
  "kernelspec": {
   "display_name": "course-venv",
   "language": "python",
   "name": "python3"
  },
  "language_info": {
   "codemirror_mode": {
    "name": "ipython",
    "version": 3
   },
   "file_extension": ".py",
   "mimetype": "text/x-python",
   "name": "python",
   "nbconvert_exporter": "python",
   "pygments_lexer": "ipython3",
   "version": "3.10.11"
  },
  "orig_nbformat": 4
 },
 "nbformat": 4,
 "nbformat_minor": 2
}
