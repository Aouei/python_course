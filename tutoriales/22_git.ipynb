{
 "cells": [
  {
   "attachments": {},
   "cell_type": "markdown",
   "metadata": {},
   "source": [
    "# Git\n",
    "\n",
    "Git es un sistema de control de versiones cuya finalidad es apoyar el mantenimiento de sistemas donde hay muchos archivos implicados.\n",
    "\n",
    "Este nos permite guardar y gestionar los cambios realizados a archivos.\n",
    "\n",
    "## Instalación\n",
    "https://git-scm.com/book/es/v2/Inicio---Sobre-el-Control-de-Versiones-Instalaci%C3%B3n-de-Git\n",
    "\n",
    "## Conceptos\n",
    "- Repositorio:\n",
    "    - Local: Es el contenedor que guarda todo el histórico de cambios realizados en los archivos contenidos en el mismo.\n",
    "    - Remoto: Lo mismo pero alojado en la nube o en un servidor.\n",
    "- Árbol de trabajo: \n",
    "    - Nuestra carpeta de trabajo actual. Aquellos archivos con los que estamos trabajando actualmente y que podemos modificar.\n",
    "- Índice: \n",
    "    - Zona temporal donde se registran los cambios realizados a los archivos y donde creamos las confirmaciones de cambios que se guardan en el repositorio.\n",
    "- Commits: \n",
    "    - Un commit es la confirmación de los cambios realizados sobre archivos. Es decir, es donde se registra qué ha cambiado y dónde.\n",
    "- Ramas: \n",
    "    - Es un componente que nos permite separar el flujo de trabajo. De tal forma que una persona puede tener una rama principal para cambios finales y otra para desarrollar nuevas necesidades.\n",
    "\n",
    "## Comandos\n",
    "- git init:\n",
    "    - Crea un espacio controlado\n",
    "- git add . | git add file:\n",
    "    - Añade a la lista de cambios la carpeta o archivos especificados\n",
    "- git commit -m 'mensaje':\n",
    "    - Crea una confirmación de cambios con un mensaje\n",
    "- git checkout -b branch-name:\n",
    "    - Te mueves a una rama y si no está la crea\n",
    "- git branch branch-name:\n",
    "    - Crea una rama\n",
    "- git branch --delete branch-name:\n",
    "    - Borra una rama\n",
    "- git merge branch-name:\n",
    "    - Une la rama branch-name con al actual\n",
    "- git branch:\n",
    "    - Lista las ramas del repositorio\n",
    "- git remote add <remote-name> <repository>:\n",
    "    - Crea un acceso remoto a un repositorio remoto\n",
    "- git remote:\n",
    "    - Lista la conecciones remotas que tenemos\n",
    "- git fetch:\n",
    "    - Descarga todos los commits y ramas que no tenemos en local pero que están en remoto. (No hace merge)\n",
    "- git pull:\n",
    "    - Hace lo mismo que git fetch + git merge\n",
    "- git push:\n",
    "    - Actualiza la rama remota con los cambios de la rama local"
   ]
  }
 ],
 "metadata": {
  "language_info": {
   "name": "python"
  },
  "orig_nbformat": 4
 },
 "nbformat": 4,
 "nbformat_minor": 2
}
