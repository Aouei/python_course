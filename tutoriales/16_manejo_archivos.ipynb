{
 "cells": [
  {
   "attachments": {},
   "cell_type": "markdown",
   "metadata": {},
   "source": [
    "# Manejo de archivos externos\n",
    "\n",
    "Python tiene una función built-in llamada **open** que nos permite abrir archivo como .txt, .csv, .xlsx, ...\n",
    "\n",
    "Sin embargo, es cierto, que según el tipo de archivo, python tiene módulos específicos para manejar más cómodamente cada archivo.\n",
    "\n",
    "Ejemplos:\n",
    "- csv para archivos csv (Comma separated values)\n",
    "- json para archivos json (JavaScript object notation)\n",
    "\n",
    "Daremos algunos ejemplos para que todo se entienda mejor."
   ]
  },
  {
   "attachments": {},
   "cell_type": "markdown",
   "metadata": {},
   "source": [
    "## Acceso a la documentación"
   ]
  },
  {
   "cell_type": "code",
   "execution_count": null,
   "metadata": {},
   "outputs": [],
   "source": [
    "help(open)"
   ]
  },
  {
   "attachments": {},
   "cell_type": "markdown",
   "metadata": {},
   "source": [
    "## Lectura/Escritura clásica"
   ]
  },
  {
   "attachments": {},
   "cell_type": "markdown",
   "metadata": {},
   "source": [
    "### Lectura"
   ]
  },
  {
   "cell_type": "code",
   "execution_count": null,
   "metadata": {},
   "outputs": [],
   "source": [
    "filename = r'C:\\Users\\sergi\\Documents\\repos\\python_course\\data\\Dummy.txt' # Es buena idea usar r delante de los paths explícitos cuando estamos en Windows.\n",
    "\n",
    "txt_file = open(filename, mode = 'r')\n",
    "content = txt_file.read()\n",
    "\n",
    "txt_file = open(filename, mode = 'r')\n",
    "content_first_line = txt_file.readline()\n",
    "\n",
    "txt_file = open(filename, mode = 'r')\n",
    "content_first_second_lines = txt_file.readlines(19) # Leemos hasta dónde se supera el nº de caracteres | hint=-1 lee todo\n",
    "\n",
    "txt_file.close() # Cuando no se usa se cierra explícitamente\n",
    "\n",
    "print(f'{content=} \\n{content_first_line=} \\n{content_first_second_lines=}')"
   ]
  },
  {
   "attachments": {},
   "cell_type": "markdown",
   "metadata": {},
   "source": [
    "### Lectura y Escritura"
   ]
  },
  {
   "cell_type": "code",
   "execution_count": null,
   "metadata": {},
   "outputs": [],
   "source": [
    "filename = r'C:\\Users\\sergi\\Documents\\repos\\python_course\\data\\Dummy.txt' # Es buena idea usar r delante de los paths explícitos cuando estamos en Windows.\n",
    "\n",
    "txt_file = open(filename, mode = 'r+') # Leer y escribir\n",
    "txt_file.write(txt_file.read() + '\\n')\n",
    "txt_file.write('E' * 18 + '\\n')\n",
    "txt_file.close()"
   ]
  },
  {
   "attachments": {},
   "cell_type": "markdown",
   "metadata": {},
   "source": [
    "### Append (Si ya existe, escribe al final)"
   ]
  },
  {
   "cell_type": "code",
   "execution_count": null,
   "metadata": {},
   "outputs": [],
   "source": [
    "filename = r'C:\\Users\\sergi\\Documents\\repos\\python_course\\data\\Dummy.txt' # Es buena idea usar r delante de los paths explícitos cuando estamos en Windows.\n",
    "\n",
    "txt_file = open(filename, mode = 'a')\n",
    "txt_file.write('F' * 18 + '\\n')\n",
    "txt_file.close()"
   ]
  },
  {
   "attachments": {},
   "cell_type": "markdown",
   "metadata": {},
   "source": [
    "## Estructura **with open**"
   ]
  },
  {
   "cell_type": "code",
   "execution_count": null,
   "metadata": {},
   "outputs": [],
   "source": [
    "filename = r'C:\\Users\\sergi\\Documents\\repos\\python_course\\data\\Dummy.txt' # Es buena idea usar r delante de los paths explícitos cuando estamos en Windows.\n",
    "\n",
    "with open(filename, 'r') as txt_file:\n",
    "    content = txt_file.read()\n",
    "\n",
    "print(content)"
   ]
  },
  {
   "attachments": {},
   "cell_type": "markdown",
   "metadata": {},
   "source": [
    "## Manejo con módulos específicos"
   ]
  },
  {
   "attachments": {},
   "cell_type": "markdown",
   "metadata": {},
   "source": [
    "### CSV"
   ]
  },
  {
   "cell_type": "code",
   "execution_count": null,
   "metadata": {},
   "outputs": [],
   "source": [
    "import csv\n",
    "\n",
    "csv_path = r'C:\\Users\\sergi\\Documents\\repos\\python_course\\data\\data.csv'\n",
    "\n",
    "## READ\n",
    "with open(csv_path) as csv_file:\n",
    "    reader = csv.DictReader(csv_file, delimiter = ',')\n",
    "    for row in reader:\n",
    "        print(row)\n",
    "\n",
    "## WRITE\n",
    "with open(csv_path, 'a') as csv_file:\n",
    "    spamwriter = csv.DictWriter(csv_file, delimiter = ',', fieldnames = list(row.keys()))\n",
    "    spamwriter.writerow(row)"
   ]
  },
  {
   "attachments": {},
   "cell_type": "markdown",
   "metadata": {},
   "source": [
    "### JSON"
   ]
  },
  {
   "cell_type": "code",
   "execution_count": null,
   "metadata": {},
   "outputs": [],
   "source": [
    "import json\n",
    "\n",
    "json_path = r'C:\\Users\\sergi\\Documents\\repos\\python_course\\data\\config.json'\n",
    "\n",
    "## READ\n",
    "with open(json_path) as json_file:\n",
    "    data = json.load(json_file)\n",
    "\n",
    "print(data)\n",
    "\n",
    "## WRITE\n",
    "with open(json_path, 'w') as json_file:\n",
    "    data['WRITE'] = None\n",
    "    data = json.dump(data, json_file)"
   ]
  },
  {
   "attachments": {},
   "cell_type": "markdown",
   "metadata": {},
   "source": [
    "### YAML"
   ]
  },
  {
   "cell_type": "code",
   "execution_count": null,
   "metadata": {},
   "outputs": [],
   "source": [
    "import yaml\n",
    "\n",
    "yaml_path = r'C:\\Users\\sergi\\Documents\\repos\\python_course\\data\\config.yml'\n",
    "\n",
    "## READ\n",
    "with open(yaml_path, \"r\") as yml_file:\n",
    "    try:\n",
    "        data = yaml.safe_load(yml_file)\n",
    "        print(data)\n",
    "    except yaml.YAMLError as exc:\n",
    "        print(exc)\n",
    "    \n",
    "## WRITE\n",
    "with open(yaml_path, \"a\") as yml_file:\n",
    "    try:\n",
    "        data['WRITE'] = None\n",
    "        yaml.dump(data, yml_file)\n",
    "    except yaml.YAMLError as exc:\n",
    "        print(exc)"
   ]
  },
  {
   "attachments": {},
   "cell_type": "markdown",
   "metadata": {},
   "source": [
    "### TIF"
   ]
  },
  {
   "cell_type": "code",
   "execution_count": null,
   "metadata": {},
   "outputs": [],
   "source": [
    "import rasterio\n",
    "from pprint import pprint\n",
    "\n",
    "tif_path = r'C:\\Users\\sergi\\Documents\\repos\\python_course\\data\\rgb.tif'\n",
    "\n",
    "## READ\n",
    "with rasterio.open(tif_path, 'r') as src:\n",
    "    data = src.read()\n",
    "    profile = src.profile\n",
    "    pprint(f'{profile=}')\n",
    "    print(f'{data.shape=}')\n",
    "\n",
    "## WRITE\n",
    "with rasterio.open(tif_path, 'w', **profile) as dst:\n",
    "    dst.write(data)"
   ]
  }
 ],
 "metadata": {
  "kernelspec": {
   "display_name": "course-venv",
   "language": "python",
   "name": "python3"
  },
  "language_info": {
   "codemirror_mode": {
    "name": "ipython",
    "version": 3
   },
   "file_extension": ".py",
   "mimetype": "text/x-python",
   "name": "python",
   "nbconvert_exporter": "python",
   "pygments_lexer": "ipython3",
   "version": "3.10.11"
  },
  "orig_nbformat": 4
 },
 "nbformat": 4,
 "nbformat_minor": 2
}
