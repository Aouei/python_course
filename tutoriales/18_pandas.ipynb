{
 "cells": [
  {
   "attachments": {},
   "cell_type": "markdown",
   "metadata": {},
   "source": [
    "# Pandas\n",
    "\n",
    "Pandas en una librería de Python generalmente utilizada para análisis numérico, tratamiento de datos, etc...\n",
    "\n",
    "En Numpy vimos que el elemento estrella sobre el que está montaba toda la funcionalidad es ndarray. <br>\n",
    "En pandas, de igual forma, tenemos los elementos **DataFrame** y **Series**.\n",
    "\n",
    "----------------------------------------------------------------\n",
    "\n",
    "- Series:\n",
    "    - Una serie en una lista al estilo ndarray cuyos elementos son del mismo tipo, enteros, decimales, fechas, ...\n",
    "    - Las series permiten organizar datos en forma de lista. Estas están indexadas o por números, o por otros elementos como pueden ser texto o fechas.\n",
    "\n",
    "----------------------------------------------------------------\n",
    "\n",
    "- DataFrame:\n",
    "    - Un DataFrame, en ensencia, es una concatenación de Series donde cada serie está indexada por una columna (normalmente). <br>\n",
    "    - Las series del DataFrame deben de tener el mismo número de elementos. Y los elementos de una misma fila tiene el mismo índice para esa fila.\n",
    "\n",
    "----------------------------------------------------------------\n",
    "\n",
    "En otras palabras, un DataFrame es una tabla donde tenemos columnas y filas. <br>\n",
    "Las filas tienen un índice que nos permite acceder a todos los elementos de dicha fila. Esos índices pueden ser números, letras o fechas. <br>\n",
    "Las columnas son Series indexadas por columnas que normalmente suelen ser texto.\n",
    "\n",
    "----------------------------------------------------------------\n",
    "\n",
    "**Ejemplo**\n",
    "\n",
    "<table border=\"1\" class=\"dataframe\">\n",
    "    <thead>    \n",
    "        <tr style=\"text-align: right;\">      \n",
    "            <th></th>      \n",
    "            <th>Fecha</th>      \n",
    "            <th>Nombre</th>      \n",
    "            <th>Edad</th>      \n",
    "            <th>Puntuación</th>    \n",
    "        </tr>  \n",
    "    </thead>  \n",
    "    <tbody>    \n",
    "        <tr>      \n",
    "            <th>0</th>      \n",
    "            <td>2023-01-01</td>      \n",
    "            <td>Juan</td>      \n",
    "            <td>25.0</td>      \n",
    "            <td>8.2</td>    \n",
    "        </tr>    \n",
    "        <tr>      \n",
    "            <th>1</th>      \n",
    "            <td>2023-01-02</td>      \n",
    "            <td>María</td>      \n",
    "            <td>30.0</td>      \n",
    "            <td>7.5</td>    \n",
    "        </tr>    \n",
    "        <tr>      \n",
    "            <th>2</th>     \n",
    "            <td>2023-01-03</td>      \n",
    "            <td>Pedro</td>      \n",
    "            <td>NaN</td>      \n",
    "            <td>6.9</td>    \n",
    "        </tr>    \n",
    "        <tr>      \n",
    "            <th>3</th>      \n",
    "            <td>2023-01-04</td>      \n",
    "            <td>Ana</td>      \n",
    "            <td>35.0</td>      \n",
    "            <td>NaN</td>    \n",
    "        </tr>    \n",
    "        <tr>      \n",
    "            <th>4</th>      \n",
    "            <td>2023-01-05</td>      \n",
    "            <td>Luisa</td>      \n",
    "            <td>40.0</td>      \n",
    "            <td>9.0</td>    \n",
    "        </tr>  \n",
    "    </tbody>\n",
    "</table>"
   ]
  },
  {
   "attachments": {},
   "cell_type": "markdown",
   "metadata": {},
   "source": [
    "## Creación DataFrame a partir de un diccionario\n",
    "```[python](https://saturncloud.io/glossary/python)\n",
    "import pandas as pd\n",
    "import numpy as np\n",
    "\n",
    "# Crear un DataFrame de prueba\n",
    "data = {\n",
    "    'Fecha': pd.date_range('2023-01-01', periods = 5),\n",
    "    'Nombre': ['Juan', 'María', 'Pedro', 'Ana', 'Luisa'],\n",
    "    'Edad': [25, 30, np.nan, 35, 40],\n",
    "    'Puntuación': [8.2, 7.5, 6.9, np.nan, 9.0]\n",
    "}\n",
    "\n",
    "# Mostrar el DataFrame\n",
    "df = pd.DataFrame(data)\n",
    "\n",
    "print(df)"
   ]
  },
  {
   "attachments": {},
   "cell_type": "markdown",
   "metadata": {},
   "source": [
    "## Crear DataFrame desde un CSV, ..."
   ]
  },
  {
   "cell_type": "code",
   "execution_count": 4,
   "metadata": {},
   "outputs": [
    {
     "name": "stdout",
     "output_type": "stream",
     "text": [
      "        Fecha Nombre  Edad  Puntuación\n",
      "0  2023-01-01   Juan  25.0         8.2\n",
      "1  2023-01-02  María  30.0         7.5\n",
      "2  2023-01-03  Pedro   NaN         6.9\n",
      "3  2023-01-04    Ana  35.0         NaN\n",
      "4  2023-01-05  Luisa  40.0         9.0\n"
     ]
    }
   ],
   "source": [
    "import pandas as pd\n",
    "\n",
    "df = pd.read_csv(filepath_or_buffer = r'C:\\Users\\sergi\\Documents\\repos\\python_course\\data\\pandas_data.csv', sep = ',', index_col = False)\n",
    "\n",
    "print(df)"
   ]
  },
  {
   "attachments": {},
   "cell_type": "markdown",
   "metadata": {},
   "source": [
    "## Análisis preliminar"
   ]
  },
  {
   "cell_type": "code",
   "execution_count": 16,
   "metadata": {},
   "outputs": [
    {
     "name": "stdout",
     "output_type": "stream",
     "text": [
      "DataFrame\n",
      "        Fecha Nombre  Edad  Puntuación\n",
      "0 2023-01-01   Juan  25.0         8.2\n",
      "1 2023-01-02  María  30.0         7.5\n",
      "2 2023-01-03  Pedro   NaN         6.9\n",
      "3 2023-01-04    Ana  35.0         NaN\n",
      "4 2023-01-05  Luisa  40.0         9.0\n",
      "\n",
      "\n",
      "Describe\n",
      "                      Fecha       Edad  Puntuación\n",
      "count                    5   4.000000    4.000000\n",
      "mean   2023-01-03 00:00:00  32.500000    7.900000\n",
      "min    2023-01-01 00:00:00  25.000000    6.900000\n",
      "25%    2023-01-02 00:00:00  28.750000    7.350000\n",
      "50%    2023-01-03 00:00:00  32.500000    7.850000\n",
      "75%    2023-01-04 00:00:00  36.250000    8.400000\n",
      "max    2023-01-05 00:00:00  40.000000    9.000000\n",
      "std                    NaN   6.454972    0.905539\n",
      "\n",
      "\n",
      "Info\n",
      "\n",
      "<class 'pandas.core.frame.DataFrame'>\n",
      "RangeIndex: 5 entries, 0 to 4\n",
      "Data columns (total 4 columns):\n",
      " #   Column      Non-Null Count  Dtype         \n",
      "---  ------      --------------  -----         \n",
      " 0   Fecha       5 non-null      datetime64[ns]\n",
      " 1   Nombre      5 non-null      object        \n",
      " 2   Edad        4 non-null      float64       \n",
      " 3   Puntuación  4 non-null      float64       \n",
      "dtypes: datetime64[ns](1), float64(2), object(1)\n",
      "memory usage: 288.0+ bytes\n"
     ]
    }
   ],
   "source": [
    "import pandas as pd\n",
    "import numpy as np\n",
    "\n",
    "# Crear un DataFrame de prueba\n",
    "data = {\n",
    "    'Fecha': pd.date_range('2023-01-01', periods = 5),\n",
    "    'Nombre': ['Juan', 'María', 'Pedro', 'Ana', 'Luisa'],\n",
    "    'Edad': [25, 30, np.nan, 35, 40],\n",
    "    'Puntuación': [8.2, 7.5, 6.9, np.nan, 9.0]\n",
    "}\n",
    "\n",
    "df = pd.DataFrame(data)\n",
    "\n",
    "# Mostrar el DataFrame\n",
    "print('DataFrame\\n', df, end = '\\n' * 3)\n",
    "print('Describe\\n', df.describe(), end = '\\n' * 3)\n",
    "print('Info\\n')\n",
    "df.info()"
   ]
  },
  {
   "attachments": {},
   "cell_type": "markdown",
   "metadata": {},
   "source": [
    "## Propiedades de un DataFrame"
   ]
  },
  {
   "cell_type": "code",
   "execution_count": 25,
   "metadata": {},
   "outputs": [
    {
     "name": "stdout",
     "output_type": "stream",
     "text": [
      "DataFrame\n",
      "        Fecha Nombre  Edad  Puntuación\n",
      "0 2023-01-01   Juan  25.0         8.2\n",
      "1 2023-01-02  María  30.0         7.5\n",
      "2 2023-01-03  Pedro   NaN         6.9\n",
      "3 2023-01-04    Ana  35.0         NaN\n",
      "4 2023-01-05  Luisa  40.0         9.0\n",
      "\n",
      "\n",
      "Columns:\n",
      " Index(['Fecha', 'Nombre', 'Edad', 'Puntuación'], dtype='object')\n",
      "Index:\n",
      " RangeIndex(start=0, stop=5, step=1)\n",
      "Data:\n",
      " [[Timestamp('2023-01-01 00:00:00') 'Juan' 25.0 8.2]\n",
      " [Timestamp('2023-01-02 00:00:00') 'María' 30.0 7.5]\n",
      " [Timestamp('2023-01-03 00:00:00') 'Pedro' nan 6.9]\n",
      " [Timestamp('2023-01-04 00:00:00') 'Ana' 35.0 nan]\n",
      " [Timestamp('2023-01-05 00:00:00') 'Luisa' 40.0 9.0]]\n"
     ]
    }
   ],
   "source": [
    "import pandas as pd\n",
    "import numpy as np\n",
    "\n",
    "# Crear un DataFrame de prueba\n",
    "data = {\n",
    "    'Fecha': pd.date_range('2023-01-01', periods = 5),\n",
    "    'Nombre': ['Juan', 'María', 'Pedro', 'Ana', 'Luisa'],\n",
    "    'Edad': [25, 30, np.nan, 35, 40],\n",
    "    'Puntuación': [8.2, 7.5, 6.9, np.nan, 9.0]\n",
    "}\n",
    "\n",
    "df = pd.DataFrame(data)\n",
    "\n",
    "# Mostrar el DataFrame\n",
    "print('DataFrame\\n', df, end = '\\n' * 3)\n",
    "print(f'Columns:\\n {df.columns}')\n",
    "print(f'Index:\\n {df.index}')\n",
    "print(f'Data:\\n {df.values}')"
   ]
  },
  {
   "attachments": {},
   "cell_type": "markdown",
   "metadata": {},
   "source": [
    "## Missing values"
   ]
  },
  {
   "cell_type": "code",
   "execution_count": 54,
   "metadata": {},
   "outputs": [
    {
     "name": "stdout",
     "output_type": "stream",
     "text": [
      "       Fecha Nombre  Edad  Puntuación\n",
      "0 2023-01-01   Juan  25.0         8.2\n",
      "1 2023-01-02  María  30.0         7.5\n",
      "2 2023-01-03  Pedro   NaN         6.9\n",
      "3 2023-01-04    Ana  35.0         NaN\n",
      "4 2023-01-05  Luisa  40.0         9.0\n",
      "\n",
      "Non NAN values 5/5\n",
      "Non NAN values 5/5\n",
      "Non NAN values 4/5\n",
      "Non NAN values 4/5\n"
     ]
    }
   ],
   "source": [
    "import pandas as pd\n",
    "import numpy as np\n",
    "\n",
    "# Crear un DataFrame de prueba\n",
    "data = {\n",
    "    'Fecha': pd.date_range('2023-01-01', periods = 5),\n",
    "    'Nombre': ['Juan', 'María', 'Pedro', 'Ana', 'Luisa'],\n",
    "    'Edad': [25, 30, np.nan, 35, 40],\n",
    "    'Puntuación': [8.2, 7.5, 6.9, np.nan, 9.0]\n",
    "}\n",
    "\n",
    "df = pd.DataFrame(data)\n",
    "print(df, end = '\\n' * 2)\n",
    "\n",
    "for series in df:\n",
    "    print(f'Non NAN values {df[series].count()}/{len(df[series])}')"
   ]
  },
  {
   "attachments": {},
   "cell_type": "markdown",
   "metadata": {},
   "source": [
    "### Drop Columns with NANs"
   ]
  },
  {
   "cell_type": "code",
   "execution_count": 61,
   "metadata": {},
   "outputs": [
    {
     "data": {
      "text/html": [
       "<div>\n",
       "<style scoped>\n",
       "    .dataframe tbody tr th:only-of-type {\n",
       "        vertical-align: middle;\n",
       "    }\n",
       "\n",
       "    .dataframe tbody tr th {\n",
       "        vertical-align: top;\n",
       "    }\n",
       "\n",
       "    .dataframe thead th {\n",
       "        text-align: right;\n",
       "    }\n",
       "</style>\n",
       "<table border=\"1\" class=\"dataframe\">\n",
       "  <thead>\n",
       "    <tr style=\"text-align: right;\">\n",
       "      <th></th>\n",
       "      <th>Fecha</th>\n",
       "      <th>Nombre</th>\n",
       "    </tr>\n",
       "  </thead>\n",
       "  <tbody>\n",
       "    <tr>\n",
       "      <th>0</th>\n",
       "      <td>2023-01-01</td>\n",
       "      <td>Juan</td>\n",
       "    </tr>\n",
       "    <tr>\n",
       "      <th>1</th>\n",
       "      <td>2023-01-02</td>\n",
       "      <td>María</td>\n",
       "    </tr>\n",
       "    <tr>\n",
       "      <th>2</th>\n",
       "      <td>2023-01-03</td>\n",
       "      <td>Pedro</td>\n",
       "    </tr>\n",
       "    <tr>\n",
       "      <th>3</th>\n",
       "      <td>2023-01-04</td>\n",
       "      <td>Ana</td>\n",
       "    </tr>\n",
       "    <tr>\n",
       "      <th>4</th>\n",
       "      <td>2023-01-05</td>\n",
       "      <td>Luisa</td>\n",
       "    </tr>\n",
       "  </tbody>\n",
       "</table>\n",
       "</div>"
      ],
      "text/plain": [
       "       Fecha Nombre\n",
       "0 2023-01-01   Juan\n",
       "1 2023-01-02  María\n",
       "2 2023-01-03  Pedro\n",
       "3 2023-01-04    Ana\n",
       "4 2023-01-05  Luisa"
      ]
     },
     "execution_count": 61,
     "metadata": {},
     "output_type": "execute_result"
    }
   ],
   "source": [
    "df.dropna(axis = 1)"
   ]
  },
  {
   "attachments": {},
   "cell_type": "markdown",
   "metadata": {},
   "source": [
    "### Drop Rows with NANs"
   ]
  },
  {
   "cell_type": "code",
   "execution_count": 60,
   "metadata": {},
   "outputs": [
    {
     "data": {
      "text/html": [
       "<div>\n",
       "<style scoped>\n",
       "    .dataframe tbody tr th:only-of-type {\n",
       "        vertical-align: middle;\n",
       "    }\n",
       "\n",
       "    .dataframe tbody tr th {\n",
       "        vertical-align: top;\n",
       "    }\n",
       "\n",
       "    .dataframe thead th {\n",
       "        text-align: right;\n",
       "    }\n",
       "</style>\n",
       "<table border=\"1\" class=\"dataframe\">\n",
       "  <thead>\n",
       "    <tr style=\"text-align: right;\">\n",
       "      <th></th>\n",
       "      <th>Fecha</th>\n",
       "      <th>Nombre</th>\n",
       "      <th>Edad</th>\n",
       "      <th>Puntuación</th>\n",
       "    </tr>\n",
       "  </thead>\n",
       "  <tbody>\n",
       "    <tr>\n",
       "      <th>0</th>\n",
       "      <td>2023-01-01</td>\n",
       "      <td>Juan</td>\n",
       "      <td>25.0</td>\n",
       "      <td>8.2</td>\n",
       "    </tr>\n",
       "    <tr>\n",
       "      <th>1</th>\n",
       "      <td>2023-01-02</td>\n",
       "      <td>María</td>\n",
       "      <td>30.0</td>\n",
       "      <td>7.5</td>\n",
       "    </tr>\n",
       "    <tr>\n",
       "      <th>4</th>\n",
       "      <td>2023-01-05</td>\n",
       "      <td>Luisa</td>\n",
       "      <td>40.0</td>\n",
       "      <td>9.0</td>\n",
       "    </tr>\n",
       "  </tbody>\n",
       "</table>\n",
       "</div>"
      ],
      "text/plain": [
       "       Fecha Nombre  Edad  Puntuación\n",
       "0 2023-01-01   Juan  25.0         8.2\n",
       "1 2023-01-02  María  30.0         7.5\n",
       "4 2023-01-05  Luisa  40.0         9.0"
      ]
     },
     "execution_count": 60,
     "metadata": {},
     "output_type": "execute_result"
    }
   ],
   "source": [
    "df.dropna(axis = 0)"
   ]
  },
  {
   "attachments": {},
   "cell_type": "markdown",
   "metadata": {},
   "source": [
    "### Data Imputation (constant)"
   ]
  },
  {
   "cell_type": "code",
   "execution_count": 68,
   "metadata": {},
   "outputs": [
    {
     "data": {
      "text/html": [
       "<div>\n",
       "<style scoped>\n",
       "    .dataframe tbody tr th:only-of-type {\n",
       "        vertical-align: middle;\n",
       "    }\n",
       "\n",
       "    .dataframe tbody tr th {\n",
       "        vertical-align: top;\n",
       "    }\n",
       "\n",
       "    .dataframe thead th {\n",
       "        text-align: right;\n",
       "    }\n",
       "</style>\n",
       "<table border=\"1\" class=\"dataframe\">\n",
       "  <thead>\n",
       "    <tr style=\"text-align: right;\">\n",
       "      <th></th>\n",
       "      <th>A</th>\n",
       "      <th>B</th>\n",
       "      <th>C</th>\n",
       "      <th>D</th>\n",
       "    </tr>\n",
       "  </thead>\n",
       "  <tbody>\n",
       "    <tr>\n",
       "      <th>0</th>\n",
       "      <td>-11.0</td>\n",
       "      <td>2.0</td>\n",
       "      <td>-11.0</td>\n",
       "      <td>0.0</td>\n",
       "    </tr>\n",
       "    <tr>\n",
       "      <th>1</th>\n",
       "      <td>3.0</td>\n",
       "      <td>4.0</td>\n",
       "      <td>-11.0</td>\n",
       "      <td>1.0</td>\n",
       "    </tr>\n",
       "    <tr>\n",
       "      <th>2</th>\n",
       "      <td>-11.0</td>\n",
       "      <td>-11.0</td>\n",
       "      <td>-11.0</td>\n",
       "      <td>-11.0</td>\n",
       "    </tr>\n",
       "    <tr>\n",
       "      <th>3</th>\n",
       "      <td>-11.0</td>\n",
       "      <td>3.0</td>\n",
       "      <td>-11.0</td>\n",
       "      <td>4.0</td>\n",
       "    </tr>\n",
       "  </tbody>\n",
       "</table>\n",
       "</div>"
      ],
      "text/plain": [
       "      A     B     C     D\n",
       "0 -11.0   2.0 -11.0   0.0\n",
       "1   3.0   4.0 -11.0   1.0\n",
       "2 -11.0 -11.0 -11.0 -11.0\n",
       "3 -11.0   3.0 -11.0   4.0"
      ]
     },
     "execution_count": 68,
     "metadata": {},
     "output_type": "execute_result"
    }
   ],
   "source": [
    "df = pd.DataFrame([[np.nan, 2, np.nan, 0],\n",
    "                   [3, 4, np.nan, 1],\n",
    "                   [np.nan, np.nan, np.nan, np.nan],\n",
    "                   [np.nan, 3, np.nan, 4]],\n",
    "                  columns=list(\"ABCD\"))\n",
    "\n",
    "df.fillna(value = -11)"
   ]
  },
  {
   "attachments": {},
   "cell_type": "markdown",
   "metadata": {},
   "source": [
    "### Data Imputation (statistic value)"
   ]
  },
  {
   "cell_type": "code",
   "execution_count": 71,
   "metadata": {},
   "outputs": [
    {
     "data": {
      "text/html": [
       "<div>\n",
       "<style scoped>\n",
       "    .dataframe tbody tr th:only-of-type {\n",
       "        vertical-align: middle;\n",
       "    }\n",
       "\n",
       "    .dataframe tbody tr th {\n",
       "        vertical-align: top;\n",
       "    }\n",
       "\n",
       "    .dataframe thead th {\n",
       "        text-align: right;\n",
       "    }\n",
       "</style>\n",
       "<table border=\"1\" class=\"dataframe\">\n",
       "  <thead>\n",
       "    <tr style=\"text-align: right;\">\n",
       "      <th></th>\n",
       "      <th>A</th>\n",
       "      <th>B</th>\n",
       "      <th>C</th>\n",
       "      <th>D</th>\n",
       "    </tr>\n",
       "  </thead>\n",
       "  <tbody>\n",
       "    <tr>\n",
       "      <th>0</th>\n",
       "      <td>3.0</td>\n",
       "      <td>2.0</td>\n",
       "      <td>NaN</td>\n",
       "      <td>0.000000</td>\n",
       "    </tr>\n",
       "    <tr>\n",
       "      <th>1</th>\n",
       "      <td>3.0</td>\n",
       "      <td>4.0</td>\n",
       "      <td>NaN</td>\n",
       "      <td>1.000000</td>\n",
       "    </tr>\n",
       "    <tr>\n",
       "      <th>2</th>\n",
       "      <td>3.0</td>\n",
       "      <td>3.0</td>\n",
       "      <td>NaN</td>\n",
       "      <td>1.666667</td>\n",
       "    </tr>\n",
       "    <tr>\n",
       "      <th>3</th>\n",
       "      <td>3.0</td>\n",
       "      <td>3.0</td>\n",
       "      <td>NaN</td>\n",
       "      <td>4.000000</td>\n",
       "    </tr>\n",
       "  </tbody>\n",
       "</table>\n",
       "</div>"
      ],
      "text/plain": [
       "     A    B   C         D\n",
       "0  3.0  2.0 NaN  0.000000\n",
       "1  3.0  4.0 NaN  1.000000\n",
       "2  3.0  3.0 NaN  1.666667\n",
       "3  3.0  3.0 NaN  4.000000"
      ]
     },
     "execution_count": 71,
     "metadata": {},
     "output_type": "execute_result"
    }
   ],
   "source": [
    "df = pd.DataFrame([[np.nan, 2, np.nan, 0],\n",
    "                   [3, 4, np.nan, 1],\n",
    "                   [np.nan, np.nan, np.nan, np.nan],\n",
    "                   [np.nan, 3, np.nan, 4]],\n",
    "                  columns=list(\"ABCD\"))\n",
    "\n",
    "df.fillna(value = df.mean())"
   ]
  },
  {
   "attachments": {},
   "cell_type": "markdown",
   "metadata": {},
   "source": [
    "## Plots Básicos"
   ]
  },
  {
   "attachments": {},
   "cell_type": "markdown",
   "metadata": {},
   "source": [
    "### Line"
   ]
  },
  {
   "cell_type": "code",
   "execution_count": 34,
   "metadata": {},
   "outputs": [
    {
     "data": {
      "text/plain": [
       "Text(0.5, 1.0, 'Edades del DataFrame')"
      ]
     },
     "execution_count": 34,
     "metadata": {},
     "output_type": "execute_result"
    },
    {
     "data": {
      "image/png": "[encoded data removed]",
      "text/plain": [
       "<Figure size 640x480 with 1 Axes>"
      ]
     },
     "metadata": {},
     "output_type": "display_data"
    }
   ],
   "source": [
    "import pandas as pd\n",
    "import numpy as np\n",
    "import matplotlib.pyplot as plt\n",
    "\n",
    "# Crear un DataFrame de prueba\n",
    "data = {\n",
    "    'Fecha': pd.date_range('2023-01-01', periods = 5),\n",
    "    'Nombre': ['Juan', 'María', 'Pedro', 'Ana', 'Luisa'],\n",
    "    'Edad': [25, 30, np.nan, 35, 40],\n",
    "    'Puntuación': [8.2, 7.5, 6.9, np.nan, 9.0]\n",
    "}\n",
    "\n",
    "df = pd.DataFrame(data)\n",
    "df.Edad.plot()\n",
    "\n",
    "plt.xlabel('Valores')\n",
    "plt.ylabel('Edades')\n",
    "plt.title('Edades del DataFrame')"
   ]
  },
  {
   "attachments": {},
   "cell_type": "markdown",
   "metadata": {},
   "source": [
    "### Scatter"
   ]
  },
  {
   "cell_type": "code",
   "execution_count": 40,
   "metadata": {},
   "outputs": [
    {
     "data": {
      "text/plain": [
       "Text(0.5, 1.0, 'Puntuación por Edad')"
      ]
     },
     "execution_count": 40,
     "metadata": {},
     "output_type": "execute_result"
    },
    {
     "data": {
      "image/png": "[encoded data removed]",
      "text/plain": [
       "<Figure size 640x480 with 1 Axes>"
      ]
     },
     "metadata": {},
     "output_type": "display_data"
    }
   ],
   "source": [
    "import pandas as pd\n",
    "import numpy as np\n",
    "import matplotlib.pyplot as plt\n",
    "\n",
    "# Crear un DataFrame de prueba\n",
    "data = {\n",
    "    'Fecha': pd.date_range('2023-01-01', periods = 5),\n",
    "    'Nombre': ['Juan', 'María', 'Pedro', 'Ana', 'Luisa'],\n",
    "    'Edad': [25, 30, np.nan, 35, 40],\n",
    "    'Puntuación': [8.2, 7.5, 6.9, np.nan, 9.0]\n",
    "}\n",
    "\n",
    "df = pd.DataFrame(data)\n",
    "df.plot(x = 'Edad', y = 'Puntuación', kind='scatter')\n",
    "\n",
    "plt.xlabel('Edad')\n",
    "plt.ylabel('Puntuación')\n",
    "plt.title('Puntuación por Edad')"
   ]
  },
  {
   "attachments": {},
   "cell_type": "markdown",
   "metadata": {},
   "source": [
    "### Hexagonal"
   ]
  },
  {
   "cell_type": "code",
   "execution_count": 44,
   "metadata": {},
   "outputs": [
    {
     "data": {
      "image/png": "[encoded data removed]",
      "text/plain": [
       "<Figure size 640x480 with 2 Axes>"
      ]
     },
     "metadata": {},
     "output_type": "display_data"
    }
   ],
   "source": [
    "import pandas as pd\n",
    "import numpy as np\n",
    "\n",
    "df = pd.DataFrame(np.random.randn(1000, 2), columns=[\"a\", \"b\"])\n",
    "df[\"b\"] = df[\"b\"] + np.arange(1000)\n",
    "df.plot.hexbin(x=\"a\", y=\"b\", gridsize=30);"
   ]
  },
  {
   "attachments": {},
   "cell_type": "markdown",
   "metadata": {},
   "source": [
    "## Full Example | Titanic Passegers\n",
    "\n",
    "https://www.kaggle.com/code/furkankzlay/fk-titanic-eda"
   ]
  }
 ],
 "metadata": {
  "kernelspec": {
   "display_name": "course-venv",
   "language": "python",
   "name": "python3"
  },
  "language_info": {
   "codemirror_mode": {
    "name": "ipython",
    "version": 3
   },
   "file_extension": ".py",
   "mimetype": "text/x-python",
   "name": "python",
   "nbconvert_exporter": "python",
   "pygments_lexer": "ipython3",
   "version": "3.10.11"
  },
  "orig_nbformat": 4
 },
 "nbformat": 4,
 "nbformat_minor": 2
}
