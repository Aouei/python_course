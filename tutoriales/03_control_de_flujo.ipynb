{
 "cells": [
  {
   "cell_type": "markdown",
   "metadata": {},
   "source": [
    "# Control de flujo"
   ]
  },
  {
   "cell_type": "markdown",
   "metadata": {},
   "source": [
    "## Estructura **if-elif-else**"
   ]
  },
  {
   "cell_type": "markdown",
   "metadata": {},
   "source": [
    "Normalmente, nuestro código se ejecuta de arriba a abajo linea por linea o sentencia por sentencia. <br>\n",
    "Sin embargo, a veces es necesario ejecutar partes de nuestro código bajo ciertas condiciones. <br>\n",
    "De esta forma conseguimos que algunas partes que no deben de ejecutarse siempre no se ejecuten.\n",
    "\n",
    "La sintaxis es: <br>\n",
    "- if condition: <br>\n",
    "    - code <br>\n",
    "- elif condition: <br>\n",
    "    - code <br>\n",
    "- else: <br>\n",
    "    - code <br>\n",
    "\n",
    "Algunos ejemplos son:\n",
    "- No ejecutar un código si los datos introducidos no son válidos.\n",
    "- Si un dato tiene un valor concreto, ejecutar una sección del código concreta."
   ]
  },
  {
   "cell_type": "markdown",
   "metadata": {},
   "source": [
    "### Ejemplo 1 | if\n",
    "\n",
    "Si un dato está entre 0 y 10 lo elevamos al cuadrado. En otro caso nada."
   ]
  },
  {
   "cell_type": "code",
   "execution_count": 1,
   "metadata": {},
   "outputs": [
    {
     "data": {
      "text/plain": [
       "-1"
      ]
     },
     "execution_count": 1,
     "metadata": {},
     "output_type": "execute_result"
    }
   ],
   "source": [
    "n : int = -1\n",
    "\n",
    "if 0 <= n <= 10:\n",
    "    n = n ** 2\n",
    "\n",
    "n"
   ]
  },
  {
   "cell_type": "code",
   "execution_count": 2,
   "metadata": {},
   "outputs": [
    {
     "data": {
      "text/plain": [
       "9"
      ]
     },
     "execution_count": 2,
     "metadata": {},
     "output_type": "execute_result"
    }
   ],
   "source": [
    "n : int = 3\n",
    "\n",
    "if 0 <= n <= 10:\n",
    "    n = n ** 2\n",
    "\n",
    "n"
   ]
  },
  {
   "cell_type": "markdown",
   "metadata": {},
   "source": [
    "### Ejemplo 2 | if-else\n",
    "\n",
    "Si un dato está entre 0 y 10 lo elevamos al cuadrado. En otro caso al cubo."
   ]
  },
  {
   "cell_type": "code",
   "execution_count": 3,
   "metadata": {},
   "outputs": [
    {
     "data": {
      "text/plain": [
       "-8"
      ]
     },
     "execution_count": 3,
     "metadata": {},
     "output_type": "execute_result"
    }
   ],
   "source": [
    "n : int = -2\n",
    "\n",
    "if 0 <= n <= 10:\n",
    "    n = n ** 2\n",
    "else:\n",
    "    n **= 3\n",
    "\n",
    "n"
   ]
  },
  {
   "cell_type": "code",
   "execution_count": 4,
   "metadata": {},
   "outputs": [
    {
     "data": {
      "text/plain": [
       "9"
      ]
     },
     "execution_count": 4,
     "metadata": {},
     "output_type": "execute_result"
    }
   ],
   "source": [
    "n : int = 3\n",
    "\n",
    "if 0 <= n <= 10:\n",
    "    n = n ** 2\n",
    "else:\n",
    "    n **= 3\n",
    "\n",
    "n"
   ]
  },
  {
   "cell_type": "markdown",
   "metadata": {},
   "source": [
    "### Ejemplo 3 | if-elif-else\n",
    "\n",
    "Si una lista está vacía, creamos una lista con un elemento cualquiera. <br>\n",
    "Si no esta vacía y contiene solo el numero 1, vaciamos la lista. <br>\n",
    "En otro caso creamos una lista con los numeros desde el 0 hasta el 9. <br>"
   ]
  },
  {
   "cell_type": "code",
   "execution_count": 5,
   "metadata": {},
   "outputs": [
    {
     "data": {
      "text/plain": [
       "[1]"
      ]
     },
     "execution_count": 5,
     "metadata": {},
     "output_type": "execute_result"
    }
   ],
   "source": [
    "lista : list = []\n",
    "\n",
    "if lista == []:\n",
    "    lista = [1]\n",
    "elif lista == [1]:\n",
    "    lista = []\n",
    "else:\n",
    "    lista = [0, 1, 2, 3, 4, 5, 6, 7, 8, 9]\n",
    "\n",
    "lista"
   ]
  },
  {
   "cell_type": "code",
   "execution_count": 6,
   "metadata": {},
   "outputs": [
    {
     "data": {
      "text/plain": [
       "[]"
      ]
     },
     "execution_count": 6,
     "metadata": {},
     "output_type": "execute_result"
    }
   ],
   "source": [
    "lista : list = [1]\n",
    "\n",
    "if lista == []:\n",
    "    lista = [1]\n",
    "elif lista == [1]:\n",
    "    lista = []\n",
    "else:\n",
    "    lista = [0, 1, 2, 3, 4, 5, 6, 7, 8, 9]\n",
    "\n",
    "lista"
   ]
  },
  {
   "cell_type": "code",
   "execution_count": 7,
   "metadata": {},
   "outputs": [
    {
     "data": {
      "text/plain": [
       "[0, 1, 2, 3, 4, 5, 6, 7, 8, 9]"
      ]
     },
     "execution_count": 7,
     "metadata": {},
     "output_type": "execute_result"
    }
   ],
   "source": [
    "lista : list = [2]\n",
    "\n",
    "if lista == []:\n",
    "    lista = [1]\n",
    "elif lista == [1]:\n",
    "    lista = []\n",
    "else:\n",
    "    lista = [0, 1, 2, 3, 4, 5, 6, 7, 8, 9]\n",
    "\n",
    "lista"
   ]
  },
  {
   "cell_type": "markdown",
   "metadata": {},
   "source": [
    "### Ejemplo 4 | Combinación de condiciones\n",
    "\n",
    "Este ejempo muetra un caso en el que necesitamos **anidar** varias condiciones (estructura if-elif-else). <br>\n",
    "Además, debemos usar operaciones (and, or, not) cuando tenemos 2 o más condiciones dentro de un if o de un elif.\n",
    "\n",
    "- Si un número es menor que 100\n",
    "    - Si es par **y** multiplo de 5 entonces lo elevamos al cuadrado. <br>\n",
    "    - Si es multiplo de 3 le restamos 3. <br>\n",
    "    - En otro caso le cambiamos el signo.\n",
    "- Si es mayor que 100 pero menor que 1000\n",
    "    - Si es impar lo multiplicamos por 2\n",
    "    - En otro caso no hacemos nada\n",
    "- En otro caso no hacemos nada"
   ]
  },
  {
   "cell_type": "code",
   "execution_count": 8,
   "metadata": {},
   "outputs": [
    {
     "data": {
      "text/plain": [
       "8"
      ]
     },
     "execution_count": 8,
     "metadata": {},
     "output_type": "execute_result"
    }
   ],
   "source": [
    "numero : int = 11\n",
    "\n",
    "if numero < 100:\n",
    "    if numero % 2 == 0 and numero % 5 == 0:\n",
    "        numero = numero ** 2\n",
    "    elif numero % 3:\n",
    "        numero -= 3\n",
    "    else:\n",
    "        numero = -numero\n",
    "elif 100 < numero < 1000:\n",
    "    if numero % 2 == 0:\n",
    "        numero *= 2\n",
    "    \n",
    "numero"
   ]
  },
  {
   "cell_type": "code",
   "execution_count": 9,
   "metadata": {},
   "outputs": [
    {
     "data": {
      "text/plain": [
       "-12"
      ]
     },
     "execution_count": 9,
     "metadata": {},
     "output_type": "execute_result"
    }
   ],
   "source": [
    "numero : int = 12\n",
    "\n",
    "if numero < 100:\n",
    "    if numero % 2 == 0 and numero % 5 == 0:\n",
    "        numero = numero ** 2\n",
    "    elif numero % 3:\n",
    "        numero -= 3\n",
    "    else:\n",
    "        numero = -numero\n",
    "elif 100 < numero < 1000:\n",
    "    if numero % 2 == 0:\n",
    "        numero *= 2\n",
    "    \n",
    "numero"
   ]
  },
  {
   "cell_type": "code",
   "execution_count": 10,
   "metadata": {},
   "outputs": [
    {
     "data": {
      "text/plain": [
       "100"
      ]
     },
     "execution_count": 10,
     "metadata": {},
     "output_type": "execute_result"
    }
   ],
   "source": [
    "numero : int = 10\n",
    "\n",
    "if numero < 100:\n",
    "    if numero % 2 == 0 and numero % 5 == 0:\n",
    "        numero = numero ** 2\n",
    "    elif numero % 3:\n",
    "        numero -= 3\n",
    "    else:\n",
    "        numero = -numero\n",
    "elif 100 < numero < 1000:\n",
    "    if numero % 2 == 0:\n",
    "        numero *= 2\n",
    "    \n",
    "numero"
   ]
  },
  {
   "cell_type": "markdown",
   "metadata": {},
   "source": [
    "### Ejercicios\n",
    "\n",
    "- Usa la estructura if-elif-else con otros tipos de datos con y sin operadores de comparación"
   ]
  },
  {
   "cell_type": "markdown",
   "metadata": {},
   "source": [
    "## Estructuras **while** y **for**"
   ]
  },
  {
   "cell_type": "markdown",
   "metadata": {},
   "source": [
    "En la sección anterior comentamos que nuestro código normalmente se ejecuta en secuencial de arriba a abajo. <br>\n",
    "Decíamos que con la estructura if-elif-else podemos controlar qué partes de nuestro código se ejecutan según una serie de condiciones.\n",
    "\n",
    "En otras ocasiones necesitamos ejecutar varias veces un mismo bloque de código. Sin embargo, es muy engorroso escribir una y otra vez lo mismo.\n",
    "\n",
    "Cuando lo que nuestro código hace no cambia, es decir, las líneas de código son las mismas pero tenemos que ejecutarlas varias veces usamos los **bucles**.\n",
    "\n",
    "Cuando sabemos cuántas veces ejecutaremos una misma sección de código, usamos el **bucle for**. \n",
    "\n",
    "Este en python funciona recorriendo una variable **iterable**. Es decir, podemos leer cada elemento de la misma sin necesidad de indicar qué elemento queremos leer. <br>\n",
    "\n",
    "El bucle for indica por nosotros que queremos leer el siguiente elemento en caso de haber más. Independientemente de cual sea ese elemento.\n",
    "\n",
    "Sintaxis:\n",
    "- for element in iterable:\n",
    "    - code\n",
    "- else:\n",
    "    - code\n",
    "\n",
    "\n",
    "\n",
    "Cuando no sabemos cuántas veces ejecutaremos una misma sección de código, usamos el **bucle while**.\n",
    "\n",
    "En este indicamos una condición y mientras se cumpla dicha condición, el bucle ejecutará lo que haya dentro del mismo.\n",
    "\n",
    "Sintaxis:\n",
    "- while condition:\n",
    "    - code\n",
    "- else:\n",
    "    - code\n",
    "\n",
    "**NOTA:**<br>\n",
    "En la sintaxis vemos que hay una parte adicional **else**. Esta parte es opcional y sirve para ejecutar una porción de código después de que el bucle termine. <br>\n",
    "Solo se ejecuta esta parte si el bucle finalizó sin problemas. Es decir, no ocurrió ningún error que pare la ejecución del mismo de forma inesperada."
   ]
  },
  {
   "cell_type": "markdown",
   "metadata": {},
   "source": [
    "### Ejemplo 1 | for\n",
    "\n",
    "Obtener la suma de los elementos de una lista"
   ]
  },
  {
   "cell_type": "code",
   "execution_count": 11,
   "metadata": {},
   "outputs": [
    {
     "data": {
      "text/plain": [
       "45"
      ]
     },
     "execution_count": 11,
     "metadata": {},
     "output_type": "execute_result"
    }
   ],
   "source": [
    "suma : int = 0\n",
    "\n",
    "for i in [0, 1, 2, 3, 4, 5, 6, 7, 8, 9]:\n",
    "    suma += i\n",
    "\n",
    "suma"
   ]
  },
  {
   "cell_type": "markdown",
   "metadata": {},
   "source": [
    "Obtener claves de un diccionario"
   ]
  },
  {
   "cell_type": "code",
   "execution_count": 12,
   "metadata": {},
   "outputs": [
    {
     "data": {
      "text/plain": [
       "['a', 'b', 'c', 'd', 'e']"
      ]
     },
     "execution_count": 12,
     "metadata": {},
     "output_type": "execute_result"
    }
   ],
   "source": [
    "claves : list = []\n",
    "\n",
    "for key in {'a' : 1, 'b' : 2, 'c' : 3, 'd' : 4, 'e' : 5}:\n",
    "    claves += [key]\n",
    "\n",
    "claves"
   ]
  },
  {
   "cell_type": "markdown",
   "metadata": {},
   "source": [
    "### Ejemplo 2 | for con condicionales\n",
    "\n",
    "Obtener la suma de los elementos pares, los múltiplos de 3 y los impares en 3 variables separadas, de una lista."
   ]
  },
  {
   "cell_type": "code",
   "execution_count": 13,
   "metadata": {},
   "outputs": [
    {
     "data": {
      "text/plain": [
       "(20, 18, 25)"
      ]
     },
     "execution_count": 13,
     "metadata": {},
     "output_type": "execute_result"
    }
   ],
   "source": [
    "suma_pares : int = 0\n",
    "suma_multiplos_3 : int = 0\n",
    "suma_impares : int = 0\n",
    "\n",
    "for i in [0, 1, 2, 3, 4, 5, 6, 7, 8, 9]:\n",
    "    if i % 2 == 0:\n",
    "        suma_pares += i\n",
    "    else:\n",
    "        suma_impares += i\n",
    "    if i % 3 == 0:\n",
    "        suma_multiplos_3 += i\n",
    "        \n",
    "suma_pares, suma_multiplos_3, suma_impares"
   ]
  },
  {
   "cell_type": "markdown",
   "metadata": {},
   "source": [
    "### Ejemplo 3 | for con bucles anidados\n",
    "\n",
    "Dada una lista de palabras, generar una lista indicando el número de letras tiene cada palabra"
   ]
  },
  {
   "cell_type": "code",
   "execution_count": 14,
   "metadata": {},
   "outputs": [
    {
     "data": {
      "text/plain": [
       "[('hola', 4), ('mundo', 5), ('arbol', 5), ('cigüeña', 7)]"
      ]
     },
     "execution_count": 14,
     "metadata": {},
     "output_type": "execute_result"
    }
   ],
   "source": [
    "numero_letras_por_palabra : list = []\n",
    "\n",
    "for palabra in ['hola', 'mundo', 'arbol', 'cigüeña']:\n",
    "    numero_caracteres = 0\n",
    "    for caracter in palabra:\n",
    "        numero_caracteres += 1\n",
    "    else:\n",
    "        numero_letras_por_palabra += [(palabra, numero_caracteres)]\n",
    "    \n",
    "numero_letras_por_palabra"
   ]
  },
  {
   "cell_type": "markdown",
   "metadata": {},
   "source": [
    "### Ejemplo 4 | while\n",
    "\n",
    "Dado un número:\n",
    "- Si es par, lo elevamos al cuadrado y sumamos 1\n",
    "- Si es impar, lo dividimos entre 3 y multiplicamos por 2\n",
    "\n",
    "Repetir la operación mientras el número sea menor que 100 y el número de veces que se realiza la operación de arriba es menor que 10"
   ]
  },
  {
   "cell_type": "code",
   "execution_count": 15,
   "metadata": {},
   "outputs": [
    {
     "data": {
      "text/plain": [
       "2"
      ]
     },
     "execution_count": 15,
     "metadata": {},
     "output_type": "execute_result"
    }
   ],
   "source": [
    "numero : int = 2\n",
    "iteraciones : int = 0\n",
    "\n",
    "while numero < 100 and iteraciones < 10:\n",
    "    if numero % 2 == 0:\n",
    "        numero = (numero ** 2) + 1\n",
    "    else:\n",
    "        numero = (numero // 3) * 2\n",
    "\n",
    "    iteraciones += 1\n",
    "else:\n",
    "    iteraciones = 0\n",
    "\n",
    "numero"
   ]
  },
  {
   "cell_type": "code",
   "execution_count": 16,
   "metadata": {},
   "outputs": [
    {
     "data": {
      "text/plain": [
       "5"
      ]
     },
     "execution_count": 16,
     "metadata": {},
     "output_type": "execute_result"
    }
   ],
   "source": [
    "numero : int = 3\n",
    "iteraciones : int = 0\n",
    "\n",
    "while numero < 100 and iteraciones < 10:\n",
    "    if numero % 2 == 0:\n",
    "        numero = (numero ** 2) + 1\n",
    "    else:\n",
    "        numero = (numero // 3) * 2\n",
    "        \n",
    "    iteraciones += 1\n",
    "else:\n",
    "    iteraciones = 0\n",
    "\n",
    "numero"
   ]
  },
  {
   "cell_type": "markdown",
   "metadata": {},
   "source": [
    "### Compresión de listas (Avanzado)\n",
    "\n",
    "De normal, escribir un bucle for es una estructura lenta. <br>\n",
    "A veces interesa más usar compresión de listas que equivale a un bucle for.\n",
    "\n",
    "La sintaxis normal es:\n",
    "- [item for item in iterable] -> Genera una lista\n",
    "- {key : value for item in iterable} -> Genera un diccionario\n",
    "- (item for item in iterable) -> Podemos pensar que esto genera una tupla pero NO!!!. Genera un tipo de dato especial llamado **generador**. Es un elemento iterable, pero no está no está específicamente almacenado en memoria por lo que no podemos acceder directamente a un dato concreto. Tenemos que recorrer y cada dato se irá generando."
   ]
  },
  {
   "cell_type": "markdown",
   "metadata": {},
   "source": [
    "Sin compresión listas"
   ]
  },
  {
   "cell_type": "code",
   "execution_count": 17,
   "metadata": {},
   "outputs": [
    {
     "data": {
      "text/plain": [
       "[0, 1, 4, 9, 16, 25, 36, 49, 64, 81]"
      ]
     },
     "execution_count": 17,
     "metadata": {},
     "output_type": "execute_result"
    }
   ],
   "source": [
    "lista : list = []\n",
    "for i in range(10):\n",
    "    lista.append(i ** 2)\n",
    "\n",
    "lista"
   ]
  },
  {
   "cell_type": "code",
   "execution_count": 18,
   "metadata": {},
   "outputs": [
    {
     "data": {
      "text/plain": [
       "{0: 0,\n",
       " 1: 1,\n",
       " 4: 64,\n",
       " 9: 729,\n",
       " 16: 4096,\n",
       " 25: 15625,\n",
       " 36: 46656,\n",
       " 49: 117649,\n",
       " 64: 262144,\n",
       " 81: 531441}"
      ]
     },
     "execution_count": 18,
     "metadata": {},
     "output_type": "execute_result"
    }
   ],
   "source": [
    "diccionario : dict = {}\n",
    "for i in lista:\n",
    "    diccionario[i] = i ** 3\n",
    "\n",
    "diccionario"
   ]
  },
  {
   "cell_type": "markdown",
   "metadata": {},
   "source": [
    "Con compresión de listas"
   ]
  },
  {
   "cell_type": "code",
   "execution_count": 19,
   "metadata": {},
   "outputs": [
    {
     "data": {
      "text/plain": [
       "[0, 1, 4, 9, 16, 25, 36, 49, 64, 81]"
      ]
     },
     "execution_count": 19,
     "metadata": {},
     "output_type": "execute_result"
    }
   ],
   "source": [
    "lista : list = [i ** 2 for i in range(10)]\n",
    "\n",
    "lista"
   ]
  },
  {
   "cell_type": "code",
   "execution_count": 20,
   "metadata": {},
   "outputs": [
    {
     "data": {
      "text/plain": [
       "{0: 0,\n",
       " 1: 1,\n",
       " 4: 64,\n",
       " 9: 729,\n",
       " 16: 4096,\n",
       " 25: 15625,\n",
       " 36: 46656,\n",
       " 49: 117649,\n",
       " 64: 262144,\n",
       " 81: 531441}"
      ]
     },
     "execution_count": 20,
     "metadata": {},
     "output_type": "execute_result"
    }
   ],
   "source": [
    "diccionario : dict = {i : i ** 3 for i in lista}\n",
    "\n",
    "diccionario"
   ]
  },
  {
   "cell_type": "markdown",
   "metadata": {},
   "source": [
    "#### Rizando el rizo\n",
    "\n",
    "Como todo, mejor no abusar, pero al igual que los bucles se pueden anidar y escribir un bucle dentro de un bucle, podemos hacer los mismo con la compresión de listas."
   ]
  },
  {
   "cell_type": "markdown",
   "metadata": {},
   "source": [
    "Sin compresión de listas"
   ]
  },
  {
   "cell_type": "code",
   "execution_count": 21,
   "metadata": {},
   "outputs": [
    {
     "data": {
      "text/plain": [
       "[[0, 0, 0], [0, 0, 0], [0, 0, 0]]"
      ]
     },
     "execution_count": 21,
     "metadata": {},
     "output_type": "execute_result"
    }
   ],
   "source": [
    "matriz : list = []\n",
    "\n",
    "for i in range(3):\n",
    "    row = []\n",
    "    for j in range(3):\n",
    "        row += [0]\n",
    "    matriz += [row]\n",
    "\n",
    "matriz"
   ]
  },
  {
   "cell_type": "markdown",
   "metadata": {},
   "source": [
    "Con compresión de listas"
   ]
  },
  {
   "cell_type": "code",
   "execution_count": 22,
   "metadata": {},
   "outputs": [
    {
     "data": {
      "text/plain": [
       "[[1, 2, 3], [4, 5, 6], [7, 8, 9]]"
      ]
     },
     "execution_count": 22,
     "metadata": {},
     "output_type": "execute_result"
    }
   ],
   "source": [
    "matriz : list = [[j + 1 + i * 3 for j in range(3)] for i in range(3)]\n",
    "\n",
    "matriz"
   ]
  },
  {
   "cell_type": "markdown",
   "metadata": {},
   "source": [
    "### Ejercicios\n",
    "\n",
    "- Dada una lista de números cualquiera\n",
    "    - Crea una lista nueva con los números impares de la misma\n",
    "    - Crea una lista nueva con los números pares de la misma\n",
    "    - Crea una lista con todos números que sea distintos (que no se repitan)\n",
    "- Dado un string, sustituye las minúsculas por mayúsculas"
   ]
  },
  {
   "cell_type": "markdown",
   "metadata": {},
   "source": [
    "## Estructura **try-except-else-finally**"
   ]
  },
  {
   "cell_type": "markdown",
   "metadata": {},
   "source": [
    "En informática existen al menos 3 tipos de errores básicos:\n",
    "- **Error sintáxtico**: No hemos escrito bien alguna parte del código según lo requiere nuestro lenguaje.\n",
    "- **Error lógico**: A la hora de programar hay algo que se nos pasó por alto y aunque el código esté bien escrito, el resultado que obtendremos no tiene que ser el deseado.\n",
    "- **Error en tiempo de ejecución**: Durante la ejecución de nuestro código, algo inesperado ocurre y nuestro código\ttermina la ejecución de manera forzada.\n",
    "\n",
    "Sea cual sea el tipo de error al que nos enfrentemos, a veces necesitamos que nuestro código siga funcionando.\n",
    "\n",
    "Un ejemplo sería abrir 2 archivos y que uno de ellos no exista. <br>\n",
    "Si el otro si existe quizás nos interese procesar el que si existe y ya veremos que pasa con el que falta.\n",
    "\n",
    "Para tener un mayor control sobre qué ocurre en nuestro código, existe la estructura **try-except-else-finally**.\n",
    "\n",
    "Sintaxis:\n",
    "- try:\n",
    "    - code\n",
    "- except:\n",
    "    - code\n",
    "- else:\n",
    "    - code\n",
    "- finally:\n",
    "    - code\n",
    "\n",
    "No necesariamente tienen que estar las 4 partes presentes en un código. Normalmente se suele escribir más la estructura:\n",
    "\n",
    "- try:\n",
    "    - code\n",
    "- except:\n",
    "    - code\n",
    "\n",
    "El significado de cada parte es el siguiente:\n",
    "- **try**:\n",
    "    - Encierra el código que queremos ejecutar. Si algo falla, se salta a **except** en caso de que esté escrita esa parte.\n",
    "- **except**:\n",
    "    - Captura lo que se conoce como **excepción**. \n",
    "    - Podemos escribir simplemente **except:** y escribir un código que gestione el error como un mensaje indicando que algo falló o escribir **except Exception as alias**.\n",
    "    - **except ExceptionType as alias**:\n",
    "        - Con esta sintaxis estamos indicando que solo queremos controlar la excepción que hemos indicado. Si ocurre otra que no hayamos indicado, el código\tseguirá fallando y podría pararse la ejecución.\n",
    "- **else**:\n",
    "    - Permite definir una parte de código que se ejecutará en caso de la parte dentro de **try** se haya ejecutado correctamente.\n",
    "- **finally**:\n",
    "    - Permite definir una parte de código que sí o sí se ejecutará independientemente de si ocurre algún error o no."
   ]
  },
  {
   "cell_type": "markdown",
   "metadata": {},
   "source": [
    "### Ejemplo 1 | Error descontrolado"
   ]
  },
  {
   "cell_type": "code",
   "execution_count": 23,
   "metadata": {},
   "outputs": [
    {
     "ename": "TypeError",
     "evalue": "unsupported operand type(s) for +: 'int' and 'str'",
     "output_type": "error",
     "traceback": [
      "\u001b[1;31m---------------------------------------------------------------------------\u001b[0m",
      "\u001b[1;31mTypeError\u001b[0m                                 Traceback (most recent call last)",
      "\u001b[1;32mc:\\Users\\sergi\\Documents\\repos\\python_course\\tutoriales\\03_control_de_flujo.ipynb Cell 46\u001b[0m line \u001b[0;36m1\n\u001b[1;32m----> <a href='vscode-notebook-cell:/c%3A/Users/sergi/Documents/repos/python_course/tutoriales/03_control_de_flujo.ipynb#X63sZmlsZQ%3D%3D?line=0'>1</a>\u001b[0m \u001b[39m1\u001b[39;49m \u001b[39m+\u001b[39;49m \u001b[39m'\u001b[39;49m\u001b[39ma\u001b[39;49m\u001b[39m'\u001b[39;49m\n\u001b[0;32m      <a href='vscode-notebook-cell:/c%3A/Users/sergi/Documents/repos/python_course/tutoriales/03_control_de_flujo.ipynb#X63sZmlsZQ%3D%3D?line=2'>3</a>\u001b[0m \u001b[39m'\u001b[39m\u001b[39mEjecución sin errores\u001b[39m\u001b[39m'\u001b[39m\n",
      "\u001b[1;31mTypeError\u001b[0m: unsupported operand type(s) for +: 'int' and 'str'"
     ]
    }
   ],
   "source": [
    "1 + 'a'\n",
    "\n",
    "'Ejecución sin errores'"
   ]
  },
  {
   "cell_type": "markdown",
   "metadata": {},
   "source": [
    "### Ejemplo 2 | Manejo de la situación del ejemplo 1\n",
    "\n",
    "Por normal general no podemos realizar operaciones entre distintos tipos de datos. <br>\n",
    "En el caso de arriba vemos que no podemos sumar un número con una letra."
   ]
  },
  {
   "cell_type": "code",
   "execution_count": 24,
   "metadata": {},
   "outputs": [
    {
     "data": {
      "text/plain": [
       "'Ejecución sin errores'"
      ]
     },
     "execution_count": 24,
     "metadata": {},
     "output_type": "execute_result"
    }
   ],
   "source": [
    "try:\n",
    "    1 + 'a'\n",
    "except:\n",
    "    pass\n",
    "\n",
    "'Ejecución sin errores'"
   ]
  },
  {
   "cell_type": "markdown",
   "metadata": {},
   "source": [
    "### Ejemplo 3 | Capturar una excepción específica\n",
    "\n",
    "En este caso vamos a tratar solo de controlar la excepción **FileNotFoundError**. Esta ocurre cuando queremos abrir un archivo pero python no lo encuentra.\n",
    "Es normal que cuando se ejecute este código nos salte un error porque la excepción que ocurre es **TypeError** porque no estamos abriendo archivos, estamos realizando operaciones entre datos de distinto tipo."
   ]
  },
  {
   "cell_type": "code",
   "execution_count": 25,
   "metadata": {},
   "outputs": [
    {
     "ename": "TypeError",
     "evalue": "unsupported operand type(s) for +: 'int' and 'str'",
     "output_type": "error",
     "traceback": [
      "\u001b[1;31m---------------------------------------------------------------------------\u001b[0m",
      "\u001b[1;31mTypeError\u001b[0m                                 Traceback (most recent call last)",
      "\u001b[1;32mc:\\Users\\sergi\\Documents\\repos\\python_course\\tutoriales\\03_control_de_flujo.ipynb Cell 50\u001b[0m line \u001b[0;36m2\n\u001b[0;32m      <a href='vscode-notebook-cell:/c%3A/Users/sergi/Documents/repos/python_course/tutoriales/03_control_de_flujo.ipynb#Y101sZmlsZQ%3D%3D?line=0'>1</a>\u001b[0m \u001b[39mtry\u001b[39;00m:\n\u001b[1;32m----> <a href='vscode-notebook-cell:/c%3A/Users/sergi/Documents/repos/python_course/tutoriales/03_control_de_flujo.ipynb#Y101sZmlsZQ%3D%3D?line=1'>2</a>\u001b[0m     \u001b[39m1\u001b[39;49m \u001b[39m+\u001b[39;49m \u001b[39m'\u001b[39;49m\u001b[39ma\u001b[39;49m\u001b[39m'\u001b[39;49m\n\u001b[0;32m      <a href='vscode-notebook-cell:/c%3A/Users/sergi/Documents/repos/python_course/tutoriales/03_control_de_flujo.ipynb#Y101sZmlsZQ%3D%3D?line=2'>3</a>\u001b[0m \u001b[39mexcept\u001b[39;00m \u001b[39mFileNotFoundError\u001b[39;00m \u001b[39mas\u001b[39;00m e:\n\u001b[0;32m      <a href='vscode-notebook-cell:/c%3A/Users/sergi/Documents/repos/python_course/tutoriales/03_control_de_flujo.ipynb#Y101sZmlsZQ%3D%3D?line=3'>4</a>\u001b[0m     \u001b[39mpass\u001b[39;00m\n",
      "\u001b[1;31mTypeError\u001b[0m: unsupported operand type(s) for +: 'int' and 'str'"
     ]
    }
   ],
   "source": [
    "try:\n",
    "    1 + 'a'\n",
    "except FileNotFoundError as e:\n",
    "    pass\n",
    "\n",
    "'Ejecución sin errores'"
   ]
  },
  {
   "cell_type": "markdown",
   "metadata": {},
   "source": [
    "### Ejemplo 4 | Manejo de multiples excepciones de manera específica"
   ]
  },
  {
   "cell_type": "code",
   "execution_count": 26,
   "metadata": {},
   "outputs": [
    {
     "data": {
      "text/plain": [
       "'Ejecución sin errores'"
      ]
     },
     "execution_count": 26,
     "metadata": {},
     "output_type": "execute_result"
    }
   ],
   "source": [
    "try:\n",
    "    1 + 'a'\n",
    "except (FileNotFoundError, TypeError) as e:\n",
    "    pass\n",
    "\n",
    "'Ejecución sin errores'"
   ]
  },
  {
   "cell_type": "markdown",
   "metadata": {},
   "source": [
    "### Ejemplo 5 | Aplicación estructura try-except-else-finally"
   ]
  },
  {
   "cell_type": "markdown",
   "metadata": {},
   "source": [
    "Caso (a)"
   ]
  },
  {
   "cell_type": "code",
   "execution_count": 27,
   "metadata": {},
   "outputs": [
    {
     "data": {
      "text/plain": [
       "('Ejecución sin errores', 1, -1)"
      ]
     },
     "execution_count": 27,
     "metadata": {},
     "output_type": "execute_result"
    }
   ],
   "source": [
    "numero_else : int = 1\n",
    "numero_finally : int = 1\n",
    "\n",
    "try:\n",
    "    1 + 'a'\n",
    "except (FileNotFoundError, TypeError) as e:\n",
    "    pass\n",
    "else:\n",
    "    numero_else = 2\n",
    "finally:\n",
    "    numero_finally = -1\n",
    "\n",
    "'Ejecución sin errores', numero_else, numero_finally"
   ]
  },
  {
   "cell_type": "markdown",
   "metadata": {},
   "source": [
    "Caso (b)"
   ]
  },
  {
   "cell_type": "code",
   "execution_count": 28,
   "metadata": {},
   "outputs": [
    {
     "data": {
      "text/plain": [
       "('Ejecución sin errores', 2, -1)"
      ]
     },
     "execution_count": 28,
     "metadata": {},
     "output_type": "execute_result"
    }
   ],
   "source": [
    "numero_else : int = 1\n",
    "numero_finally : int = 1\n",
    "\n",
    "try:\n",
    "    1 + 1\n",
    "except (FileNotFoundError, TypeError) as e:\n",
    "    pass\n",
    "else:\n",
    "    numero_else = 2\n",
    "finally:\n",
    "    numero_finally = -1\n",
    "\n",
    "'Ejecución sin errores', numero_else, numero_finally"
   ]
  }
 ],
 "metadata": {
  "kernelspec": {
   "display_name": "course-venv",
   "language": "python",
   "name": "python3"
  },
  "language_info": {
   "codemirror_mode": {
    "name": "ipython",
    "version": 3
   },
   "file_extension": ".py",
   "mimetype": "text/x-python",
   "name": "python",
   "nbconvert_exporter": "python",
   "pygments_lexer": "ipython3",
   "version": "3.10.11"
  },
  "orig_nbformat": 4
 },
 "nbformat": 4,
 "nbformat_minor": 2
}
