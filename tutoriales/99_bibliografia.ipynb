{
 "cells": [
  {
   "attachments": {},
   "cell_type": "markdown",
   "metadata": {},
   "source": [
    "# Bibliografía\n",
    "\n",
    "## Canales de YouTube\n",
    "- Indently: https://www.youtube.com/@Indently\n",
    "- Píldoras informáticas: https://www.youtube.com/watch?v=G2FCfQj-9ig&list=PLU8oAlHdN5BlvPxziopYZRd55pdqFwkeS\n",
    "\n",
    "## Documentación de Python\n",
    "- https://docs.python.org/3/\n",
    "- Funciones Built-in: https://docs.python.org/es/3.11/library/functions.html\n",
    "\n",
    "## Librerias usadas\n",
    "- openpyxl: https://openpyxl.readthedocs.io/en/stable/index.html\n",
    "- numpy: https://numpy.org/doc/stable/\n",
    "- pandas: https://pandas.pydata.org/docs/\n",
    "- matplotlib: https://matplotlib.org/\n",
    "- seaborn: https://seaborn.pydata.org/index.html\n",
    "- csv: https://docs.python.org/3/library/csv.html\n",
    "- json: https://docs.python.org/es/3/library/json.html\n",
    "- yaml: https://pyyaml.org/wiki/PyYAMLDocumentation\n",
    "- rasterio: https://rasterio.readthedocs.io/en/stable/\n",
    "- pprint: https://docs.python.org/3/library/pprint.html\n",
    "\n",
    "## Contenido Extra\n",
    "- El libro de Python: https://ellibrodepython.com/\n",
    "- Otras librerías para Ciencia: https://devopedia.org/python-for-scientific-computing\n",
    "\n",
    "## Juegos para aprender\n",
    "- NotNiNi: https://app.notnini.com/\n",
    "\n",
    "## Referencias:\n",
    "- ¿Qué es un código?: https://piperlab.es/glosario-de-big-data/codigo/\n",
    "- Sintáxis de una variable: https://realpython.com/python-variables/\n",
    "- Nombres: http://www.alan-g.me.uk/tutor/spanish/tutname.htm>"
   ]
  }
 ],
 "metadata": {
  "kernelspec": {
   "display_name": "course-venv",
   "language": "python",
   "name": "python3"
  },
  "language_info": {
   "codemirror_mode": {
    "name": "ipython",
    "version": 3
   },
   "file_extension": ".py",
   "mimetype": "text/x-python",
   "name": "python",
   "nbconvert_exporter": "python",
   "pygments_lexer": "ipython3",
   "version": "3.10.11"
  },
  "orig_nbformat": 4
 },
 "nbformat": 4,
 "nbformat_minor": 2
}
