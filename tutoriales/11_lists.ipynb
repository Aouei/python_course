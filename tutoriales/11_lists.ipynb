{
 "cells": [
  {
   "attachments": {},
   "cell_type": "markdown",
   "metadata": {},
   "source": [
    "# La clase Lista\n",
    "\n",
    "Poco a poco vamos afianzando la idea de que en Python todo son objetos. <br>\n",
    "Lo importante es saber que un objeto tiene métodos y atributos. <br>\n",
    "Los atributos son variables y los métodos son funciones que actuan sobre el objeto.\n",
    "Podemos acceder a los atributos y métodos a través de la notación punto. **objeto.método()** \n",
    "\n",
    "Bien, tras recordar esto un poco, vamos a explicar cómo se trabajan con las listas y vamos a dar algunos nuevos conceptos sobre el tipo de dato **Secuencia**.<br>\n",
    "Recordemos que los strings, las listas y las tuplas son Secuencias."
   ]
  },
  {
   "attachments": {},
   "cell_type": "markdown",
   "metadata": {},
   "source": [
    "## Métodos de las listas"
   ]
  },
  {
   "cell_type": "code",
   "execution_count": 1,
   "metadata": {},
   "outputs": [
    {
     "name": "stdout",
     "output_type": "stream",
     "text": [
      "--------------------------------------------------\n",
      "PRE append(obj): []\n",
      "POST append(obj): [1]\n",
      "--------------------------------------------------\n",
      "lista2=[1, 2, 3, 4, 1, 1, 1, 2].count(obj): 4\n",
      "--------------------------------------------------\n",
      "PRE extend(iterable): [1]\n",
      "POST extend(iterable): [1, 1, 2, 3]\n",
      "--------------------------------------------------\n",
      "PRE copy(): [1, 1, 2, 3]\n",
      "ID lista_copia: 2000640928192 ID lista: 2000640928192 ¿Idénticos? True\n",
      "ID lista_copia: 2000640926144 ID lista: 2000640928192 ¿Idénticos? False\n",
      "POST copy(): [1, 1, 2, 3]\n",
      "--------------------------------------------------\n",
      "lista2=[1, 2, 3, 4, 1, 1, 1, 2].index(obj): 0\n",
      "Si busco algo que no está en la lista: \"-1 is not in list\"\n",
      "--------------------------------------------------\n",
      "PRE insert(index, object): [1, 1, 2, 3]\n",
      "POST insert(index, object): [-991, 1, 1, 2, 3]\n",
      "--------------------------------------------------\n",
      "PRE pop(index): [-991, 1, 1, 2, 3]\n",
      "POST pop(index): [1, 1, 2, 3]\n",
      "--------------------------------------------------\n",
      "PRE remove(object): [1, 1, 2, 3]\n",
      "Si elimino algo que no está en la lista: \"list.remove(x): x not in list\"\n",
      "POST remove(object): [1, 2, 3]\n",
      "--------------------------------------------------\n",
      "PRE reverse(): [1, 2, 3]\n",
      "POST reverse(): [3, 2, 1]\n",
      "--------------------------------------------------\n",
      "PRE sort(): [3, 2, 1]\n",
      "POST sort(): [1, 2, 3]\n",
      "--------------------------------------------------\n",
      "PRE clear(): [1, 2, 3]\n",
      "POST clear(): []\n",
      "--------------------------------------------------\n"
     ]
    }
   ],
   "source": [
    "lista = []\n",
    "lista2 = [1, 2, 3, 4, 1, 1,  1, 2]\n",
    "\n",
    "###############################################################################################################################################################\n",
    "print(end = f'{\"-\" * 50}\\n')\n",
    "print('PRE append(obj):', lista)\n",
    "lista.append(1)\n",
    "print('POST append(obj):', lista, end = f'\\n{\"-\" * 50}\\n')\n",
    "\n",
    "###############################################################################################################################################################\n",
    "print(f'{lista2=}.count(obj):', lista2.count(1), end = f'\\n{\"-\" * 50}\\n')\n",
    "\n",
    "###############################################################################################################################################################\n",
    "print('PRE extend(iterable):', lista)\n",
    "lista.extend([1, 2, 3])\n",
    "print('POST extend(iterable):', lista, end = f'\\n{\"-\" * 50}\\n')\n",
    "\n",
    "###############################################################################################################################################################\n",
    "print('PRE copy():', lista)\n",
    "lista_copia = lista\n",
    "print('ID lista_copia:', id(lista_copia), 'ID lista:', id(lista), '¿Idénticos?', id(lista_copia) == id(lista))\n",
    "lista_copia = lista.copy()\n",
    "print('ID lista_copia:', id(lista_copia), 'ID lista:', id(lista), '¿Idénticos?', id(lista_copia) == id(lista))\n",
    "print('POST copy():', lista, end = f'\\n{\"-\" * 50}\\n')\n",
    "\n",
    "###############################################################################################################################################################\n",
    "print(f'{lista2=}.index(obj):', lista2.index(1))\n",
    "try:\n",
    "    print(f'{lista2=}.index(obj):', lista2.index(-1))\n",
    "except ValueError as exception:\n",
    "    print('Si busco algo que no está en la lista:', f'\"{exception}\"', end = f'\\n{\"-\" * 50}\\n')\n",
    "\n",
    "###############################################################################################################################################################\n",
    "print('PRE insert(index, object):', lista)\n",
    "lista.insert(0, -991)\n",
    "print('POST insert(index, object):', lista, end = f'\\n{\"-\" * 50}\\n')\n",
    "\n",
    "###############################################################################################################################################################\n",
    "print('PRE pop(index):', lista)\n",
    "lista.pop(0)\n",
    "print('POST pop(index):', lista, end = f'\\n{\"-\" * 50}\\n')\n",
    "\n",
    "###############################################################################################################################################################\n",
    "print('PRE remove(object):', lista)\n",
    "lista.remove(1)\n",
    "try:\n",
    "    lista.remove(0)\n",
    "except ValueError as exception:\n",
    "    print('Si elimino algo que no está en la lista:', f'\"{exception}\"')\n",
    "\n",
    "print('POST remove(object):', lista, end = f'\\n{\"-\" * 50}\\n')\n",
    "\n",
    "###############################################################################################################################################################\n",
    "print('PRE reverse():', lista)\n",
    "lista.reverse()\n",
    "print('POST reverse():', lista, end = f'\\n{\"-\" * 50}\\n')\n",
    "\n",
    "###############################################################################################################################################################\n",
    "print('PRE sort():', lista)\n",
    "lista.sort()\n",
    "print('POST sort():', lista, end = f'\\n{\"-\" * 50}\\n')\n",
    "\n",
    "###############################################################################################################################################################\n",
    "print('PRE clear():', lista)\n",
    "lista.clear()\n",
    "print('POST clear():', lista, end = f'\\n{\"-\" * 50}\\n')"
   ]
  },
  {
   "attachments": {},
   "cell_type": "markdown",
   "metadata": {},
   "source": [
    "Los métodos de las listas, a diferencia de los strings, de normal son inplace. Es decir, objeto.método(params) modifica el objeto dentro del código del método y devuelve None. <br>\n",
    "Esto hace que no podamos concatenar varias funciones. Si queremos hacer varias operaciones debemos escribir una nueva linea por operacion."
   ]
  },
  {
   "cell_type": "code",
   "execution_count": 3,
   "metadata": {},
   "outputs": [],
   "source": [
    "lista = []\n",
    "\n",
    "lista.append(1)\n",
    "lista.append(0)\n",
    "lista.remove(0)\n",
    "\n",
    "# No podemos hacer [].append(1).append(0).remove(0)."
   ]
  },
  {
   "attachments": {},
   "cell_type": "markdown",
   "metadata": {},
   "source": [
    "## Acceso a los elementos de las secuencias"
   ]
  },
  {
   "attachments": {},
   "cell_type": "markdown",
   "metadata": {},
   "source": [
    "### Acceso a un elemento concreto por índice"
   ]
  },
  {
   "cell_type": "code",
   "execution_count": 65,
   "metadata": {},
   "outputs": [
    {
     "name": "stdout",
     "output_type": "stream",
     "text": [
      "1\n",
      "2\n",
      "9\n",
      "8\n"
     ]
    }
   ],
   "source": [
    "lista = [1, 2, 3, 4, 5, 6, 7, 8, 9]\n",
    "\n",
    "print(lista[0]) # El primer elemento empieza en el cero\n",
    "print(lista[1])\n",
    "print(lista[-1]) # Si queremos acceder desde el último elemento pero no queremo usar el índice exacto (o no lo conocemos), usamos -1, -2, ...\n",
    "print(lista[-2]) # Si queremos acceder desde el último elemento pero no queremo usar el índice exacto (o no lo conocemos), usamos -1, -2, ..."
   ]
  },
  {
   "attachments": {},
   "cell_type": "markdown",
   "metadata": {},
   "source": [
    "### Slicing\n",
    "\n",
    "Si tenemos una secuencia, podemos obtener una subsecuencia a usando la nomenclatura. <br>\n",
    "secuencia[start : end : step]\n",
    "\n",
    "Con esto, obtenemos una subsecuencia a partir de una patrón de índices.\n",
    "\n",
    "Ejemplo:\n",
    "\n",
    "**[0 : 10 : 1]** -> 0, 1, 2, 3, 4, 5, 6, 7, 8, 9 || El número **end**, en este caso 10, **nunca se incluye** en los índices generados <br>\n",
    "**[0 : 10 : 2]** -> 0, 2, 4, 6, 8 || El número **end**, en este caso 10, **nunca se incluye** en los índices generados <br>\n",
    "**[0 : None]** -> Devuelve todos los índices, la secuencia completa. end = None equivale a len(secuencia). <br>\n",
    "**[:]** -> Devuelve todos los índices. Es una copia de la lista. Lo mismo que hacer lista.copy() <br>\n",
    "**[::]** -> Devuelve todos los índices. Es una copia de la lista. Lo mismo que hacer lista.copy() <br>\n",
    "**[::-1]** -> Devuelve la lista invertida. Ej [0, 1, 2][::-1] -> [2, 1, 0]"
   ]
  },
  {
   "cell_type": "code",
   "execution_count": 2,
   "metadata": {},
   "outputs": [
    {
     "name": "stdout",
     "output_type": "stream",
     "text": [
      "[0, 1, 2, 3, 4, 5, 6, 7, 8, 9]\n",
      "[0, 2, 4, 6, 8]\n",
      "[0, 1, 2, 3, 4, 5, 6, 7, 8, 9, 10] ------ [0, 1, 2, 3, 4, 5, 6, 7, 8, 9, 10]\n",
      "[0, 1, 2, 3, 4, 5, 6, 7, 8, 9]\n",
      "[0, 1, 2, 3, 4, 5, 6, 7, 8, 9, 10]\n",
      "[0, 1, 2, 3, 4, 5, 6, 7, 8, 9, 10]\n"
     ]
    }
   ],
   "source": [
    "lista = [0, 1, 2, 3, 4, 5, 6, 7, 8, 9, 10]\n",
    "\n",
    "print(lista[0 : 10 : 1])\n",
    "print(lista[0 : 10 : 2])\n",
    "print(lista[0 : None], '------', lista[0 : len(lista)])\n",
    "print(lista[0 : -1]) # Si queremos incluir el último elemento usar None, nunca -1\n",
    "print(lista[:]) # Si queremos incluir el último elemento usar None, nunca -1\n",
    "print(lista[::]) # Si queremos incluir el último elemento usar None, nunca -1"
   ]
  },
  {
   "attachments": {},
   "cell_type": "markdown",
   "metadata": {},
   "source": [
    "### Modificar un elemento\n",
    "\n",
    "Depende del dato que almacena la secuencia. <br>\n",
    "Si tenemos una lista de enteros, podemos sumar, restar, ... <br>\n",
    "Si tenemos una lista de listas, podemos aplicar métodos de listas, ... <br>"
   ]
  },
  {
   "cell_type": "code",
   "execution_count": 77,
   "metadata": {},
   "outputs": [
    {
     "name": "stdout",
     "output_type": "stream",
     "text": [
      "[-90, 2, 3, 4, 5, 6, 7, 8, 9]\n",
      "[[1], []]\n"
     ]
    }
   ],
   "source": [
    "lista_enteros = [1, 2, 3, 4, 5, 6, 7, 8, 9]\n",
    "\n",
    "lista_enteros[0] = -1 # Asignar un dato\n",
    "lista_enteros[0] *= 90 # Hace una operacion y asignar\n",
    "lista_enteros[1] * 0 # Si no ponemos el operacion de asignación, el dato de la lista no se modifica || Al menos en este caso que el dato es inmmutable.\n",
    "print(lista_enteros)\n",
    "\n",
    "lista_listas = [[], []]\n",
    "\n",
    "lista_listas[0].append(1)\n",
    "print(lista_listas) # En este caso al ser mutable, si un método modifica el dato en cuestión pos listo, no es necesario usar el operador de asignación."
   ]
  },
  {
   "attachments": {},
   "cell_type": "markdown",
   "metadata": {},
   "source": [
    "## Consejo 1 | No modificar e iterar sobre la misma lista\n",
    "\n",
    "Si tenemos una lista y queremos eliminar o añadir elementos a la vez que recorremos dicha lista, lo correcto es una de dos:\n",
    "- Recorrer una copia y modificar la lista original\n",
    "- Recorrer la lista original y modificar la copia"
   ]
  },
  {
   "cell_type": "code",
   "execution_count": 8,
   "metadata": {},
   "outputs": [
    {
     "name": "stdout",
     "output_type": "stream",
     "text": [
      "[2, 4, 5, 6, 7, 8, 9]\n",
      "[5, 6, 7, 8, 9]\n",
      "[5, 6, 7, 8, 9]\n"
     ]
    }
   ],
   "source": [
    "lista = [1, 2, 3, 4, 5, 6, 7, 8, 9]\n",
    "\n",
    "for i in lista:\n",
    "    if i < 5:\n",
    "        lista.remove(i)\n",
    "\n",
    "print(lista)\n",
    "\n",
    "###############################################################################################################################################################\n",
    "\n",
    "lista = [1, 2, 3, 4, 5, 6, 7, 8, 9]\n",
    "\n",
    "for i in lista[:]:\n",
    "    if i < 5:\n",
    "        lista.remove(i)\n",
    "\n",
    "print(lista)\n",
    "\n",
    "###############################################################################################################################################################\n",
    "\n",
    "lista = [1, 2, 3, 4, 5, 6, 7, 8, 9]\n",
    "\n",
    "for i in lista.copy():\n",
    "    if i < 5:\n",
    "        lista.remove(i)\n",
    "\n",
    "print(lista)"
   ]
  }
 ],
 "metadata": {
  "kernelspec": {
   "display_name": "course-venv",
   "language": "python",
   "name": "python3"
  },
  "language_info": {
   "codemirror_mode": {
    "name": "ipython",
    "version": 3
   },
   "file_extension": ".py",
   "mimetype": "text/x-python",
   "name": "python",
   "nbconvert_exporter": "python",
   "pygments_lexer": "ipython3",
   "version": "3.10.11"
  },
  "orig_nbformat": 4
 },
 "nbformat": 4,
 "nbformat_minor": 2
}
