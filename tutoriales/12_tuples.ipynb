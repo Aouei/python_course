{
 "cells": [
  {
   "attachments": {},
   "cell_type": "markdown",
   "metadata": {},
   "source": [
    "# La clase Tupla\n",
    "\n",
    "La clase tupla tiene en algunos sentidos un comportamiento similar a la lista. <br>\n",
    "- Podemos acceder a elementos sueltos\n",
    "- Podemos hacer slicing y obtener subsecuencias\n",
    "\n",
    "Pero, la gran diferencia es que la tupla es inmutable, lo que significa que si queremos añadir o quitar el elementos, tenemos que crear una nueva tupla.\n",
    "Si queremos modificar elementos, que ya existen en la tupla, no podemos hacerlo a no ser que algunos se sus datos sean mutables."
   ]
  },
  {
   "attachments": {},
   "cell_type": "markdown",
   "metadata": {},
   "source": [
    "## Métodos de las tuplas"
   ]
  },
  {
   "cell_type": "code",
   "execution_count": 2,
   "metadata": {},
   "outputs": [
    {
     "name": "stdout",
     "output_type": "stream",
     "text": [
      "tupla=(1, 2, 3, 4, 1, 1, 1, 2).count(obj): 4\n",
      "--------------------------------------------------\n",
      "tupla=(1, 2, 3, 4, 1, 1, 1, 2).index(obj): 0\n",
      "Si busco algo que no está en la lista: \"tuple.index(x): x not in tuple\"\n",
      "--------------------------------------------------\n"
     ]
    }
   ],
   "source": [
    "tupla = (1, 2, 3, 4, 1, 1,  1, 2)\n",
    "\n",
    "print(f'{tupla=}.count(obj):', tupla.count(1), end = f'\\n{\"-\" * 50}\\n')\n",
    "\n",
    "###############################################################################################################################################################\n",
    "\n",
    "print(f'{tupla=}.index(obj):', tupla.index(1))\n",
    "try:\n",
    "    print(f'{tupla=}.index(obj):', tupla.index(-1))\n",
    "except ValueError as exception:\n",
    "    print('Si busco algo que no está en la lista:', f'\"{exception}\"', end = f'\\n{\"-\" * 50}\\n')"
   ]
  },
  {
   "attachments": {},
   "cell_type": "markdown",
   "metadata": {},
   "source": [
    "## Modificar elementos mutables pero no inmutables"
   ]
  },
  {
   "cell_type": "code",
   "execution_count": 7,
   "metadata": {},
   "outputs": [
    {
     "name": "stdout",
     "output_type": "stream",
     "text": [
      "'tuple' object does not support item assignment\n",
      "([1], 1, 2)\n"
     ]
    }
   ],
   "source": [
    "tupla = ([], 1, 2)\n",
    "\n",
    "try:\n",
    "    tupla[1] = 2\n",
    "    print(tupla)\n",
    "except TypeError as exception:\n",
    "    print(exception)\n",
    "\n",
    "tupla[0].append(1)\n",
    "\n",
    "print(tupla) # Cambió la tupla"
   ]
  },
  {
   "attachments": {},
   "cell_type": "markdown",
   "metadata": {},
   "source": [
    "Lo que la tupla indica es que los elementos de la misma no pueden cambiar de id (digamos posición de memoria). <br>\n",
    "En otras palabras, la tupla ([], 1, 2) tiene 3 elementos. Cada elemento tiene un id. La tupla garantiza que los ids, no cambian. <br>\n",
    "O lo que es lo mismo, el dato no puede ser modificado por otro porque 2 datos distintos tienen ids distintos. Se guardan en diferentes zonas de memoria.\n",
    "\n",
    "Adémas, el error **'tuple' object does not support item assignment** se debe a que la clase Tupla no tiene el método **__setitem__** que permite hacer **lista[key] = value**."
   ]
  }
 ],
 "metadata": {
  "kernelspec": {
   "display_name": "course-venv",
   "language": "python",
   "name": "python3"
  },
  "language_info": {
   "codemirror_mode": {
    "name": "ipython",
    "version": 3
   },
   "file_extension": ".py",
   "mimetype": "text/x-python",
   "name": "python",
   "nbconvert_exporter": "python",
   "pygments_lexer": "ipython3",
   "version": "3.10.11"
  },
  "orig_nbformat": 4
 },
 "nbformat": 4,
 "nbformat_minor": 2
}
